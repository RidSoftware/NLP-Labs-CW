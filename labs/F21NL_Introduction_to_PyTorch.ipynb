{
  "cells": [
    {
      "cell_type": "markdown",
      "metadata": {
        "id": "BWK5GB04DOwf"
      },
      "source": [
        "# F21NL 2025-26: Introduction to PyTorch\n",
        "\n",
        "Content of this tutorial is delivered during the 'F20NL/F21NL - Introduction to Natural Language Processing' course at Heriot-Watt University.\n",
        "\n",
        "### What is PyTorch?\n",
        "PyTorch is an optimized tensor library for deep learning using GPUs and CPUs. This is the key library that we will use to implement all the Machine Learning components that we will be studying during F21NL.\n",
        "\n",
        "### How do I install it?\n",
        "\n",
        "Go to the official documentation on the PyTorch website and select the version you prefer depending on your operating system: https://pytorch.org/get-started/locally/\n",
        "\n",
        "Always refer to the official documentation to better understand how certain methods work: https://pytorch.org/docs/stable/index.html\n",
        "\n",
        "On Google Colab, we can directly use PyTorch because it's already installed. Let's see how we can use it.\n"
      ]
    },
    {
      "cell_type": "code",
      "execution_count": null,
      "metadata": {
        "id": "ZemJDgk2DMQQ"
      },
      "outputs": [],
      "source": [
        "!pip install torch numpy matplotlib -U"
      ]
    },
    {
      "cell_type": "code",
      "execution_count": null,
      "metadata": {
        "id": "GrxWuIvw7Ekj"
      },
      "outputs": [],
      "source": [
        "import torch\n",
        "import matplotlib.pyplot as plt\n",
        "import numpy as np\n",
        "%matplotlib inline"
      ]
    },
    {
      "cell_type": "markdown",
      "metadata": {
        "id": "Oy-lU3U4Da07"
      },
      "source": [
        "## Part 0: Tensor manipulations"
      ]
    },
    {
      "cell_type": "markdown",
      "metadata": {
        "id": "0XuR_PcfDdUO"
      },
      "source": [
        "### Tensors\n",
        "\n",
        "Tensors are a specialized data structure that are very similar to arrays and matrices. In PyTorch, we use tensors to encode the inputs and outputs of a model, as well as the model's parameters.\n",
        "\n",
        "Tensors are similar to NumPy's ndarrays, except that tensors can run on GPUs or other specialized hardware to accelerate computing. If you're familiar with ndarrays, you'll be right at home with the Tensor API. If not, follow along in this quick API walkthrough."
      ]
    },
    {
      "cell_type": "code",
      "execution_count": null,
      "metadata": {
        "id": "z4U1Q8imDfn7"
      },
      "outputs": [],
      "source": [
        "# Directly from data\n",
        "\n",
        "# Tensors can be created directly from data. The data type is automatically inferred.\n",
        "\n",
        "data = [[1, 2], [3, 4]]\n",
        "x_data = torch.tensor(data)\n",
        "\n",
        "display(x_data)"
      ]
    },
    {
      "cell_type": "code",
      "execution_count": null,
      "metadata": {
        "id": "FxCm73QSDg_t"
      },
      "outputs": [],
      "source": [
        "# We can create a tensor from a NumPy array\n",
        "\n",
        "np_array = np.array(data)\n",
        "x_np = torch.from_numpy(np_array)"
      ]
    },
    {
      "cell_type": "code",
      "execution_count": null,
      "metadata": {
        "id": "ASypcr_HDroF"
      },
      "outputs": [],
      "source": [
        "shape = (2, 3,)\n",
        "rand_tensor = torch.rand(shape)\n",
        "ones_tensor = torch.ones(shape)\n",
        "zeros_tensor = torch.zeros(shape)\n",
        "\n",
        "print(f\"Random Tensor: \\n {rand_tensor} \\n\")\n",
        "print(f\"Ones Tensor: \\n {ones_tensor} \\n\")\n",
        "print(f\"Zeros Tensor: \\n {zeros_tensor}\")"
      ]
    },
    {
      "cell_type": "markdown",
      "metadata": {
        "id": "jqB632WsDw_5"
      },
      "source": [
        "### Tensor attributes\n",
        "\n",
        "Given an initialised tensor, we can derive important attributes that will be useful during the design and training of our models."
      ]
    },
    {
      "cell_type": "code",
      "execution_count": null,
      "metadata": {
        "id": "1cvC3BerDuF7"
      },
      "outputs": [],
      "source": [
        "tensor = torch.rand(3, 4)\n",
        "\n",
        "print(f\"Shape of tensor: {tensor.shape}\")\n",
        "print(f\"Datatype of tensor: {tensor.dtype}\")\n",
        "print(f\"Device tensor is stored on: {tensor.device}\")"
      ]
    },
    {
      "cell_type": "markdown",
      "metadata": {
        "id": "capx5e2AD5yg"
      },
      "source": [
        "### Tensor operations\n",
        "\n",
        "We can manipulate tensors in PyTorch in a similar fashion to NumPy. For example, we can perform sums, products, slicing and indexing."
      ]
    },
    {
      "cell_type": "code",
      "execution_count": null,
      "metadata": {
        "id": "PoUbwk8yD5Fa"
      },
      "outputs": [],
      "source": [
        "tensor = torch.ones(4, 4)\n",
        "tensor[:,1] = 0\n",
        "print(tensor)"
      ]
    },
    {
      "cell_type": "code",
      "execution_count": null,
      "metadata": {
        "id": "-Yh3uIHHD9a6"
      },
      "outputs": [],
      "source": [
        "# we can concatenate tensors\n",
        "\n",
        "t1 = torch.cat([tensor, tensor, tensor], dim=1)\n",
        "print(t1)"
      ]
    },
    {
      "cell_type": "code",
      "execution_count": null,
      "metadata": {
        "id": "rw6xqbgoD_iD"
      },
      "outputs": [],
      "source": [
        "# we can multiply tensors\n",
        "\n",
        "# This computes the element-wise product\n",
        "print(f\"tensor.mul(tensor) \\n {tensor.mul(tensor)} \\n\")\n",
        "# Alternative syntax:\n",
        "print(f\"tensor * tensor \\n {tensor * tensor}\")"
      ]
    },
    {
      "cell_type": "code",
      "execution_count": null,
      "metadata": {
        "id": "Z3wk-smPEBxa"
      },
      "outputs": [],
      "source": [
        "# this computes the matrix multiplication\n",
        "\n",
        "print(f\"tensor.matmul(tensor.T) \\n {tensor.matmul(tensor.T)} \\n\")\n",
        "# Alternative syntax:\n",
        "print(f\"tensor @ tensor.T \\n {tensor @ tensor.T}\")"
      ]
    },
    {
      "cell_type": "code",
      "execution_count": null,
      "metadata": {
        "id": "ADPMgsXnEDTq"
      },
      "outputs": [],
      "source": [
        "# if you want to go back to NumPy\n",
        "\n",
        "t = torch.ones(5)\n",
        "print(f\"t: {t}\")\n",
        "n = t.numpy()\n",
        "print(f\"n: {n}\")"
      ]
    },
    {
      "cell_type": "code",
      "execution_count": null,
      "metadata": {
        "id": "GfzFvIaYEEXY"
      },
      "outputs": [],
      "source": [
        "# or from NumPy to torch\n",
        "\n",
        "n = np.ones(5)\n",
        "t = torch.from_numpy(n)"
      ]
    },
    {
      "cell_type": "code",
      "execution_count": null,
      "metadata": {
        "id": "ujk_7PUDEFz8"
      },
      "outputs": [],
      "source": [
        "# Changes to the numpy array are reflected in the underlying tensor\n",
        "\n",
        "\n",
        "np.add(n, 1, out=n)\n",
        "print(f\"t: {t}\")\n",
        "print(f\"n: {n}\")"
      ]
    },
    {
      "cell_type": "code",
      "execution_count": null,
      "metadata": {
        "id": "jzsbqmlOEHFy"
      },
      "outputs": [],
      "source": [
        "# Reshape a tensor\n",
        "\n",
        "# Has a shape of (2, 3, 4)\n",
        "random_tensor = torch.randn((2, 3, 4))\n",
        "print(random_tensor.shape)\n",
        "\n",
        "# Reshape it to (2*3, 4), we can use -1 for any dimension which will indicate that the reshaping will be conducted in a way to match the dimensions\n",
        "print(random_tensor.reshape(2 * 3, -1).shape)\n",
        "\n",
        "# Add an additional dimension\n",
        "print(random_tensor.reshape(1, 2, 3, 4).shape)\n",
        "\n",
        "# or use .unsqueeze(0)\n",
        "print(random_tensor.reshape(1, 2, 3, 4).shape)\n",
        "\n",
        "# Similarly we can squeeze a tensor along a given dimension, we use -1 here to indicate the last dimension\n",
        "random_tensor = torch.randn(2, 3, 4).unsqueeze(-1)\n",
        "print(random_tensor.shape)\n",
        "\n",
        "print(random_tensor.squeeze(-1).shape)"
      ]
    },
    {
      "cell_type": "markdown",
      "metadata": {
        "id": "q2kt7A10ENNf"
      },
      "source": [
        "### Exercise 1: Row-wise Broadcasting\n",
        "Add `[1, 2, 3]` to the rows of the 2D tensor `[[10, 10, 10],  [20, 20, 20],  [30, 30, 30]]`\n"
      ]
    },
    {
      "cell_type": "code",
      "execution_count": null,
      "metadata": {
        "id": "lxQYXeLwELYI"
      },
      "outputs": [],
      "source": [
        "tensor_2d = torch.tensor([[10, 10, 10], [20, 20, 20], [30, 30, 30]])\n",
        "\n",
        "tensor_1d = torch.tensor([1, 2, 3])\n",
        "\n",
        "def add_to_different_row_slow(tensor_2d: torch.Tensor, tensor_1d: torch.Tensor) -> torch.Tensor:\n",
        "    \"\"\"Add a 1D array to each row of a 2D array using a for loop.\"\"\"\n",
        "    result = torch.zeros_like(tensor_2d)\n",
        "    for i in range(tensor_2d.shape[0]):\n",
        "        result[i, :] = tensor_2d[i, :] + tensor_1d[i]\n",
        "    return result\n",
        "\n",
        "def add_to_different_row_fast(tensor_2d: torch.Tensor, tensor_1d: torch.Tensor) -> torch.Tensor:\n",
        "    \"\"\"Add a 1D array to each row of a 2D array using broadcasting.\"\"\"\n",
        "    raise NotImplementedError(\"You need to implement `add_to_different_row_fast`\")\n",
        "\n",
        "result_slow = add_to_different_row_slow(tensor_2d, tensor_1d)\n",
        "result_fast = add_to_different_row_fast(tensor_2d, tensor_1d)\n",
        "\n",
        "if not torch.allclose(result_slow, result_fast):\n",
        "    raise AssertionError(\"The output from the slow function and the fast function are not identical.\")"
      ]
    },
    {
      "cell_type": "markdown",
      "metadata": {
        "id": "srWEk8-UETMr"
      },
      "source": [
        "### Exercise 2: 3D Broadcasting\n",
        "\n",
        "You have a 3D tensor of shape (2, 3, 4) and want to subtract the mean of each 2D slice (along the last two axes) from each slice."
      ]
    },
    {
      "cell_type": "code",
      "execution_count": null,
      "metadata": {
        "id": "QTP9SAb5ERnT"
      },
      "outputs": [],
      "source": [
        "torch.manual_seed(0)\n",
        "tensor_3d = torch.randint(1, 10, size=(2, 3, 4), dtype=torch.float)\n",
        "\n",
        "def subtract_mean_slow(tensor_3d: torch.Tensor) -> torch.Tensor:\n",
        "    \"\"\"Subtract the mean of each 2D slice from each slice using a for loop.\"\"\"\n",
        "    result = torch.zeros_like(tensor_3d, dtype=torch.float)\n",
        "    for i in range(tensor_3d.shape[0]):\n",
        "        mean_slice = torch.mean(tensor_3d[i, :, :])\n",
        "        result[i, :, :] = tensor_3d[i, :, :] - mean_slice\n",
        "    return result\n",
        "\n",
        "\n",
        "def subtract_mean_fast(tensor_3d: torch.Tensor) -> torch.Tensor:\n",
        "    \"\"\"Subtract the mean of each 2D slice from each slice using broadcasting.\"\"\"\n",
        "    raise NotImplementedError(\"You need to implement `subtract_mean_fast`\")\n",
        "\n",
        "\n",
        "result_slow = subtract_mean_slow(tensor_3d)\n",
        "result_fast = subtract_mean_fast(tensor_3d)\n",
        "\n",
        "if not torch.allclose(result_slow, result_fast):\n",
        "    raise AssertionError(\"The output from the slow function and the fast function are not identical.\")"
      ]
    },
    {
      "cell_type": "markdown",
      "metadata": {
        "id": "wgmmA7uwy9WG"
      },
      "source": [
        "## Part 1: A simple bi-gram model for generating names"
      ]
    },
    {
      "cell_type": "code",
      "execution_count": null,
      "metadata": {
        "id": "Npc-ZHeLxZp-"
      },
      "outputs": [],
      "source": [
        "!wget https://raw.githubusercontent.com/karpathy/makemore/refs/heads/master/names.txt -O names.txt"
      ]
    },
    {
      "cell_type": "code",
      "execution_count": null,
      "metadata": {
        "id": "ki-oejsoxSz_"
      },
      "outputs": [],
      "source": [
        "words = open('names.txt', 'r').read().splitlines()"
      ]
    },
    {
      "cell_type": "markdown",
      "metadata": {
        "id": "vKSwbp8FzTiz"
      },
      "source": [
        "Lets visualize some examples"
      ]
    },
    {
      "cell_type": "code",
      "execution_count": null,
      "metadata": {
        "id": "hWf-mNKXxS0B"
      },
      "outputs": [],
      "source": [
        "words[:10]"
      ]
    },
    {
      "cell_type": "code",
      "execution_count": null,
      "metadata": {
        "id": "qdUG5q3_xS0D"
      },
      "outputs": [],
      "source": [
        "len(words)"
      ]
    },
    {
      "cell_type": "code",
      "execution_count": null,
      "metadata": {
        "id": "0jAuOXYQxS0D"
      },
      "outputs": [],
      "source": [
        "min(len(w) for w in words)"
      ]
    },
    {
      "cell_type": "code",
      "execution_count": null,
      "metadata": {
        "id": "pfFMUWGbxS0E"
      },
      "outputs": [],
      "source": [
        "max(len(w) for w in words)"
      ]
    },
    {
      "cell_type": "markdown",
      "metadata": {
        "id": "16JFGUFjze_K"
      },
      "source": [
        "- Character level language model\n",
        "- Each name corresponds to an example, and we treat each example as a sequence of characters.\n",
        "\n",
        "- So the example `emma` corresponds to the sequence `e-m-m-a`, and the character-level language model will learn how to model these sequences by predicting the next character in the sequence."
      ]
    },
    {
      "cell_type": "markdown",
      "metadata": {
        "id": "XNkdRTCS0RPi"
      },
      "source": [
        "### Finding bi-grams in the dataset\n",
        "\n",
        "Let's start by identifying bi-grams in the dataset. A character-level bi-gram is a sequence of two consecutive characters.\n",
        "\n",
        "So for the example `emma` we will have the bi-grams: `[em, mm, ma]`\n",
        "\n",
        "In the `emma` example above, we see that the character `e` is is coming first while `a` is coming last but we do not know exactly, when to start sampling a character or end the sequence.\n",
        "\n",
        "**For this reason it is common to include some special characters that delineate the start and the end of a sequence**. In NLP it is common to mark them to enclose these characters with brackets. In our case, we will use `<S>` and `<E>` as the special tokens to mark the begining and the end of a sequence"
      ]
    },
    {
      "cell_type": "code",
      "execution_count": null,
      "metadata": {
        "id": "TN4RcoMQxS0E"
      },
      "outputs": [],
      "source": [
        "def find_bigrams_in_words(words: list[str]) -> dict[tuple[str, str], int]:\n",
        "    \"\"\"Find the bigrams in a list of words.\"\"\"\n",
        "    b = {}\n",
        "    for w in words:\n",
        "        chs = ['<S>'] + list(w) + ['<E>']\n",
        "        for ch1, ch2 in zip(chs, chs[1:]):\n",
        "            bigram = (ch1, ch2)\n",
        "            b[bigram] = b.get(bigram, 0) + 1\n",
        "\n",
        "    return b"
      ]
    },
    {
      "cell_type": "code",
      "execution_count": null,
      "metadata": {
        "id": "FKmvqNxR2ozb"
      },
      "outputs": [],
      "source": [
        "# Lets see now the bigrams for the word `emma`\n",
        "find_bigrams_in_words(words=[\"emma\"])"
      ]
    },
    {
      "cell_type": "markdown",
      "metadata": {
        "id": "SSE2QWmd3v1a"
      },
      "source": [
        "This is actually a powerful tool that we can use later on as it describes the co-occurences of individual characters. In other words, we can see that bi-grams with a high number of counts are frequently occuring in common names, while bi-grams with low frequencies are rarely appearing.\n",
        "\n",
        "Let's run it for the whole dataset."
      ]
    },
    {
      "cell_type": "code",
      "execution_count": null,
      "metadata": {
        "id": "ifXTvNLpxS0F"
      },
      "outputs": [],
      "source": [
        "# Run it for the whole dataset\n",
        "bigrams = find_bigrams_in_words(words=words)\n",
        "sorted(bigrams.items(), key = lambda kv: -kv[1])"
      ]
    },
    {
      "cell_type": "markdown",
      "metadata": {
        "id": "7hcVg1WY53PC"
      },
      "source": [
        "Building our character vocabulary"
      ]
    },
    {
      "cell_type": "code",
      "execution_count": null,
      "metadata": {
        "id": "WVnXhUbyxS0G"
      },
      "outputs": [],
      "source": [
        "def prepare_vocabulary(\n",
        "    words: list[str], start_character: str = \"<S>\", end_character: str = \"<E>\"\n",
        ") -> tuple[dict[str, int], dict[int, str]]:\n",
        "    \"\"\"Prepare the vocabulary from the list of names.\n",
        "\n",
        "    Params:\n",
        "        words (list[str]): A list of strings corresponding to names of our dataset\n",
        "        start_character (str): The special starting character for a name\n",
        "        end_character (str): The special ending character for a name\n",
        "\n",
        "    Returns:\n",
        "        chara2idx (dict[str, int]): A dictionary that maps characters to indices in the vocabulary\n",
        "        idx2chara (dict[int, str]): A dictionary that maps indices to characters in the vocabulary\n",
        "    \"\"\"\n",
        "    chars = sorted(list(set(''.join(words))))\n",
        "    chara2idx = {s:i+1 for i,s in enumerate(chars)}\n",
        "\n",
        "    # For convience, assign the start_character as the 1st character in the vocabulary\n",
        "    chara2idx[start_character] = 0\n",
        "\n",
        "    if end_character not in chara2idx:\n",
        "        # For convenience, assign the end_character as the last character in the vocabulary\n",
        "        chara2idx[end_character] = len(chars) + 1\n",
        "\n",
        "    # Also create the inverse mapping for later use, i.e from integers to characters\n",
        "    idx2chara = {i:s for s,i in chara2idx.items()}\n",
        "    print(chara2idx)\n",
        "    return chara2idx, idx2chara\n",
        "\n",
        "chara2idx, idx2chara = prepare_vocabulary(words=words, start_character=\"<S>\", end_character=\"<E>\")"
      ]
    },
    {
      "cell_type": "markdown",
      "metadata": {
        "id": "er6dpNS04eb8"
      },
      "source": [
        "### Exercise 3: Bi-grams as a 2D tensor\n",
        "\n",
        "Convert the dictionary of bi-grams into a 2D tensor, $N$, where $N[i, j]$ corresponds to the counts of the bigram character$_i$, character$_j$"
      ]
    },
    {
      "cell_type": "code",
      "execution_count": null,
      "metadata": {
        "id": "oKSHXEtOxS0G"
      },
      "outputs": [],
      "source": [
        "def find_bigrams_in_words_tensor(\n",
        "    words: list[str], chara2idx: dict[str, int], start_character: str = \"<S>\", end_character: str = \"<E>\"\n",
        ") -> torch.Tensor:\n",
        "    \"\"\"Find the bigrams in a list of words and return the counts as a 2D tensor.\n",
        "\n",
        "    Params:\n",
        "        words (list[str]): A list of strings corresponding to names of our dataset\n",
        "        chara2idx (dict[str, int]): A dictionary that maps characters to indices in the vocabulary\n",
        "\n",
        "    Returns:\n",
        "        N (torch.Tensor): a 2D tensor that contains the counts for all bigrams\n",
        "    \"\"\"\n",
        "    raise NotImplementedError(\"You need to implement `find_bigrams_in_words_tensor`\")"
      ]
    },
    {
      "cell_type": "code",
      "execution_count": null,
      "metadata": {
        "id": "c9F80gmrCw9v"
      },
      "outputs": [],
      "source": [
        "chara2idx, idx2chara = prepare_vocabulary(words=words, start_character=\"<S>\", end_character=\"<E>\")\n",
        "N = find_bigrams_in_words_tensor(words=words, chara2idx=chara2idx).to(dtype=torch.int32)\n",
        "\n",
        "first_row = torch.tensor([0, 4410, 1306, 1542, 1690, 1531, 417, 669,  874,  591, 2422, 2963, 1572, 2538, 1146, 394, 515, 92, 1639, 2055, 1308, 78, 376, 307, 134, 535, 929, 0], dtype=torch.int32)\n",
        "if not torch.allclose(first_row, N[0]):\n",
        "    raise AssertionError(f\"Expecting the first for of N to be {first_row}, got {N[0]}\")\n",
        "\n",
        "fifth_row = torch.tensor([0, 1303, 1, 3,  149, 1283, 5,   25,  118,  674, 9, 3, 60, 30, 31, 378, 0, 1, 424, 29, 4, 92, 17, 23, 0, 317, 1, 516], dtype=torch.int32)\n",
        "if not torch.allclose(fifth_row, N[4]):\n",
        "    raise AssertionError(f\"Expecting the first for of N to be {fifth_row}, got {N[0]}\")"
      ]
    },
    {
      "cell_type": "markdown",
      "metadata": {
        "id": "uZdI3Q5r9JXR"
      },
      "source": [
        "Lets visualize the output 2D tensor"
      ]
    },
    {
      "cell_type": "code",
      "execution_count": null,
      "metadata": {
        "id": "hkpiAC3RxS0G"
      },
      "outputs": [],
      "source": [
        "def visualize_tensor(bigram_tensor: torch.Tensor, idx2chara: dict[int, str]) -> None:\n",
        "    \"\"\"Plot the bigram 2D tensor as a table\"\"\"\n",
        "    plt.figure(figsize=(16,16))\n",
        "    plt.imshow(bigram_tensor, cmap='Blues')\n",
        "    for i in range(len(idx2chara)):\n",
        "        for j in range(len(idx2chara)):\n",
        "            chstr = idx2chara[i] + idx2chara[j]\n",
        "            plt.text(j, i, chstr, ha=\"center\", va=\"bottom\", color='gray', fontsize=7)\n",
        "            plt.text(j, i, bigram_tensor[i, j].item(), ha=\"center\", va=\"top\", color='gray')\n",
        "    plt.axis('off');\n",
        "\n",
        "\n",
        "visualize_tensor(bigram_tensor=N, idx2chara=idx2chara)"
      ]
    },
    {
      "cell_type": "markdown",
      "metadata": {
        "id": "cLwjYO129qfL"
      },
      "source": [
        "Lets have a deeper look at what we have made here. This 2D tensor shows the counts of all bi-grams in our dataset. If you have implemented the above exercise correctly, you will notice that for example the bigram `a<E>` appears quite often, possibly because many names end with `a` (like emma!). But other bigrams are never appearing for example `xq`.\n",
        "\n",
        "\n",
        "**Question** Additionally, we also observe that the first column and the last row of the matrix are completely zeros. Why?\n",
        "\n",
        "<details>\n",
        "<summary><strong>Answer</strong></summary>\n",
        "\n",
        "The `<S>` is used to describe the start of a name, and as a result we will never have an example that does not begin with this special character, and so all bi-grams like `a<S>` are not feasible within our dataset.\n",
        "Similarly the `<E>` is used to describe the end of a name, and likewise the bi-gram `<E>a` is also not feasible.\n",
        "\n",
        "\n"
      ]
    },
    {
      "cell_type": "markdown",
      "metadata": {
        "id": "DsHh0KX0EZqU"
      },
      "source": [
        "Due to this redundancy (click the answer if you haven't), we will use the same character to depict the start and the end of a name:"
      ]
    },
    {
      "cell_type": "code",
      "execution_count": null,
      "metadata": {
        "id": "SWCKmNfuE97I"
      },
      "outputs": [],
      "source": [
        "chara2idx, idx2chara = prepare_vocabulary(words=words, start_character=\".\", end_character=\".\")\n",
        "N = find_bigrams_in_words_tensor(words=words, chara2idx=chara2idx, start_character=\".\", end_character=\".\")\n",
        "visualize_tensor(bigram_tensor=N, idx2chara=idx2chara)"
      ]
    },
    {
      "cell_type": "markdown",
      "metadata": {
        "id": "uh178PobHU2D"
      },
      "source": [
        "### Generating names from our statistics model\n",
        "\n",
        "As explained this 2D tensor holds the counts for all bi-grams in our dataset. All we have to do now, is follow these counts to start sampling names from that model.\n",
        "\n",
        "To start sampling, we only need to look at the first row of our table. These counts show us how likely it is to start a name corresponding to the character $character_i$ where $i$ is the position of an element in the first row:"
      ]
    },
    {
      "cell_type": "code",
      "execution_count": null,
      "metadata": {
        "id": "ndo5x3OQxS0H"
      },
      "outputs": [],
      "source": [
        "N[0]"
      ]
    },
    {
      "cell_type": "markdown",
      "metadata": {
        "id": "AZHz-a03Iv1O"
      },
      "source": [
        "#### Sampling from the probability distribution\n",
        "\n",
        "To sample from the distribution we will use [torch.multinomial](https://docs.pytorch.org/docs/stable/generated/torch.multinomial.html). We also use a generator ([torch.Generator](https://docs.pytorch.org/docs/stable/generated/torch.Generator.html)) with a fixed random seed so that the sampling is deterministic"
      ]
    },
    {
      "cell_type": "code",
      "execution_count": null,
      "metadata": {
        "id": "KD26-UfExS0I"
      },
      "outputs": [],
      "source": [
        "g = torch.Generator().manual_seed(2147483647)\n",
        "p = torch.rand(3, generator=g)\n",
        "p = p / p.sum()\n",
        "p"
      ]
    },
    {
      "cell_type": "code",
      "execution_count": null,
      "metadata": {
        "id": "6xxtBXBOxS0I"
      },
      "outputs": [],
      "source": [
        "torch.multinomial(p, num_samples=100, replacement=True, generator=g)"
      ]
    },
    {
      "cell_type": "markdown",
      "metadata": {
        "id": "F5dbfoXMJ4Bc"
      },
      "source": [
        "Looking at our probability distribution $p$ (this is randomly created in this example), we see that approximately the first character has approximately 60% probability, the second 30% and the last approximately 9%. So when we draw 100 samples from that probability distribution we expect approximately 60% of the samples to correspond to the first character and so on.\n",
        "\n",
        "\n",
        "In our character, level example, we can create a probability vector by normalizing each element by the sum of all counts.\n",
        "\n",
        "Note that we convert the vector to float to perform floating point division"
      ]
    },
    {
      "cell_type": "code",
      "execution_count": null,
      "metadata": {
        "id": "b3yN07HtxS0H"
      },
      "outputs": [],
      "source": [
        "p = N[0].float()\n",
        "p = p / p.sum()\n",
        "print(p)\n",
        "\n",
        "g = torch.Generator().manual_seed(2147483647)\n",
        "idx = torch.multinomial(p, num_samples=1, replacement=True, generator=g).item()\n",
        "print(idx2chara[idx])"
      ]
    },
    {
      "cell_type": "markdown",
      "metadata": {
        "id": "qkemVUCZLWer"
      },
      "source": [
        "To continue sampling in order to create our name, we only need to follow the probabilities for the next character based on character that we already drawn. This is just the row N[idx]! We continue the same logic, until we sample the index that corresponds to the end of the sequence."
      ]
    },
    {
      "cell_type": "markdown",
      "metadata": {
        "id": "Hh6UDbTIL-z7"
      },
      "source": [
        "### Exercise 4: Sampling names from a bi-gram\n",
        "\n",
        "Write a function that samples names from the bigram table that we have created:"
      ]
    },
    {
      "cell_type": "code",
      "execution_count": null,
      "metadata": {
        "id": "f5qZpMTIMFDz"
      },
      "outputs": [],
      "source": [
        "def sample_name(\n",
        "    bigram_tensor: torch.Tensor,\n",
        "    generator: torch.Generator,\n",
        "    idx2chara: dict[int, str],\n",
        "    end_chara_index: int = 0,\n",
        ") -> str:\n",
        "    \"\"\"Sample a name from the bigram model\n",
        "\n",
        "    Args:\n",
        "        bigram_tensor (torch.Tensor): A 2D dimensional tensor containing the counts of each succeeding character\n",
        "        generator (torch.Generator): A generator used when sampling to ensure deterministic behavior\n",
        "        idx2chara (dict[int, str]): A dictionary that maps indices to characters in the vocabulary\n",
        "        end_chara_index (int): The index of the end-of-sequence character\n",
        "\n",
        "    Returns:\n",
        "        str: A sampled name\n",
        "    \"\"\"\n",
        "    raise NotImplementedError(\"You need to implement `sample_name`\")"
      ]
    },
    {
      "cell_type": "code",
      "execution_count": null,
      "metadata": {
        "id": "hVqXXlzq_6Qz"
      },
      "outputs": [],
      "source": [
        "generator = torch.Generator().manual_seed(2147483647)\n",
        "\n",
        "names = [\n",
        "    sample_name(bigram_tensor=N, generator=generator, idx2chara=idx2chara, end_chara_index=0)\n",
        "    for _ in range(2)\n",
        "]\n",
        "\n",
        "if names != [\"cexzm\", \"zoglkurkicqzktyhwmvmzimjttainrlkfukzkktda\"]:\n",
        "    raise AssertionError(\"The `sample_name` is incorrect\")"
      ]
    },
    {
      "cell_type": "code",
      "execution_count": null,
      "metadata": {
        "id": "RVtnChIrNBnZ"
      },
      "outputs": [],
      "source": [
        "generator = torch.Generator().manual_seed(2147483647)\n",
        "for idx in range(10):\n",
        "    print(sample_name(bigram_tensor=N, generator=generator, idx2chara=idx2chara, end_chara_index=0))"
      ]
    },
    {
      "cell_type": "markdown",
      "metadata": {
        "id": "v7XLn3STSFNW"
      },
      "source": [
        "**Why is this so terrible?**\n",
        "\n",
        "The short answer is that bi-gram character-level modeling is actually really bad. When generating the name `ka` the model does not know that the `a` is the very first `a` it has generated. All it knows is that we drawn a `k` previously and because `a` is actually a very likely last name character, it predicts the end-of-sequence token `.`\n",
        "\n",
        "\n",
        "To convience yourself that this is less terrible than it actually is, try to set the probability of the next character to a uniform distribution (e.g use ```next_next_chara_probabilities = torch.ones(len(idx2chara)) / len(idx2chara)``` instead of the probabilities from the 2D tensor)\n",
        "\n",
        "The names that you generate should look like this (which are clearly worse than what we are generating using probabilities obtained from our dataset):\n"
      ]
    },
    {
      "cell_type": "markdown",
      "metadata": {
        "id": "YGnDMzoRTjjY"
      },
      "source": [
        "![Screenshot from 2025-09-05 10-56-03.png](data:image/png;base64,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)"
      ]
    },
    {
      "cell_type": "markdown",
      "metadata": {
        "id": "44qCXd0gV9aT"
      },
      "source": [
        "### Part 2: Quality of a Model as a Loss Function\n",
        "So far we have used only statistics to essentially build a 2D tensor and sample probabilities. In this part we want to assess how \"good\" of a model we have using a single number.\n",
        "\n",
        "\n",
        "Before we do that, we will do one small optimization with broadcasting. Unless you are smarter than the person who wrote this, your (and the above) solution for sampling next characters actually performs alot of redundant operations by re-computing the probabilities again and again in each iteration. We are going to change this and compute the probabilities for every character $j$ given the character $i$ as $P[i, j]$:"
      ]
    },
    {
      "cell_type": "code",
      "execution_count": null,
      "metadata": {
        "id": "pm-__Y9IYRl7"
      },
      "outputs": [],
      "source": [
        "P = N.float()\n",
        "P /= P.sum(1, keepdims=True)"
      ]
    },
    {
      "cell_type": "code",
      "execution_count": null,
      "metadata": {
        "id": "jRQmJqVsYX00"
      },
      "outputs": [],
      "source": [
        "def sample_name_from_probabilities(\n",
        "    probabilities: torch.Tensor,\n",
        "    generator: torch.Generator,\n",
        "    idx2chara: dict[int, str],\n",
        "    end_chara_index: int = 0,\n",
        ") -> str:\n",
        "    \"\"\"Same functionality as `sample_name` but a bit more compact.\n",
        "\n",
        "    Args:\n",
        "        probabilities (torch.Tensor): A 2D dimensional tensor containing the probabilities of each succeeding character\n",
        "        generator (torch.Generator): A generator used when sampling to ensure deterministic behavior\n",
        "        idx2chara (dict[int, str]): A dictionary that maps indices to characters in the vocabulary\n",
        "        end_chara_index (int): The index of the end-of-sequence character\n",
        "\n",
        "    Returns:\n",
        "        str: A sampled name\n",
        "    \"\"\"\n",
        "    characters = []\n",
        "    current_idx = 0\n",
        "    while True:\n",
        "        next_chara_probabilities = probabilities[current_idx]\n",
        "        next_chara_index = torch.multinomial(\n",
        "            next_chara_probabilities,\n",
        "            num_samples=1,\n",
        "            replacement=True,\n",
        "            generator=generator,\n",
        "        ).item()\n",
        "\n",
        "        if next_chara_index == end_chara_index:\n",
        "            break\n",
        "\n",
        "        current_idx = next_chara_index\n",
        "        characters.append(idx2chara[next_chara_index])\n",
        "\n",
        "    return \"\".join(characters)"
      ]
    },
    {
      "cell_type": "code",
      "execution_count": null,
      "metadata": {
        "id": "xbi6AOF2xS0I"
      },
      "outputs": [],
      "source": [
        "# These should be identical to the previous execution\n",
        "generator = torch.Generator().manual_seed(2147483647)\n",
        "for idx in range(10):\n",
        "    print(sample_name_from_probabilities(probabilities=P, generator=generator, idx2chara=idx2chara, end_chara_index=0))"
      ]
    },
    {
      "cell_type": "markdown",
      "metadata": {
        "id": "sBrWwe2BYzc3"
      },
      "source": [
        "The next step is to provide a `quality` of this model, how good is it at predicting the next character of a name (it is not). Just like we saw in the lectures, the quality of a model is measured as a loss function, i.e a single number that measures how \"good\" a model is based on some data. In this example we will use the training data and compute the training loss"
      ]
    },
    {
      "cell_type": "code",
      "execution_count": null,
      "metadata": {
        "id": "MaQsoILiZOXP"
      },
      "outputs": [],
      "source": [
        "chs = [\".\"] + list(words[0]) + [\".\"]\n",
        "for ch1, ch2 in zip(chs, chs[1:]):\n",
        "    ch1_idx = chara2idx[ch1]\n",
        "    ch2_idx = chara2idx[ch2]\n",
        "    prob = P[ch1_idx, ch2_idx]\n",
        "    print(f\"{ch1}{ch2}: {prob:4f}\")"
      ]
    },
    {
      "cell_type": "markdown",
      "metadata": {
        "id": "X9_EghzPaFrX"
      },
      "source": [
        "So these are the probabilities that the model assigns to each bi-gram. Some of them are very low like 4%, 3% but some of them are very high like 38% and 19%.\n",
        "\n",
        "**Are these probabilities good or bad?** For a total 27 equally likely characters the probability of a single character would be $1/27 \\approx 0.037$ or 3.7%. So anything above this threshold means that the model has actually learned something from the training data. If we had a very good model we would expect that all of these probabilities will be near 1.\n",
        "\n",
        "**How can we summarize the probabilities into a single number that represents how good is our model?**\n",
        "The common practice is to use the likelihood, which corresponds to the product of these probabilities. So if we have a very good model we would expect that the product of these probabilities will be very high. However, because the probabilities are < 1, the product of them will be a low number. So for convience in terms of math, we do not work with the likelihood, but the log-likelihood:"
      ]
    },
    {
      "cell_type": "markdown",
      "metadata": {
        "id": "dmyKc1TSb58n"
      },
      "source": [
        "![Screenshot from 2025-09-05 11-32-41.png](data:image/png;base64,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)"
      ]
    },
    {
      "cell_type": "markdown",
      "metadata": {
        "id": "Xvb40dsEcA0Z"
      },
      "source": [
        "And so if we pass 1 to the log-likelihood we get 1, but the smaller the likelihood the more negative the log-likehood becomes"
      ]
    },
    {
      "cell_type": "code",
      "execution_count": null,
      "metadata": {
        "id": "DzEQ-LHWb5e4"
      },
      "outputs": [],
      "source": [
        "def compute_log_likelihood(word: str, chara2idx: dict[str, int], start_character: str = \".\", end_character = \".\") -> torch.Tensor:\n",
        "    \"\"\"Compute the log likelihood for a single word.\"\"\"\n",
        "    log_likelihood = 0\n",
        "    chs = [start_character] + list(word) + [end_character]\n",
        "    for ch1, ch2 in zip(chs, chs[1:]):\n",
        "        ch1_idx = chara2idx[ch1]\n",
        "        ch2_idx = chara2idx[ch2]\n",
        "        prob = P[ch1_idx, ch2_idx]\n",
        "        log_prob = torch.log(prob)\n",
        "        print(f\"{ch1}{ch2}: {prob:4f} {log_prob:4f}\")\n",
        "        log_likelihood += log_prob\n",
        "\n",
        "    return log_likelihood\n",
        "\n",
        "log_likelihood = compute_log_likelihood(word=words[0], chara2idx=chara2idx)\n",
        "print(log_likelihood)"
      ]
    },
    {
      "cell_type": "markdown",
      "metadata": {
        "id": "Ss8WoUjrcdJ9"
      },
      "source": [
        "What we see here is that the smaller the probability, the more negative is the log-likelihood. However, what we would like as a loss function is exactly the opposite, so lower means better. We can do this using the negative log-likelihood as a measurement for our model:"
      ]
    },
    {
      "cell_type": "code",
      "execution_count": null,
      "metadata": {
        "id": "xnRtz7VlxS0I"
      },
      "outputs": [],
      "source": [
        "nll = -log_likelihood"
      ]
    },
    {
      "cell_type": "markdown",
      "metadata": {
        "id": "xyrryBxCeHGZ"
      },
      "source": [
        "The final thing to do is to average rather than a sum:"
      ]
    },
    {
      "cell_type": "code",
      "execution_count": null,
      "metadata": {
        "id": "SdLAogyBd7xt"
      },
      "outputs": [],
      "source": [
        "def compute_negative_log_likelihood(word: str, chara2idx: dict[str, int], start_character: str = \".\", end_character = \".\") -> torch.Tensor:\n",
        "    \"\"\"Compute the negative log likelihood for a single word.\"\"\"\n",
        "    log_likelihood = 0\n",
        "    counter = 0\n",
        "    chs = [start_character] + list(word) + [end_character]\n",
        "    for ch1, ch2 in zip(chs, chs[1:]):\n",
        "        ch1_idx = chara2idx[ch1]\n",
        "        ch2_idx = chara2idx[ch2]\n",
        "        prob = P[ch1_idx, ch2_idx]\n",
        "        log_prob = torch.log(prob)\n",
        "        counter += 1\n",
        "        log_likelihood += log_prob\n",
        "\n",
        "    return -log_likelihood / counter\n",
        "\n",
        "nll = print(compute_negative_log_likelihood(word=words[0], chara2idx=chara2idx))"
      ]
    },
    {
      "cell_type": "markdown",
      "metadata": {
        "id": "lZTTyEqNeYh7"
      },
      "source": [
        "#### Summarizing\n",
        "\n",
        "We have developed a way of assessing how good is our model in terms of the likelihood, i.e the product of the probabilities of each generated character. So our goal is to find the parameters of the neural model that maximize this likelihood.\n",
        "\n",
        "**This is equivalent to:**\n",
        "- Maximizing the log-likelihood, because the log is a monotonic function\n",
        "- Minimizing the negative log likelihood\n",
        "- Minimizing the average negative log likelihood, because we just divide by a constant."
      ]
    },
    {
      "cell_type": "code",
      "execution_count": null,
      "metadata": {
        "id": "yK4Sx7E6fvKb"
      },
      "outputs": [],
      "source": [
        "# Lets estimate the negative log likelihood over the entire training set:\n",
        "nll = torch.stack([compute_negative_log_likelihood(word=word, chara2idx=chara2idx) for word in words]).mean()\n",
        "print(nll)"
      ]
    },
    {
      "cell_type": "markdown",
      "metadata": {
        "id": "Jf1cEqGthis2"
      },
      "source": [
        "### Part 3: Developing our own Neural Bi-gram Language Model\n",
        "\n",
        "In the final part we will develop our first neural model that will learn to predict the next character in the sequence of name.\n",
        "\n",
        "- The model receives the current character, and with some parameters $W$, it computes the probability of the next character.\n",
        "\n",
        "- We then are going to look at the probabilities distributions produced by our model, and compare them with the **labels** (the next character that follows). So knowing the correct character that should follow, we are going to use the probabilities to assess whether the model actually predicts the correct follow-up character.\n",
        "\n",
        "- If a model confidently predicts the correct next character, the probability will be low, and as a result the loss function will be low. If a model has very high confidence but makes an incorrect prediction the loss will be very high.\n",
        "\n",
        "- We are then going to use gradient based optimization to tune the parameters $W$ to minimize the loss"
      ]
    },
    {
      "cell_type": "markdown",
      "metadata": {
        "id": "pf3A8e_ElLLA"
      },
      "source": [
        "#### Compling our n-gram dataset"
      ]
    },
    {
      "cell_type": "code",
      "execution_count": null,
      "metadata": {
        "id": "Ej1aYpVlxS0K"
      },
      "outputs": [],
      "source": [
        "def create_bigram_training_set(\n",
        "    words: list[str], chara2idx: dict[str, int], start_character: str = \".\", end_character = \".\",\n",
        ") -> tuple[torch.Tensor, torch.Tensor]:\n",
        "\n",
        "    inputs, labels = [], []\n",
        "    for word in words:\n",
        "        chs = [start_character] + list(word) + [end_character]\n",
        "        for ch1, ch2 in zip(chs, chs[1:]):\n",
        "            ix1 = chara2idx[ch1]\n",
        "            ix2 = chara2idx[ch2]\n",
        "            inputs.append(ix1)\n",
        "            labels.append(ix2)\n",
        "\n",
        "    inputs = torch.tensor(inputs)\n",
        "    labels = torch.tensor(labels)\n",
        "    return inputs, labels"
      ]
    },
    {
      "cell_type": "code",
      "execution_count": null,
      "metadata": {
        "colab": {
          "base_uri": "https://localhost:8080/"
        },
        "id": "XLPotoqaxS0K",
        "outputId": "11be3680-e3de-45b8-b60f-5abb48c1ec21"
      },
      "outputs": [
        {
          "name": "stdout",
          "output_type": "stream",
          "text": [
            "Examples for word emma\n",
            "tensor([ 0,  5, 13, 13,  1])\n",
            "tensor([ 5, 13, 13,  1,  0])\n"
          ]
        }
      ],
      "source": [
        "# So now lets see what the inputs/labels for a single word would look like\n",
        "inputs, labels = create_bigram_training_set(words=[words[0]], chara2idx=chara2idx)\n",
        "print(f\"Examples for word {words[0]}\")\n",
        "print(inputs)\n",
        "print(labels)"
      ]
    },
    {
      "cell_type": "markdown",
      "metadata": {
        "id": "oOLky6ZxkNhF"
      },
      "source": [
        "In other words:\n",
        "- Given the input 0 (which corresponds to the special token), we need to predict 5.\n",
        "- Given the input 5, we need to predict 13, and so on"
      ]
    },
    {
      "cell_type": "markdown",
      "metadata": {
        "id": "XzcsxLEOlRCI"
      },
      "source": [
        "#### Converting integers to vectors for the neural model\n",
        "\n",
        "Recall that during the lectures, the perceptron accepts a vector of inputs, multiplies it by some weights and makes a prediction:\n"
      ]
    },
    {
      "cell_type": "markdown",
      "metadata": {
        "id": "zaWc7Daxljrz"
      },
      "source": [
        "![Screenshot from 2025-09-05 12-12-32.png](data:image/png;base64,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)"
      ]
    },
    {
      "cell_type": "markdown",
      "metadata": {
        "id": "eF55heCulm-_"
      },
      "source": [
        "So we cant just plug-in integer values to our input, we need to think how to convert these integers into vectors"
      ]
    },
    {
      "cell_type": "code",
      "execution_count": null,
      "metadata": {
        "id": "EgQPrlFCxS0M"
      },
      "outputs": [],
      "source": [
        "import torch.nn.functional as F\n",
        "xenc = F.one_hot(inputs, num_classes=len(chara2idx)).float()\n",
        "xenc"
      ]
    },
    {
      "cell_type": "code",
      "execution_count": null,
      "metadata": {
        "id": "BRpK3PXPxS0M"
      },
      "outputs": [],
      "source": [
        "xenc.shape"
      ]
    },
    {
      "cell_type": "code",
      "execution_count": null,
      "metadata": {
        "id": "Aszu3kRjxS0M"
      },
      "outputs": [],
      "source": [
        "plt.imshow(xenc)"
      ]
    },
    {
      "cell_type": "markdown",
      "metadata": {
        "id": "EDI6QGEnoPUI"
      },
      "source": [
        "#### Constructing our first neuron"
      ]
    },
    {
      "cell_type": "markdown",
      "metadata": {
        "id": "JQ2_AyFmsaqM"
      },
      "source": [
        "Lets construct our very first neuron, by randomly initializing a matrix $W$ oh shape `num_characters`, 1. This neuron will fire 1 activation per input, and since we have 5 inputs we can perform 5 activations at the same time by multiplying the input with the parameter $W$.\n",
        "\n",
        "\n",
        "So we compute all activations of a set of examples in parallel, without the activation of each example affecting the other! This is a big deal when training models, as we can process an entire **batch** of examples and obtain the same results much quicker resulting in fast optimization and training\n"
      ]
    },
    {
      "cell_type": "code",
      "execution_count": null,
      "metadata": {
        "colab": {
          "base_uri": "https://localhost:8080/"
        },
        "id": "VlGUMKvNxS0N",
        "outputId": "1a8f71ad-94a8-433b-bcca-223c58838c33"
      },
      "outputs": [
        {
          "name": "stdout",
          "output_type": "stream",
          "text": [
            "tensor([[ 0.6927],\n",
            "        [-0.8701],\n",
            "        [ 0.2291],\n",
            "        [ 0.2291],\n",
            "        [-1.0511]])\n",
            "tensor([0.6927])\n",
            "tensor([0.6927])\n"
          ]
        }
      ],
      "source": [
        "W = torch.randn((len(chara2idx), 1))\n",
        "# Matrix multplication between (5, 27) @ (27, 1) -> (5, 1)\n",
        "print(xenc @ W)\n",
        "\n",
        "# Notice how these two are identical\n",
        "print((xenc @ W)[0])\n",
        "print(xenc[0] @ W)"
      ]
    },
    {
      "cell_type": "markdown",
      "metadata": {
        "id": "UOREUiYTt05q"
      },
      "source": [
        "#### Taking it one step further from a neuron to a set of neurons that produce a probability distribution"
      ]
    },
    {
      "cell_type": "code",
      "execution_count": null,
      "metadata": {
        "id": "LaoRw0OFt9Ub"
      },
      "outputs": [],
      "source": [
        "W = torch.randn(len(chara2idx), len(chara2idx))\n",
        "print(xenc @ W)"
      ]
    },
    {
      "cell_type": "markdown",
      "metadata": {
        "id": "oiItU5o1uGgu"
      },
      "source": [
        "For every 1 of the `num_characters` that we have created gives us the activation over the 5 input examples. See how the 13rd activation of the 3rd example is computed extremely efficiently:"
      ]
    },
    {
      "cell_type": "code",
      "execution_count": null,
      "metadata": {
        "id": "UaqrM4_vubpc"
      },
      "outputs": [],
      "source": [
        "print((xenc @ W)[3, 13])\n",
        "print(\"-----\")\n",
        "print(xenc[3])\n",
        "print(W[:, 13])\n",
        "print(\"-----\")\n",
        "# This should be identical as the first print statement\n",
        "print((xenc[3] * W[:, 13]).sum())"
      ]
    },
    {
      "cell_type": "markdown",
      "metadata": {
        "id": "XNyjdflMvF2X"
      },
      "source": [
        "**Interpreting these `num_charas` (27) numbers**:\n",
        "\n",
        "What exactly are these numbers produced by our 27 neurons?\n",
        "Ideally, we would like something like the 2D bi-gram tensor that we implemented previously so that we can easily compute the loss function.\n",
        "\n",
        "So we want these numbers to represent some sort of probability.\n",
        "But these numbers are floating point and can be negative and positive and they dont have the nice properties of a probability distribution. They also cannot be counts, because counts are strictly positive and also they are integers.\n",
        "\n",
        "We are going to interpet these numbers as **log-counts**. To get the \"counts\" we are going to take the log-counts and exponentiate them. These \"log-counts\" are often referred to as **logits** and correspond to the un-normalized probabilities for our classes.\n",
        "\n",
        "**HINT**: basically here we are implementing the `softmax` activation\n"
      ]
    },
    {
      "cell_type": "code",
      "execution_count": null,
      "metadata": {
        "colab": {
          "base_uri": "https://localhost:8080/"
        },
        "id": "RLSmEzlCxS0N",
        "outputId": "acd25237-9948-47c2-f209-9edee5903c42"
      },
      "outputs": [
        {
          "name": "stdout",
          "output_type": "stream",
          "text": [
            "tensor([[0.0646, 0.0051, 0.0132, 0.0054, 0.0152, 0.0131, 0.0371, 0.0068, 0.0448,\n",
            "         0.0431, 0.0194, 0.0091, 0.0085, 0.0359, 0.0074, 0.0304, 0.0958, 0.2574,\n",
            "         0.0063, 0.1143, 0.0224, 0.0173, 0.0072, 0.0229, 0.0546, 0.0156, 0.0272],\n",
            "        [0.0128, 0.0477, 0.0686, 0.0953, 0.0245, 0.0236, 0.0420, 0.0254, 0.0141,\n",
            "         0.0949, 0.0462, 0.0836, 0.0299, 0.0212, 0.0077, 0.0573, 0.0177, 0.0339,\n",
            "         0.0094, 0.0055, 0.0190, 0.0229, 0.0883, 0.0036, 0.0414, 0.0456, 0.0181],\n",
            "        [0.0117, 0.1147, 0.0356, 0.0766, 0.0732, 0.0397, 0.0328, 0.0305, 0.0064,\n",
            "         0.0018, 0.0074, 0.0186, 0.0634, 0.0409, 0.0138, 0.1350, 0.1286, 0.0118,\n",
            "         0.0226, 0.0105, 0.0334, 0.0129, 0.0248, 0.0022, 0.0177, 0.0150, 0.0185],\n",
            "        [0.0117, 0.1147, 0.0356, 0.0766, 0.0732, 0.0397, 0.0328, 0.0305, 0.0064,\n",
            "         0.0018, 0.0074, 0.0186, 0.0634, 0.0409, 0.0138, 0.1350, 0.1286, 0.0118,\n",
            "         0.0226, 0.0105, 0.0334, 0.0129, 0.0248, 0.0022, 0.0177, 0.0150, 0.0185],\n",
            "        [0.0034, 0.0153, 0.1666, 0.0165, 0.0799, 0.0343, 0.0281, 0.0177, 0.0419,\n",
            "         0.0480, 0.0113, 0.0124, 0.1582, 0.0328, 0.0479, 0.0124, 0.0201, 0.0941,\n",
            "         0.0417, 0.0425, 0.0034, 0.0127, 0.0042, 0.0043, 0.0290, 0.0105, 0.0108]])\n",
            "----\n",
            "tensor([0.0646, 0.0051, 0.0132, 0.0054, 0.0152, 0.0131, 0.0371, 0.0068, 0.0448,\n",
            "        0.0431, 0.0194, 0.0091, 0.0085, 0.0359, 0.0074, 0.0304, 0.0958, 0.2574,\n",
            "        0.0063, 0.1143, 0.0224, 0.0173, 0.0072, 0.0229, 0.0546, 0.0156, 0.0272])\n",
            "torch.Size([27])\n",
            "----\n",
            "tensor(1.0000)\n"
          ]
        }
      ],
      "source": [
        "# log-counts\n",
        "logits = xenc @ W\n",
        "counts = logits.exp()\n",
        "probs = counts / counts.sum(1, keepdims=True)\n",
        "print(probs)\n",
        "print(\"----\")\n",
        "print(probs[0])\n",
        "print(probs[0].shape)\n",
        "print(\"----\")\n",
        "print(probs[0].sum())"
      ]
    },
    {
      "cell_type": "markdown",
      "metadata": {
        "id": "0iZk4Qc-xodo"
      },
      "source": [
        "**Success!**\n",
        "\n",
        "For every one of the five examples above, we have created produced a row obtained from a neural net that can be interpreted as a probability distribution.\n",
        "\n",
        "- We started by creating a vector from an integer via one-hot encoding\n",
        "- We passed this vector into a single linear layer to obtain the representations of that vector\n",
        "- We intepreted these representations as **logits** and we transformed them to a probability distribution\n",
        "- We can use now the labels over each example to tune the parameter $W$ of that linear layer to maximize the probability of predicting the correct label for each example\n",
        "- As we tune the weights $W$ we are going to get different probabilities and so the question becomes can we tune $W$ to get good probabilities? The way we are measuring \"good\" is by the loss function"
      ]
    },
    {
      "cell_type": "markdown",
      "metadata": {
        "id": "3d-6slY4yxJW"
      },
      "source": [
        "#### Training a Neural Bi-gram Model"
      ]
    },
    {
      "cell_type": "code",
      "execution_count": null,
      "metadata": {
        "id": "YIeQKdgi1g6W"
      },
      "outputs": [],
      "source": [
        "inputs, labels = create_bigram_training_set(words=[words[0]], chara2idx=chara2idx)"
      ]
    },
    {
      "cell_type": "code",
      "execution_count": null,
      "metadata": {
        "id": "861NMpGCxS0Q"
      },
      "outputs": [],
      "source": [
        "# randomly initialize 27 neurons' weights. each neuron receives 27 inputs\n",
        "g = torch.Generator().manual_seed(2147483647)\n",
        "W = torch.randn((len(chara2idx), len(chara2idx)), generator=g)"
      ]
    },
    {
      "cell_type": "markdown",
      "metadata": {
        "id": "dRusvHGY1oGU"
      },
      "source": [
        "Forward pass: pass all input examples through the neural net"
      ]
    },
    {
      "cell_type": "code",
      "execution_count": null,
      "metadata": {
        "id": "hJ2LpOGgxS0Q"
      },
      "outputs": [],
      "source": [
        "# Step 1: Convert inputs to one-hot encoding\n",
        "xenc = F.one_hot(inputs, num_classes=len(chara2idx)).float()\n",
        "# Step 2: Predict log-counts\n",
        "logits = xenc @ W\n",
        "# Step 3: Convert logits to probabilities\n",
        "counts = logits.exp()\n",
        "probs = counts / counts.sum(1, keepdims=True)"
      ]
    },
    {
      "cell_type": "code",
      "execution_count": null,
      "metadata": {
        "id": "ppVE7zvAxS0Q"
      },
      "outputs": [],
      "source": [
        "probs.shape"
      ]
    },
    {
      "cell_type": "markdown",
      "metadata": {
        "id": "Oe-ESo5p2f7D"
      },
      "source": [
        "Computing the loss for the input examples:"
      ]
    },
    {
      "cell_type": "code",
      "execution_count": null,
      "metadata": {
        "id": "uNsX-dFDxS0Q"
      },
      "outputs": [],
      "source": [
        "nlls = torch.zeros(5)\n",
        "for i in range(5):\n",
        "  # i-th bigram:\n",
        "  input = inputs[i].item() # input character index\n",
        "  label = labels[i].item() # label character index\n",
        "  print('--------')\n",
        "  print(f'bigram example {i+1}: {idx2chara[input]}{idx2chara[label]} (indexes {input}, {label})')\n",
        "  print('input to the neural net:', input)\n",
        "  print('output probabilities from the neural net:', probs[i])\n",
        "  print('label (actual next character):', label)\n",
        "  p = probs[i, label]\n",
        "  print('probability assigned by the net to the the correct character:', p.item())\n",
        "  logp = torch.log(p)\n",
        "  print('log likelihood:', logp.item())\n",
        "  nll = -logp\n",
        "  print('negative log likelihood:', nll.item())\n",
        "  nlls[i] = nll\n",
        "\n",
        "print('=========')\n",
        "print('average negative log likelihood, i.e. loss =', nlls.mean().item())"
      ]
    },
    {
      "cell_type": "code",
      "execution_count": null,
      "metadata": {
        "id": "bPPPanPaxS0R"
      },
      "outputs": [],
      "source": [
        "# randomly initialize 27 neurons' weights. each neuron receives 27 inputs\n",
        "g = torch.Generator().manual_seed(2147483647)\n",
        "W = torch.randn((len(chara2idx), len(chara2idx)), generator=g, requires_grad=True)"
      ]
    },
    {
      "cell_type": "code",
      "execution_count": null,
      "metadata": {
        "id": "MFnEGWx6xS0S"
      },
      "outputs": [],
      "source": [
        "# forward pass\n",
        "# input to the network: one-hot encoding\n",
        "xenc = F.one_hot(inputs, num_classes=len(chara2idx)).float()\n",
        "# predict log-counts\n",
        "logits = xenc @ W\n",
        "# Compute probabilities\n",
        "counts = logits.exp()\n",
        "probs = counts / counts.sum(1, keepdims=True)\n",
        "# Compute the average negative log-likelihood\n",
        "loss = -probs[torch.arange(labels.shape[0]), labels].log().mean()\n",
        "print(loss.item())"
      ]
    },
    {
      "cell_type": "markdown",
      "metadata": {
        "id": "hd70oM1R3Wqn"
      },
      "source": [
        " Backward pass: Propagate the loss to all parameters of the model (here we only have $W$)"
      ]
    },
    {
      "cell_type": "code",
      "execution_count": null,
      "metadata": {
        "id": "b-nYjYpfxS0S"
      },
      "outputs": [],
      "source": [
        "# set to zero the gradient\n",
        "W.grad = None\n",
        "# This is where the magic happens, we will talk about backward pass in the follow-up lab\n",
        "# where we will talk about gradients and autograd in detail\n",
        "loss.backward()"
      ]
    },
    {
      "cell_type": "markdown",
      "metadata": {
        "id": "AeCTw4aL3euS"
      },
      "source": [
        "Gradient Descent optimization update"
      ]
    },
    {
      "cell_type": "code",
      "execution_count": null,
      "metadata": {
        "id": "8WMjVEDwxS0S"
      },
      "outputs": [],
      "source": [
        "W.data += -0.1 * W.grad\n",
        "\n",
        "# Re-computing the loss should have a lower value\n",
        "xenc = F.one_hot(inputs, num_classes=len(chara2idx)).float()\n",
        "# predict log-counts\n",
        "logits = xenc @ W\n",
        "# Compute probabilities\n",
        "counts = logits.exp()\n",
        "probs = counts / counts.sum(1, keepdims=True)\n",
        "# Compute the average negative log-likelihood\n",
        "loss = -probs[torch.arange(labels.shape[0]), labels].log().mean()\n",
        "print(loss.item())"
      ]
    },
    {
      "cell_type": "markdown",
      "metadata": {
        "id": "14OBOWz125K2"
      },
      "source": [
        "#### Exercise 5: Gradient Descent\n",
        "\n",
        "Implement gradient descent over the train dataset"
      ]
    },
    {
      "cell_type": "code",
      "execution_count": null,
      "metadata": {
        "id": "puOlYvP9xS0T"
      },
      "outputs": [],
      "source": [
        "# Create the dataset\n",
        "inputs, labels = create_bigram_training_set(words=words, chara2idx=chara2idx)\n",
        "num_classes = len(chara2idx)\n",
        "\n",
        "# Initialize the network, a single linear layer that maps input vectors to logits\n",
        "g = torch.Generator().manual_seed(2147483647)\n",
        "W = torch.randn((27, 27), generator=g, requires_grad=True)"
      ]
    },
    {
      "cell_type": "code",
      "execution_count": null,
      "metadata": {
        "id": "_TCPQOjixS0T"
      },
      "outputs": [],
      "source": [
        "def gradient_descent(\n",
        "    W: torch.Tensor,\n",
        "    inputs: torch.Tensor,\n",
        "    labels: torch.Tensor,\n",
        "    num_classes: int = 27,\n",
        "    num_iterations: int = 1,\n",
        "    learning_rate: float = 0.1,\n",
        ") -> torch.Tensor:\n",
        "    \"\"\"Run the gradient descent algorithm.\n",
        "\n",
        "    Params:\n",
        "        W (torch.Tensor): The weights of our neural model\n",
        "        inputs (torch.Tensor): A tensor containing our input data\n",
        "        labels (torch.Tensor): The target label for each example in our input data\n",
        "        num_classes (int): The number of classes used for one-hot encoding\n",
        "        num_iterations (int): The number of iterations for the gradient descent\n",
        "        learning_rate (float): The learning rate used in updating the weights of the model\n",
        "\n",
        "    Implementation steps:\n",
        "        Step 1: Implement the forward pass with one-hot encoding and then compute the probabilities\n",
        "        Step 2: Compute the probabilities for the next character via the softmax function\n",
        "        Step 3: Calculate the loss\n",
        "        Step 4: Run the backward pass by setting W.grad to None and calling loss.backward\n",
        "        Step 5: Update the matrix with the gradient descent rule\n",
        "        Repeat these steps for all `num_iterations` in a for loop\n",
        "    \"\"\"\n",
        "    raise NotImplementedError(\"You need to implement `gradient_descent`\")\n",
        "\n",
        "W = gradient_descent(W=W, inputs=inputs, labels=labels, num_classes=num_classes, num_iterations=20, learning_rate=50)"
      ]
    },
    {
      "cell_type": "markdown",
      "metadata": {
        "id": "mQvhVnku-Gye"
      },
      "source": [
        "You should expect that your training loss is similar to the one that we have arrived with our table n-gram model in Part 2, so approximately (2.6)."
      ]
    },
    {
      "cell_type": "markdown",
      "metadata": {
        "id": "ZfBX9mQR7mnU"
      },
      "source": [
        "#### Finally, sample from the neural model"
      ]
    },
    {
      "cell_type": "code",
      "execution_count": null,
      "metadata": {
        "id": "_H764H3fxS0T"
      },
      "outputs": [],
      "source": [
        "g = torch.Generator().manual_seed(2147483647)\n",
        "\n",
        "for i in range(5):\n",
        "    out = []\n",
        "    ix = 0\n",
        "    while True:\n",
        "        xenc = F.one_hot(torch.tensor([ix]), num_classes=27).float()\n",
        "        logits = xenc @ W # predict log-counts\n",
        "        counts = logits.exp() # counts, equivalent to N\n",
        "        p = counts / counts.sum(1, keepdims=True) # probabilities for next character\n",
        "\n",
        "        ix = torch.multinomial(p, num_samples=1, replacement=True, generator=g).item()\n",
        "        out.append(idx2chara[ix])\n",
        "        if ix == 0:\n",
        "            break\n",
        "    print(''.join(out))"
      ]
    },
    {
      "cell_type": "markdown",
      "metadata": {
        "id": "N--OypYZBM0J"
      },
      "source": [
        "**bold text**### Takeaways\n",
        "\n",
        "We started with some preliminary tensor manipulations and moved all the way to training a bi-gram language model.\n",
        "In fact, we created two bi-gram language models one by computing co-occurences of characters within our dataset and one by training a single neural layer on predicting the next character in the sequence.\n",
        "\n",
        "While the results in terms of probability estimates are identical, the neural approach is significantly better what we can do next is:\n",
        "\n",
        "- We can complexify the neural network. Currently the model is a single linear layer and accepts only a single character. We can built upon this approach by incorporating multiple of these characters and feed them to more complex networks (with more layers, activation functions etc). Fundamentally though the output the network will always be logits, and so we can always apply the same transormation via softmax and optimize the network via negative log-likelihood, as we did before.\n",
        "\n",
        "- Note that it is not straightfoward how to extend the bi-gram table where there are many more characters at the input, as the 2D table that we have implemented will eventually get way too large as there are many combinations of previous characters.\n",
        "\n",
        "\n"
      ]
    },
    {
      "cell_type": "markdown",
      "metadata": {
        "id": "0F7V8w0YKGv7"
      },
      "source": [
        "### Acknowledgements\n",
        "\n",
        "This tutorial was created following some existing sources available:\n",
        "\n",
        "1. https://pytorch.org/tutorials/beginner/basics/intro.html\n",
        "2. https://pytorch.org/tutorials/beginner/blitz/autograd_tutorial.html\n",
        "3. https://github.com/karpathy/nn-zero-to-hero/tree/master/lectures/makemore\n"
      ]
    }
  ],
  "metadata": {
    "colab": {
      "provenance": [],
      "toc_visible": true
    },
    "kernelspec": {
      "display_name": "Python 3",
      "language": "python",
      "name": "python3"
    },
    "language_info": {
      "codemirror_mode": {
        "name": "ipython",
        "version": 3
      },
      "file_extension": ".py",
      "mimetype": "text/x-python",
      "name": "python",
      "nbconvert_exporter": "python",
      "pygments_lexer": "ipython3",
      "version": "3.8.5"
    }
  },
  "nbformat": 4,
  "nbformat_minor": 0
}
