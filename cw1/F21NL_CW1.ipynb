{
  "cells": [
    {
      "cell_type": "code",
      "execution_count": 1,
      "metadata": {
        "id": "sQaGMPUu5vQW",
        "colab": {
          "base_uri": "https://localhost:8080/"
        },
        "outputId": "07a98802-20f8-4cf8-d4d2-ca2a8a876726"
      },
      "outputs": [
        {
          "output_type": "stream",
          "name": "stdout",
          "text": [
            "--2025-10-08 00:48:22--  https://www.dropbox.com/scl/fi/ibd4cmixckghx6hhb361c/wikitext-filtered-full.zip?rlkey=q71cebf0k5fvvwhmcntoswzhq&dl=1\n",
            "Resolving www.dropbox.com (www.dropbox.com)... 162.125.85.18, 2620:100:6035:18::a27d:5512\n",
            "Connecting to www.dropbox.com (www.dropbox.com)|162.125.85.18|:443... connected.\n",
            "HTTP request sent, awaiting response... 302 Found\n",
            "Location: https://uc4f0052ca0b3fec2962ba514c63.dl-eu.dropboxusercontent.com/cd/0/inline/CyxJ81Z1vVLlSMMztZjwL87sMjlVkn2_hxIAeinRX_ApRkAw6sVJ_sFC81Oa4lcsc4rok_2HQETqcz8Yge1hU1x8oPBjDOkNZF9MhQhstxGxG6hDijJsk7-jfnlb6hMrsPU-U0TIPL1MtLQ4sYxbZeQ-/file?dl=1# [following]\n",
            "--2025-10-08 00:48:22--  https://uc4f0052ca0b3fec2962ba514c63.dl-eu.dropboxusercontent.com/cd/0/inline/CyxJ81Z1vVLlSMMztZjwL87sMjlVkn2_hxIAeinRX_ApRkAw6sVJ_sFC81Oa4lcsc4rok_2HQETqcz8Yge1hU1x8oPBjDOkNZF9MhQhstxGxG6hDijJsk7-jfnlb6hMrsPU-U0TIPL1MtLQ4sYxbZeQ-/file?dl=1\n",
            "Resolving uc4f0052ca0b3fec2962ba514c63.dl-eu.dropboxusercontent.com (uc4f0052ca0b3fec2962ba514c63.dl-eu.dropboxusercontent.com)... 162.125.81.15, 2620:100:6035:15::a27d:550f\n",
            "Connecting to uc4f0052ca0b3fec2962ba514c63.dl-eu.dropboxusercontent.com (uc4f0052ca0b3fec2962ba514c63.dl-eu.dropboxusercontent.com)|162.125.81.15|:443... connected.\n",
            "HTTP request sent, awaiting response... 302 Found\n",
            "Location: /cd/0/inline2/Cyxn68feIKpaLcLb6GpvamaCYnS7bvCzYLVnU2O_fYncgVkM1bcvqYPKbKiZx-XEn3rEnh6pQ9ZT49PrhB2DnF1ub4B97fwpaOIS530ZAg8PU-SZ8uGg-rtD0oMoOhrmZmvw9OO29I5nMKeraBbol6K0VKblJh7kXDfbO6JtCAVXu0AH3dklHl4I1o0jJNT5oD8TjCtRZEnAJFlv78Fkc2ZlnByceIrFVEEOKpShp4fujZlq1HsyE25DitdStByg_qqn0-kqRw7L2rVZTpXzWvSFHe7HiitFRAMAX8818AweSjBZG5aeNGxnDt5c_WoRxFW19zA_X1813VH5oj-o1o5yBOlOYkAQymAyHfdsyCUH5KIOcFbtvL9n0NbWXLQSHKw/file?dl=1 [following]\n",
            "--2025-10-08 00:48:24--  https://uc4f0052ca0b3fec2962ba514c63.dl-eu.dropboxusercontent.com/cd/0/inline2/Cyxn68feIKpaLcLb6GpvamaCYnS7bvCzYLVnU2O_fYncgVkM1bcvqYPKbKiZx-XEn3rEnh6pQ9ZT49PrhB2DnF1ub4B97fwpaOIS530ZAg8PU-SZ8uGg-rtD0oMoOhrmZmvw9OO29I5nMKeraBbol6K0VKblJh7kXDfbO6JtCAVXu0AH3dklHl4I1o0jJNT5oD8TjCtRZEnAJFlv78Fkc2ZlnByceIrFVEEOKpShp4fujZlq1HsyE25DitdStByg_qqn0-kqRw7L2rVZTpXzWvSFHe7HiitFRAMAX8818AweSjBZG5aeNGxnDt5c_WoRxFW19zA_X1813VH5oj-o1o5yBOlOYkAQymAyHfdsyCUH5KIOcFbtvL9n0NbWXLQSHKw/file?dl=1\n",
            "Reusing existing connection to uc4f0052ca0b3fec2962ba514c63.dl-eu.dropboxusercontent.com:443.\n",
            "HTTP request sent, awaiting response... 200 OK\n",
            "Length: 191859755 (183M) [application/binary]\n",
            "Saving to: ‘wikitext-filtered-full.zip’\n",
            "\n",
            "wikitext-filtered-f 100%[===================>] 182.97M  10.5MB/s    in 19s     \n",
            "\n",
            "2025-10-08 00:48:43 (9.56 MB/s) - ‘wikitext-filtered-full.zip’ saved [191859755/191859755]\n",
            "\n",
            "--2025-10-08 00:48:43--  https://www.dropbox.com/scl/fi/ek174r3sg7qjx0aa9atop/wikitext-filtered-10k.zip?rlkey=zy6jqxv6qsc16lr9qm3ki9uhf&dl=1\n",
            "Resolving www.dropbox.com (www.dropbox.com)... 162.125.85.18, 2620:100:6035:18::a27d:5512\n",
            "Connecting to www.dropbox.com (www.dropbox.com)|162.125.85.18|:443... connected.\n",
            "HTTP request sent, awaiting response... 302 Found\n",
            "Location: https://uc18c868bebf313b80fdd7a383e1.dl-eu.dropboxusercontent.com/cd/0/inline/CyxIaox5Me7AfH-SlpMDhRKYWIc8CzKmTvZse2hqr5Ip_bHG9GS7CsyHwblJa1_Dm-5pWAumQpaaMwy3iYO8QulI1TVhjAkarJPi5qEXeWGy9C9V3IJk273cgwb4viiiDmyJE5yFquvmQJFW5B_ILV7a/file?dl=1# [following]\n",
            "--2025-10-08 00:48:44--  https://uc18c868bebf313b80fdd7a383e1.dl-eu.dropboxusercontent.com/cd/0/inline/CyxIaox5Me7AfH-SlpMDhRKYWIc8CzKmTvZse2hqr5Ip_bHG9GS7CsyHwblJa1_Dm-5pWAumQpaaMwy3iYO8QulI1TVhjAkarJPi5qEXeWGy9C9V3IJk273cgwb4viiiDmyJE5yFquvmQJFW5B_ILV7a/file?dl=1\n",
            "Resolving uc18c868bebf313b80fdd7a383e1.dl-eu.dropboxusercontent.com (uc18c868bebf313b80fdd7a383e1.dl-eu.dropboxusercontent.com)... 162.125.81.15, 2620:100:6035:15::a27d:550f\n",
            "Connecting to uc18c868bebf313b80fdd7a383e1.dl-eu.dropboxusercontent.com (uc18c868bebf313b80fdd7a383e1.dl-eu.dropboxusercontent.com)|162.125.81.15|:443... connected.\n",
            "HTTP request sent, awaiting response... 302 Found\n",
            "Location: /cd/0/inline2/CyzqkgXpS1ZnSSGjsZSaAzwyO-6qxOh6p3eJhPQBUIqFVCGs0afr74eBDWfc4gYMxCEBZ7dly0oAtOAzgWHl0-bMrj_M0o2m-ke7xStuqZWJw_H9XVJJjFpBJIuHq-QSUbV66NDAnYan-ddrFsV7rlzuhAGE5h7bvqjyEcOCroHHT3N_Lb0IXu8BtddZRG5i8Kd5W4V6wCma28wpm7JwU61sPF0N6MFUR5lzQ5i7Bbii2AMUB---XE8xJC3RBRXxco5fteJpejAW0QRS55yhbv2pm-TXWFWBNid21ySOUqsuRqxgIHk50-nRWGX5wXedUFYs-_pIc9fLwT_k_WqA5Xkm7PtDdk9HT-7d-bSNQgj4PGIzZ2qhfLSUQHiauyfI2PM/file?dl=1 [following]\n",
            "--2025-10-08 00:48:45--  https://uc18c868bebf313b80fdd7a383e1.dl-eu.dropboxusercontent.com/cd/0/inline2/CyzqkgXpS1ZnSSGjsZSaAzwyO-6qxOh6p3eJhPQBUIqFVCGs0afr74eBDWfc4gYMxCEBZ7dly0oAtOAzgWHl0-bMrj_M0o2m-ke7xStuqZWJw_H9XVJJjFpBJIuHq-QSUbV66NDAnYan-ddrFsV7rlzuhAGE5h7bvqjyEcOCroHHT3N_Lb0IXu8BtddZRG5i8Kd5W4V6wCma28wpm7JwU61sPF0N6MFUR5lzQ5i7Bbii2AMUB---XE8xJC3RBRXxco5fteJpejAW0QRS55yhbv2pm-TXWFWBNid21ySOUqsuRqxgIHk50-nRWGX5wXedUFYs-_pIc9fLwT_k_WqA5Xkm7PtDdk9HT-7d-bSNQgj4PGIzZ2qhfLSUQHiauyfI2PM/file?dl=1\n",
            "Reusing existing connection to uc18c868bebf313b80fdd7a383e1.dl-eu.dropboxusercontent.com:443.\n",
            "HTTP request sent, awaiting response... 200 OK\n",
            "Length: 2230160 (2.1M) [application/binary]\n",
            "Saving to: ‘wikitext-filtered-10k.zip’\n",
            "\n",
            "wikitext-filtered-1 100%[===================>]   2.13M  1.01MB/s    in 2.1s    \n",
            "\n",
            "2025-10-08 00:48:48 (1.01 MB/s) - ‘wikitext-filtered-10k.zip’ saved [2230160/2230160]\n",
            "\n"
          ]
        }
      ],
      "source": [
        "!wget -O wikitext-filtered-full.zip \"https://www.dropbox.com/scl/fi/ibd4cmixckghx6hhb361c/wikitext-filtered-full.zip?rlkey=q71cebf0k5fvvwhmcntoswzhq&dl=1\"\n",
        "!wget -O wikitext-filtered-10k.zip \"https://www.dropbox.com/scl/fi/ek174r3sg7qjx0aa9atop/wikitext-filtered-10k.zip?rlkey=zy6jqxv6qsc16lr9qm3ki9uhf&dl=1\""
      ]
    },
    {
      "cell_type": "code",
      "execution_count": 2,
      "metadata": {
        "id": "0GgyhgwO59KU",
        "colab": {
          "base_uri": "https://localhost:8080/"
        },
        "outputId": "80d49a79-35c7-48d2-b802-0345ccc41bd4"
      },
      "outputs": [
        {
          "output_type": "stream",
          "name": "stdout",
          "text": [
            "Archive:  wikitext-filtered-full.zip\n",
            "   creating: wikitext-filtered-full/\n",
            "  inflating: wikitext-filtered-full/dataset_info.json  \n",
            "  inflating: wikitext-filtered-full/state.json  \n",
            "  inflating: wikitext-filtered-full/data-00000-of-00001.arrow  \n",
            "Archive:  wikitext-filtered-10k.zip\n",
            "   creating: wikitext-filtered-10k/\n",
            "  inflating: wikitext-filtered-10k/dataset_info.json  \n",
            "  inflating: wikitext-filtered-10k/state.json  \n",
            "  inflating: wikitext-filtered-10k/data-00000-of-00001.arrow  \n"
          ]
        }
      ],
      "source": [
        "!unzip wikitext-filtered-full.zip\n",
        "!unzip wikitext-filtered-10k.zip"
      ]
    },
    {
      "cell_type": "code",
      "execution_count": 3,
      "metadata": {
        "id": "gbUoBOOH5_Zy",
        "colab": {
          "base_uri": "https://localhost:8080/"
        },
        "outputId": "9cf561f6-ac97-48f3-f6dc-69fcdfe71737"
      },
      "outputs": [
        {
          "output_type": "stream",
          "name": "stdout",
          "text": [
            "Requirement already satisfied: datasets in /usr/local/lib/python3.12/dist-packages (4.0.0)\n",
            "Requirement already satisfied: filelock in /usr/local/lib/python3.12/dist-packages (from datasets) (3.19.1)\n",
            "Requirement already satisfied: numpy>=1.17 in /usr/local/lib/python3.12/dist-packages (from datasets) (2.0.2)\n",
            "Requirement already satisfied: pyarrow>=15.0.0 in /usr/local/lib/python3.12/dist-packages (from datasets) (18.1.0)\n",
            "Requirement already satisfied: dill<0.3.9,>=0.3.0 in /usr/local/lib/python3.12/dist-packages (from datasets) (0.3.8)\n",
            "Requirement already satisfied: pandas in /usr/local/lib/python3.12/dist-packages (from datasets) (2.2.2)\n",
            "Requirement already satisfied: requests>=2.32.2 in /usr/local/lib/python3.12/dist-packages (from datasets) (2.32.4)\n",
            "Requirement already satisfied: tqdm>=4.66.3 in /usr/local/lib/python3.12/dist-packages (from datasets) (4.67.1)\n",
            "Requirement already satisfied: xxhash in /usr/local/lib/python3.12/dist-packages (from datasets) (3.5.0)\n",
            "Requirement already satisfied: multiprocess<0.70.17 in /usr/local/lib/python3.12/dist-packages (from datasets) (0.70.16)\n",
            "Requirement already satisfied: fsspec<=2025.3.0,>=2023.1.0 in /usr/local/lib/python3.12/dist-packages (from fsspec[http]<=2025.3.0,>=2023.1.0->datasets) (2025.3.0)\n",
            "Requirement already satisfied: huggingface-hub>=0.24.0 in /usr/local/lib/python3.12/dist-packages (from datasets) (0.35.3)\n",
            "Requirement already satisfied: packaging in /usr/local/lib/python3.12/dist-packages (from datasets) (25.0)\n",
            "Requirement already satisfied: pyyaml>=5.1 in /usr/local/lib/python3.12/dist-packages (from datasets) (6.0.3)\n",
            "Requirement already satisfied: aiohttp!=4.0.0a0,!=4.0.0a1 in /usr/local/lib/python3.12/dist-packages (from fsspec[http]<=2025.3.0,>=2023.1.0->datasets) (3.12.15)\n",
            "Requirement already satisfied: typing-extensions>=3.7.4.3 in /usr/local/lib/python3.12/dist-packages (from huggingface-hub>=0.24.0->datasets) (4.15.0)\n",
            "Requirement already satisfied: hf-xet<2.0.0,>=1.1.3 in /usr/local/lib/python3.12/dist-packages (from huggingface-hub>=0.24.0->datasets) (1.1.10)\n",
            "Requirement already satisfied: charset_normalizer<4,>=2 in /usr/local/lib/python3.12/dist-packages (from requests>=2.32.2->datasets) (3.4.3)\n",
            "Requirement already satisfied: idna<4,>=2.5 in /usr/local/lib/python3.12/dist-packages (from requests>=2.32.2->datasets) (3.10)\n",
            "Requirement already satisfied: urllib3<3,>=1.21.1 in /usr/local/lib/python3.12/dist-packages (from requests>=2.32.2->datasets) (2.5.0)\n",
            "Requirement already satisfied: certifi>=2017.4.17 in /usr/local/lib/python3.12/dist-packages (from requests>=2.32.2->datasets) (2025.8.3)\n",
            "Requirement already satisfied: python-dateutil>=2.8.2 in /usr/local/lib/python3.12/dist-packages (from pandas->datasets) (2.9.0.post0)\n",
            "Requirement already satisfied: pytz>=2020.1 in /usr/local/lib/python3.12/dist-packages (from pandas->datasets) (2025.2)\n",
            "Requirement already satisfied: tzdata>=2022.7 in /usr/local/lib/python3.12/dist-packages (from pandas->datasets) (2025.2)\n",
            "Requirement already satisfied: aiohappyeyeballs>=2.5.0 in /usr/local/lib/python3.12/dist-packages (from aiohttp!=4.0.0a0,!=4.0.0a1->fsspec[http]<=2025.3.0,>=2023.1.0->datasets) (2.6.1)\n",
            "Requirement already satisfied: aiosignal>=1.4.0 in /usr/local/lib/python3.12/dist-packages (from aiohttp!=4.0.0a0,!=4.0.0a1->fsspec[http]<=2025.3.0,>=2023.1.0->datasets) (1.4.0)\n",
            "Requirement already satisfied: attrs>=17.3.0 in /usr/local/lib/python3.12/dist-packages (from aiohttp!=4.0.0a0,!=4.0.0a1->fsspec[http]<=2025.3.0,>=2023.1.0->datasets) (25.3.0)\n",
            "Requirement already satisfied: frozenlist>=1.1.1 in /usr/local/lib/python3.12/dist-packages (from aiohttp!=4.0.0a0,!=4.0.0a1->fsspec[http]<=2025.3.0,>=2023.1.0->datasets) (1.7.0)\n",
            "Requirement already satisfied: multidict<7.0,>=4.5 in /usr/local/lib/python3.12/dist-packages (from aiohttp!=4.0.0a0,!=4.0.0a1->fsspec[http]<=2025.3.0,>=2023.1.0->datasets) (6.6.4)\n",
            "Requirement already satisfied: propcache>=0.2.0 in /usr/local/lib/python3.12/dist-packages (from aiohttp!=4.0.0a0,!=4.0.0a1->fsspec[http]<=2025.3.0,>=2023.1.0->datasets) (0.3.2)\n",
            "Requirement already satisfied: yarl<2.0,>=1.17.0 in /usr/local/lib/python3.12/dist-packages (from aiohttp!=4.0.0a0,!=4.0.0a1->fsspec[http]<=2025.3.0,>=2023.1.0->datasets) (1.20.1)\n",
            "Requirement already satisfied: six>=1.5 in /usr/local/lib/python3.12/dist-packages (from python-dateutil>=2.8.2->pandas->datasets) (1.17.0)\n"
          ]
        }
      ],
      "source": [
        "!pip install datasets\n",
        "import datasets"
      ]
    },
    {
      "cell_type": "code",
      "execution_count": 4,
      "metadata": {
        "id": "aYe6Rq5k6Bgu",
        "colab": {
          "base_uri": "https://localhost:8080/"
        },
        "outputId": "cbb8788a-99ee-402c-fab6-e2d69a01d8a6"
      },
      "outputs": [
        {
          "output_type": "stream",
          "name": "stdout",
          "text": [
            "wikitext_small: 10000 docs, wikitext_large: 859955 docs\n"
          ]
        }
      ],
      "source": [
        "from datasets import load_dataset, Dataset\n",
        "\n",
        "def load_dataset():\n",
        "  wikitext_small = \"wikitext-filtered-10k\"\n",
        "  wikitext_large = \"wikitext-filtered-full\"\n",
        "\n",
        "  dataset_small = Dataset.load_from_disk(wikitext_small)\n",
        "  dataset_large = Dataset.load_from_disk(wikitext_large)\n",
        "  print(\"wikitext_small: {} docs, wikitext_large: {} docs\".format(len(dataset_small), len(dataset_large)))\n",
        "  return dataset_small, dataset_large\n",
        "\n",
        "wikitext_small, wikitext_large = load_dataset()"
      ]
    }
  ],
  "metadata": {
    "colab": {
      "provenance": []
    },
    "kernelspec": {
      "display_name": "athnlp-lab3",
      "language": "python",
      "name": "python3"
    },
    "language_info": {
      "codemirror_mode": {
        "name": "ipython",
        "version": 3
      },
      "file_extension": ".py",
      "mimetype": "text/x-python",
      "name": "python",
      "nbconvert_exporter": "python",
      "pygments_lexer": "ipython3",
      "version": "3.11.9"
    }
  },
  "nbformat": 4,
  "nbformat_minor": 0
}