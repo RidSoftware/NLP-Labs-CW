{
  "cells": [
    {
      "cell_type": "code",
      "execution_count": 3,
      "metadata": {
        "id": "sQaGMPUu5vQW"
      },
      "outputs": [
        {
          "name": "stdout",
          "output_type": "stream",
          "text": [
            "--2025-09-27 22:11:51--  https://www.dropbox.com/scl/fi/ibd4cmixckghx6hhb361c/wikitext-filtered-full.zip?rlkey=q71cebf0k5fvvwhmcntoswzhq&dl=1\n",
            "Resolving www.dropbox.com (www.dropbox.com)... 162.125.65.18\n",
            "Connecting to www.dropbox.com (www.dropbox.com)|162.125.65.18|:443... connected.\n",
            "HTTP request sent, awaiting response... 302 Found\n",
            "Location: https://uc3221cf0950891dca39cedc3510.dl-eu.dropboxusercontent.com/cd/0/inline/CyK7cCjcMvU0ocbeIDN1tBMbSnxSpWd5X8KScFyaDjWqaw-W8owbU1Ltis6SQnWT281d7EwO40sNGXwZ4GKOeD0DbndFD7HZWn8xnH1GBYFC-p--swTZFQvTdmU6W9DX9E9y6iy3hQGSeALoeRnYG754/file?dl=1# [following]\n",
            "--2025-09-27 22:11:51--  https://uc3221cf0950891dca39cedc3510.dl-eu.dropboxusercontent.com/cd/0/inline/CyK7cCjcMvU0ocbeIDN1tBMbSnxSpWd5X8KScFyaDjWqaw-W8owbU1Ltis6SQnWT281d7EwO40sNGXwZ4GKOeD0DbndFD7HZWn8xnH1GBYFC-p--swTZFQvTdmU6W9DX9E9y6iy3hQGSeALoeRnYG754/file?dl=1\n",
            "Resolving uc3221cf0950891dca39cedc3510.dl-eu.dropboxusercontent.com (uc3221cf0950891dca39cedc3510.dl-eu.dropboxusercontent.com)... 162.125.65.15\n",
            "Connecting to uc3221cf0950891dca39cedc3510.dl-eu.dropboxusercontent.com (uc3221cf0950891dca39cedc3510.dl-eu.dropboxusercontent.com)|162.125.65.15|:443... connected.\n",
            "HTTP request sent, awaiting response... 302 Found\n",
            "Location: /cd/0/inline2/CyJMjpQd7LpMt7DZjmTVFIZAUQFIyRJ1Lp8Dr2_d14ieIa14hPi7LCS_NwiqKqPDSgjOT4xTvH1WrCml9xZ8uucXaz3evzX6dDTfg62Yxf5x1v04N9kaxjOnzWsm2I1TbhO8DiaO-tBODCXHsqTAoW59ZBJtG3hLbNMlkO12s_ZtXPMBUI3XFJYHl5oWJo04_JloDqlTQhIhulIF8JQ5zqMnW5jukoKKCBD6MAr1ZwlXQ89Kbc9FwceJ_6fnnUoebBX-WOk8Rcfun9CDOz1L3OhXJVyyR8gsCLwUU5ZMGsBe46nbCUwpvAGQl-xbI-z8GNSr8hlRWk7JtO84I1NfSTeKdSapLcGqs1LHp1nIBjlWu1LCRTcKEX9Z5jWeNjtxyLY/file?dl=1 [following]\n",
            "--2025-09-27 22:11:52--  https://uc3221cf0950891dca39cedc3510.dl-eu.dropboxusercontent.com/cd/0/inline2/CyJMjpQd7LpMt7DZjmTVFIZAUQFIyRJ1Lp8Dr2_d14ieIa14hPi7LCS_NwiqKqPDSgjOT4xTvH1WrCml9xZ8uucXaz3evzX6dDTfg62Yxf5x1v04N9kaxjOnzWsm2I1TbhO8DiaO-tBODCXHsqTAoW59ZBJtG3hLbNMlkO12s_ZtXPMBUI3XFJYHl5oWJo04_JloDqlTQhIhulIF8JQ5zqMnW5jukoKKCBD6MAr1ZwlXQ89Kbc9FwceJ_6fnnUoebBX-WOk8Rcfun9CDOz1L3OhXJVyyR8gsCLwUU5ZMGsBe46nbCUwpvAGQl-xbI-z8GNSr8hlRWk7JtO84I1NfSTeKdSapLcGqs1LHp1nIBjlWu1LCRTcKEX9Z5jWeNjtxyLY/file?dl=1\n",
            "Reusing existing connection to uc3221cf0950891dca39cedc3510.dl-eu.dropboxusercontent.com:443.\n",
            "HTTP request sent, awaiting response... 200 OK\n",
            "Length: 191859755 (183M) [application/binary]\n",
            "Saving to: ‘wikitext-filtered-full.zip’\n",
            "\n",
            "wikitext-filtered-f 100%[===================>] 182.97M  15.7MB/s    in 22s     \n",
            "\n",
            "2025-09-27 22:12:14 (8.47 MB/s) - ‘wikitext-filtered-full.zip’ saved [191859755/191859755]\n",
            "\n",
            "--2025-09-27 22:12:14--  https://www.dropbox.com/scl/fi/ek174r3sg7qjx0aa9atop/wikitext-filtered-10k.zip?rlkey=zy6jqxv6qsc16lr9qm3ki9uhf&dl=1\n",
            "Resolving www.dropbox.com (www.dropbox.com)... 162.125.65.18\n",
            "Connecting to www.dropbox.com (www.dropbox.com)|162.125.65.18|:443... connected.\n",
            "HTTP request sent, awaiting response... 302 Found\n",
            "Location: https://uc262122295ca9b06deba71d6106.dl-eu.dropboxusercontent.com/cd/0/inline/CyJaU3mWoMEq5rdXV2SJZh8kTNoPOrn02y8G_PKHIkim9gZ0uMgCLMB3GYHG5Czhcaeb91azW7fAxtjjoRKsWp2zUury5RhaQANJvB5suMlRjZ8EkITvfxeGQCKoriWh-5_hFTeuIFd8M_QkkduBQQO5/file?dl=1# [following]\n",
            "--2025-09-27 22:12:15--  https://uc262122295ca9b06deba71d6106.dl-eu.dropboxusercontent.com/cd/0/inline/CyJaU3mWoMEq5rdXV2SJZh8kTNoPOrn02y8G_PKHIkim9gZ0uMgCLMB3GYHG5Czhcaeb91azW7fAxtjjoRKsWp2zUury5RhaQANJvB5suMlRjZ8EkITvfxeGQCKoriWh-5_hFTeuIFd8M_QkkduBQQO5/file?dl=1\n",
            "Resolving uc262122295ca9b06deba71d6106.dl-eu.dropboxusercontent.com (uc262122295ca9b06deba71d6106.dl-eu.dropboxusercontent.com)... 162.125.65.15\n",
            "Connecting to uc262122295ca9b06deba71d6106.dl-eu.dropboxusercontent.com (uc262122295ca9b06deba71d6106.dl-eu.dropboxusercontent.com)|162.125.65.15|:443... connected.\n",
            "HTTP request sent, awaiting response... 302 Found\n",
            "Location: /cd/0/inline2/CyIrtEu5e809IJgkYTB1wFAs1kf_eR8Dh3JyX8WK2u_RqoCaJwTn2slxZA2UkSlK9XqPVnXt0vO_iV8PNSrhGE5tHj1cgC2R4nLkbl3GdxPn5_KxRnam18ZkPfgQVoS0k9YHnyQ0LNJniK7LQUw23uVXblA6L6vVweGw7qpqwsR9y8AUfTgBSIwGahJU5Vwr2tjlGMyPwrJ9Jazxk1NzDxBox3raj6gV84ug4BT6v7kP2JsJDAujWzBVAndBNhZt_zWER6-Ga14_TNTASWNAXSWUMjgdhoRvjHvLTdtcSWcJtT39kOtd0C_VU3lGP1HfUV-W9f_M5NqBOqDmNoc_sUYGQfbkG6ATUmp03cCGp0yMHZal4rphg-o6BNN_yw3IIwY/file?dl=1 [following]\n",
            "--2025-09-27 22:12:16--  https://uc262122295ca9b06deba71d6106.dl-eu.dropboxusercontent.com/cd/0/inline2/CyIrtEu5e809IJgkYTB1wFAs1kf_eR8Dh3JyX8WK2u_RqoCaJwTn2slxZA2UkSlK9XqPVnXt0vO_iV8PNSrhGE5tHj1cgC2R4nLkbl3GdxPn5_KxRnam18ZkPfgQVoS0k9YHnyQ0LNJniK7LQUw23uVXblA6L6vVweGw7qpqwsR9y8AUfTgBSIwGahJU5Vwr2tjlGMyPwrJ9Jazxk1NzDxBox3raj6gV84ug4BT6v7kP2JsJDAujWzBVAndBNhZt_zWER6-Ga14_TNTASWNAXSWUMjgdhoRvjHvLTdtcSWcJtT39kOtd0C_VU3lGP1HfUV-W9f_M5NqBOqDmNoc_sUYGQfbkG6ATUmp03cCGp0yMHZal4rphg-o6BNN_yw3IIwY/file?dl=1\n",
            "Reusing existing connection to uc262122295ca9b06deba71d6106.dl-eu.dropboxusercontent.com:443.\n",
            "HTTP request sent, awaiting response... 200 OK\n",
            "Length: 2230160 (2.1M) [application/binary]\n",
            "Saving to: ‘wikitext-filtered-10k.zip’\n",
            "\n",
            "wikitext-filtered-1 100%[===================>]   2.13M  6.85MB/s    in 0.3s    \n",
            "\n",
            "2025-09-27 22:12:16 (6.85 MB/s) - ‘wikitext-filtered-10k.zip’ saved [2230160/2230160]\n",
            "\n"
          ]
        }
      ],
      "source": [
        "!wget -O wikitext-filtered-full.zip \"https://www.dropbox.com/scl/fi/ibd4cmixckghx6hhb361c/wikitext-filtered-full.zip?rlkey=q71cebf0k5fvvwhmcntoswzhq&dl=1\"\n",
        "!wget -O wikitext-filtered-10k.zip \"https://www.dropbox.com/scl/fi/ek174r3sg7qjx0aa9atop/wikitext-filtered-10k.zip?rlkey=zy6jqxv6qsc16lr9qm3ki9uhf&dl=1\""
      ]
    },
    {
      "cell_type": "code",
      "execution_count": 4,
      "metadata": {
        "id": "0GgyhgwO59KU"
      },
      "outputs": [
        {
          "name": "stdout",
          "output_type": "stream",
          "text": [
            "Archive:  wikitext-filtered-full.zip\n",
            "   creating: wikitext-filtered-full/\n",
            "  inflating: wikitext-filtered-full/dataset_info.json  \n",
            "  inflating: wikitext-filtered-full/state.json  \n",
            "  inflating: wikitext-filtered-full/data-00000-of-00001.arrow  \n",
            "Archive:  wikitext-filtered-10k.zip\n",
            "   creating: wikitext-filtered-10k/\n",
            "  inflating: wikitext-filtered-10k/dataset_info.json  \n",
            "  inflating: wikitext-filtered-10k/state.json  \n",
            "  inflating: wikitext-filtered-10k/data-00000-of-00001.arrow  \n"
          ]
        }
      ],
      "source": [
        "!unzip wikitext-filtered-full.zip\n",
        "!unzip wikitext-filtered-10k.zip"
      ]
    },
    {
      "cell_type": "code",
      "execution_count": 2,
      "metadata": {
        "id": "gbUoBOOH5_Zy"
      },
      "outputs": [
        {
          "name": "stdout",
          "output_type": "stream",
          "text": [
            "Requirement already satisfied: datasets in /Users/ikonstas/.pyenv/versions/athnlp-lab3/lib/python3.11/site-packages (3.0.0)\n",
            "Requirement already satisfied: filelock in /Users/ikonstas/.pyenv/versions/athnlp-lab3/lib/python3.11/site-packages (from datasets) (3.15.4)\n",
            "Requirement already satisfied: numpy>=1.17 in /Users/ikonstas/.pyenv/versions/athnlp-lab3/lib/python3.11/site-packages (from datasets) (1.26.4)\n",
            "Requirement already satisfied: pyarrow>=15.0.0 in /Users/ikonstas/.pyenv/versions/athnlp-lab3/lib/python3.11/site-packages (from datasets) (17.0.0)\n",
            "Requirement already satisfied: dill<0.3.9,>=0.3.0 in /Users/ikonstas/.pyenv/versions/athnlp-lab3/lib/python3.11/site-packages (from datasets) (0.3.8)\n",
            "Requirement already satisfied: pandas in /Users/ikonstas/.pyenv/versions/athnlp-lab3/lib/python3.11/site-packages (from datasets) (2.2.2)\n",
            "Requirement already satisfied: requests>=2.32.2 in /Users/ikonstas/.pyenv/versions/athnlp-lab3/lib/python3.11/site-packages (from datasets) (2.32.3)\n",
            "Requirement already satisfied: tqdm>=4.66.3 in /Users/ikonstas/.pyenv/versions/athnlp-lab3/lib/python3.11/site-packages (from datasets) (4.66.5)\n",
            "Requirement already satisfied: xxhash in /Users/ikonstas/.pyenv/versions/athnlp-lab3/lib/python3.11/site-packages (from datasets) (3.5.0)\n",
            "Requirement already satisfied: multiprocess in /Users/ikonstas/.pyenv/versions/athnlp-lab3/lib/python3.11/site-packages (from datasets) (0.70.16)\n",
            "Requirement already satisfied: fsspec<=2024.6.1,>=2023.1.0 in /Users/ikonstas/.pyenv/versions/athnlp-lab3/lib/python3.11/site-packages (from fsspec[http]<=2024.6.1,>=2023.1.0->datasets) (2024.6.1)\n",
            "Requirement already satisfied: aiohttp in /Users/ikonstas/.pyenv/versions/athnlp-lab3/lib/python3.11/site-packages (from datasets) (3.10.5)\n",
            "Requirement already satisfied: huggingface-hub>=0.22.0 in /Users/ikonstas/.pyenv/versions/athnlp-lab3/lib/python3.11/site-packages (from datasets) (0.25.0)\n",
            "Requirement already satisfied: packaging in /Users/ikonstas/.pyenv/versions/athnlp-lab3/lib/python3.11/site-packages (from datasets) (24.1)\n",
            "Requirement already satisfied: pyyaml>=5.1 in /Users/ikonstas/.pyenv/versions/athnlp-lab3/lib/python3.11/site-packages (from datasets) (6.0.2)\n",
            "Requirement already satisfied: aiohappyeyeballs>=2.3.0 in /Users/ikonstas/.pyenv/versions/athnlp-lab3/lib/python3.11/site-packages (from aiohttp->datasets) (2.4.0)\n",
            "Requirement already satisfied: aiosignal>=1.1.2 in /Users/ikonstas/.pyenv/versions/athnlp-lab3/lib/python3.11/site-packages (from aiohttp->datasets) (1.3.1)\n",
            "Requirement already satisfied: attrs>=17.3.0 in /Users/ikonstas/.pyenv/versions/athnlp-lab3/lib/python3.11/site-packages (from aiohttp->datasets) (24.2.0)\n",
            "Requirement already satisfied: frozenlist>=1.1.1 in /Users/ikonstas/.pyenv/versions/athnlp-lab3/lib/python3.11/site-packages (from aiohttp->datasets) (1.4.1)\n",
            "Requirement already satisfied: multidict<7.0,>=4.5 in /Users/ikonstas/.pyenv/versions/athnlp-lab3/lib/python3.11/site-packages (from aiohttp->datasets) (6.1.0)\n",
            "Requirement already satisfied: yarl<2.0,>=1.0 in /Users/ikonstas/.pyenv/versions/athnlp-lab3/lib/python3.11/site-packages (from aiohttp->datasets) (1.11.1)\n",
            "Requirement already satisfied: typing-extensions>=3.7.4.3 in /Users/ikonstas/.pyenv/versions/athnlp-lab3/lib/python3.11/site-packages (from huggingface-hub>=0.22.0->datasets) (4.12.2)\n",
            "Requirement already satisfied: charset-normalizer<4,>=2 in /Users/ikonstas/.pyenv/versions/athnlp-lab3/lib/python3.11/site-packages (from requests>=2.32.2->datasets) (3.3.2)\n",
            "Requirement already satisfied: idna<4,>=2.5 in /Users/ikonstas/.pyenv/versions/athnlp-lab3/lib/python3.11/site-packages (from requests>=2.32.2->datasets) (3.10)\n",
            "Requirement already satisfied: urllib3<3,>=1.21.1 in /Users/ikonstas/.pyenv/versions/athnlp-lab3/lib/python3.11/site-packages (from requests>=2.32.2->datasets) (2.2.3)\n",
            "Requirement already satisfied: certifi>=2017.4.17 in /Users/ikonstas/.pyenv/versions/athnlp-lab3/lib/python3.11/site-packages (from requests>=2.32.2->datasets) (2024.8.30)\n",
            "Requirement already satisfied: python-dateutil>=2.8.2 in /Users/ikonstas/.pyenv/versions/athnlp-lab3/lib/python3.11/site-packages (from pandas->datasets) (2.9.0.post0)\n",
            "Requirement already satisfied: pytz>=2020.1 in /Users/ikonstas/.pyenv/versions/athnlp-lab3/lib/python3.11/site-packages (from pandas->datasets) (2024.2)\n",
            "Requirement already satisfied: tzdata>=2022.7 in /Users/ikonstas/.pyenv/versions/athnlp-lab3/lib/python3.11/site-packages (from pandas->datasets) (2024.1)\n",
            "Requirement already satisfied: six>=1.5 in /Users/ikonstas/.pyenv/versions/athnlp-lab3/lib/python3.11/site-packages (from python-dateutil>=2.8.2->pandas->datasets) (1.16.0)\n",
            "\n",
            "\u001b[1m[\u001b[0m\u001b[34;49mnotice\u001b[0m\u001b[1;39;49m]\u001b[0m\u001b[39;49m A new release of pip is available: \u001b[0m\u001b[31;49m24.2\u001b[0m\u001b[39;49m -> \u001b[0m\u001b[32;49m25.2\u001b[0m\n",
            "\u001b[1m[\u001b[0m\u001b[34;49mnotice\u001b[0m\u001b[1;39;49m]\u001b[0m\u001b[39;49m To update, run: \u001b[0m\u001b[32;49mpip install --upgrade pip\u001b[0m\n"
          ]
        },
        {
          "name": "stderr",
          "output_type": "stream",
          "text": [
            "/Users/ikonstas/.pyenv/versions/athnlp-lab3/lib/python3.11/site-packages/tqdm/auto.py:21: TqdmWarning: IProgress not found. Please update jupyter and ipywidgets. See https://ipywidgets.readthedocs.io/en/stable/user_install.html\n",
            "  from .autonotebook import tqdm as notebook_tqdm\n"
          ]
        }
      ],
      "source": [
        "!pip install datasets\n",
        "import datasets"
      ]
    },
    {
      "cell_type": "code",
      "execution_count": 5,
      "metadata": {
        "id": "aYe6Rq5k6Bgu"
      },
      "outputs": [
        {
          "name": "stdout",
          "output_type": "stream",
          "text": [
            "wikitext_small: 10000 docs, wikitext_large: 859955 docs\n"
          ]
        }
      ],
      "source": [
        "from datasets import load_dataset, Dataset\n",
        "\n",
        "def load_dataset():\n",
        "  wikitext_small = \"wikitext-filtered-10k\"\n",
        "  wikitext_large = \"wikitext-filtered-full\"\n",
        "\n",
        "  dataset_small = Dataset.load_from_disk(wikitext_small)\n",
        "  dataset_large = Dataset.load_from_disk(wikitext_large)\n",
        "  print(\"wikitext_small: {} docs, wikitext_large: {} docs\".format(len(dataset_small), len(dataset_large)))\n",
        "  return dataset_small, dataset_large\n",
        "\n",
        "wikitext_small, wikitext_large = load_dataset()"
      ]
    }
  ],
  "metadata": {
    "colab": {
      "provenance": []
    },
    "kernelspec": {
      "display_name": "athnlp-lab3",
      "language": "python",
      "name": "python3"
    },
    "language_info": {
      "codemirror_mode": {
        "name": "ipython",
        "version": 3
      },
      "file_extension": ".py",
      "mimetype": "text/x-python",
      "name": "python",
      "nbconvert_exporter": "python",
      "pygments_lexer": "ipython3",
      "version": "3.11.9"
    }
  },
  "nbformat": 4,
  "nbformat_minor": 0
}
