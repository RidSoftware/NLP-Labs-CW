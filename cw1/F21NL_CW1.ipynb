{
  "cells": [
    {
      "cell_type": "markdown",
      "source": [
        "# Step 1 (Enviroment Setup)\n",
        "\n",
        "\n",
        "---\n",
        "\n",
        "\n",
        "## Importing the Datasets\n",
        "wikitext (*full* ) - 859955 docs\n",
        "\n",
        "wikitext (*small* ) - 10000 docs"
      ],
      "metadata": {
        "id": "I02HtuGWggmv"
      }
    },
    {
      "cell_type": "code",
      "execution_count": 1,
      "metadata": {
        "id": "sQaGMPUu5vQW",
        "colab": {
          "base_uri": "https://localhost:8080/"
        },
        "outputId": "46bbabab-ecff-4b14-c025-3094cb6130e0",
        "collapsed": true
      },
      "outputs": [
        {
          "output_type": "stream",
          "name": "stdout",
          "text": [
            "--2025-10-20 08:38:49--  https://www.dropbox.com/scl/fi/ibd4cmixckghx6hhb361c/wikitext-filtered-full.zip?rlkey=q71cebf0k5fvvwhmcntoswzhq&dl=1\n",
            "Resolving www.dropbox.com (www.dropbox.com)... 162.125.1.18, 2620:100:6016:18::a27d:112\n",
            "Connecting to www.dropbox.com (www.dropbox.com)|162.125.1.18|:443... connected.\n",
            "HTTP request sent, awaiting response... 302 Found\n",
            "Location: https://uc3b588031cc1d50bea7a00d4a6d.dl-eu.dropboxusercontent.com/cd/0/inline/CzmPZgxgYO63SV9LrYxYUMaZXXH2lb6pywYviRNGFwFFMeFYDt7wwR-9wcA99pZwJYBBx5jsKjTkyN8gYsz5fOv6gV7XctGXxk36oFssNZ8YQyfDCC_j140SbkEVpAgKV7BnD56hBB4eRBM5tzB1bQWY/file?dl=1# [following]\n",
            "--2025-10-20 08:38:50--  https://uc3b588031cc1d50bea7a00d4a6d.dl-eu.dropboxusercontent.com/cd/0/inline/CzmPZgxgYO63SV9LrYxYUMaZXXH2lb6pywYviRNGFwFFMeFYDt7wwR-9wcA99pZwJYBBx5jsKjTkyN8gYsz5fOv6gV7XctGXxk36oFssNZ8YQyfDCC_j140SbkEVpAgKV7BnD56hBB4eRBM5tzB1bQWY/file?dl=1\n",
            "Resolving uc3b588031cc1d50bea7a00d4a6d.dl-eu.dropboxusercontent.com (uc3b588031cc1d50bea7a00d4a6d.dl-eu.dropboxusercontent.com)... 162.125.1.15, 2620:100:601c:15::a27d:60f\n",
            "Connecting to uc3b588031cc1d50bea7a00d4a6d.dl-eu.dropboxusercontent.com (uc3b588031cc1d50bea7a00d4a6d.dl-eu.dropboxusercontent.com)|162.125.1.15|:443... connected.\n",
            "HTTP request sent, awaiting response... 302 Found\n",
            "Location: /cd/0/inline2/CzmgYHFE3akv5PorVlHmRcIxL6HmVBXJLZb9f6mFf49oytvWl3JScUeJ1tjA2MUwNWqsExPTNHgKzCYD8YXKH3yuCaeU89krvFVHf8SXIh2XTFch7vMzJ4Nnvdlz3ccyO2S4PPTggP144n9-fylO7dNymxXt3zYVIsUwQT2TCoJge7IJq0McaPU5bSjuNwdDXDLd9R5oAssohrRQWPIh5vnqa0io8Lxi2ayjPNFNAiHSRkQZSfNOJHQZ0NV6VXhPD0VU3-aQWOP6_VCO8pKGBqKlokXO01vVKPNylk0VBxR-GSy7UdDbj6Vu4esunJRDHKE0icTlyXGkE9AwsB1G7H_8B0SJKe1qEnGhACSMfwyGdU0C9mI4k1ZOXrqo9p-f6uE/file?dl=1 [following]\n",
            "--2025-10-20 08:38:51--  https://uc3b588031cc1d50bea7a00d4a6d.dl-eu.dropboxusercontent.com/cd/0/inline2/CzmgYHFE3akv5PorVlHmRcIxL6HmVBXJLZb9f6mFf49oytvWl3JScUeJ1tjA2MUwNWqsExPTNHgKzCYD8YXKH3yuCaeU89krvFVHf8SXIh2XTFch7vMzJ4Nnvdlz3ccyO2S4PPTggP144n9-fylO7dNymxXt3zYVIsUwQT2TCoJge7IJq0McaPU5bSjuNwdDXDLd9R5oAssohrRQWPIh5vnqa0io8Lxi2ayjPNFNAiHSRkQZSfNOJHQZ0NV6VXhPD0VU3-aQWOP6_VCO8pKGBqKlokXO01vVKPNylk0VBxR-GSy7UdDbj6Vu4esunJRDHKE0icTlyXGkE9AwsB1G7H_8B0SJKe1qEnGhACSMfwyGdU0C9mI4k1ZOXrqo9p-f6uE/file?dl=1\n",
            "Reusing existing connection to uc3b588031cc1d50bea7a00d4a6d.dl-eu.dropboxusercontent.com:443.\n",
            "HTTP request sent, awaiting response... 200 OK\n",
            "Length: 191859755 (183M) [application/binary]\n",
            "Saving to: ‘wikitext-filtered-full.zip’\n",
            "\n",
            "wikitext-filtered-f 100%[===================>] 182.97M  20.7MB/s    in 10s     \n",
            "\n",
            "2025-10-20 08:39:03 (17.8 MB/s) - ‘wikitext-filtered-full.zip’ saved [191859755/191859755]\n",
            "\n",
            "--2025-10-20 08:39:03--  https://www.dropbox.com/scl/fi/ek174r3sg7qjx0aa9atop/wikitext-filtered-10k.zip?rlkey=zy6jqxv6qsc16lr9qm3ki9uhf&dl=1\n",
            "Resolving www.dropbox.com (www.dropbox.com)... 162.125.1.18, 2620:100:6016:18::a27d:112\n",
            "Connecting to www.dropbox.com (www.dropbox.com)|162.125.1.18|:443... connected.\n",
            "HTTP request sent, awaiting response... 302 Found\n",
            "Location: https://ucf2017ee7ac35c11ab747fd9b4e.dl-eu.dropboxusercontent.com/cd/0/inline/CzlhgEzbPWsfIrxvR672ruhhxpkntD3_3yx9CzxmKDLtv711UR00SX1sAJguQM9GZpjxQG72_3WHGbOp8HKSpWRUH2RvRY2QoSqWRBj8MRmlJa8RCcS1NcUuzMNukROg1zxg65OCxn9y-eL4DvhfVHAX/file?dl=1# [following]\n",
            "--2025-10-20 08:39:04--  https://ucf2017ee7ac35c11ab747fd9b4e.dl-eu.dropboxusercontent.com/cd/0/inline/CzlhgEzbPWsfIrxvR672ruhhxpkntD3_3yx9CzxmKDLtv711UR00SX1sAJguQM9GZpjxQG72_3WHGbOp8HKSpWRUH2RvRY2QoSqWRBj8MRmlJa8RCcS1NcUuzMNukROg1zxg65OCxn9y-eL4DvhfVHAX/file?dl=1\n",
            "Resolving ucf2017ee7ac35c11ab747fd9b4e.dl-eu.dropboxusercontent.com (ucf2017ee7ac35c11ab747fd9b4e.dl-eu.dropboxusercontent.com)... 162.125.1.15, 2620:100:6016:15::a27d:10f\n",
            "Connecting to ucf2017ee7ac35c11ab747fd9b4e.dl-eu.dropboxusercontent.com (ucf2017ee7ac35c11ab747fd9b4e.dl-eu.dropboxusercontent.com)|162.125.1.15|:443... connected.\n",
            "HTTP request sent, awaiting response... 302 Found\n",
            "Location: /cd/0/inline2/CzmFYITl6GVKRRVQ7ChN757bHsC3yc3mP4IXfX928Jx2rUdGzc8S--Vrs9xOKJ9Chxvhhavyl0md4Q33INFoxK8Bq_AaVW69UAuBhMfUcS1wke5TQK1xJQjlkBD9xv_zni-l9F35QwHzdzRVAAp3RmhDmoeFYwlCX6lyqWVOx8E7WqHbYmzdZwQu7Bgn9zuUPEHraYNfYvEuneKSZTYsutMcyhafkbSc457r2BBL3-btfzfczD2RIWzdPRuw7RiX2CfcToCnPkCJYO6HDjLgUIUDDmop5eF52ZRjIg3_g0_WkleBoVundh4IBHmPe_Ra_EdbzZE86SKVWjLThY1OIpfWaQmBZPaZPKU_w3lyvT7s8SYG_lpCGZVdDlV1SKRmbrE/file?dl=1 [following]\n",
            "--2025-10-20 08:39:05--  https://ucf2017ee7ac35c11ab747fd9b4e.dl-eu.dropboxusercontent.com/cd/0/inline2/CzmFYITl6GVKRRVQ7ChN757bHsC3yc3mP4IXfX928Jx2rUdGzc8S--Vrs9xOKJ9Chxvhhavyl0md4Q33INFoxK8Bq_AaVW69UAuBhMfUcS1wke5TQK1xJQjlkBD9xv_zni-l9F35QwHzdzRVAAp3RmhDmoeFYwlCX6lyqWVOx8E7WqHbYmzdZwQu7Bgn9zuUPEHraYNfYvEuneKSZTYsutMcyhafkbSc457r2BBL3-btfzfczD2RIWzdPRuw7RiX2CfcToCnPkCJYO6HDjLgUIUDDmop5eF52ZRjIg3_g0_WkleBoVundh4IBHmPe_Ra_EdbzZE86SKVWjLThY1OIpfWaQmBZPaZPKU_w3lyvT7s8SYG_lpCGZVdDlV1SKRmbrE/file?dl=1\n",
            "Reusing existing connection to ucf2017ee7ac35c11ab747fd9b4e.dl-eu.dropboxusercontent.com:443.\n",
            "HTTP request sent, awaiting response... 200 OK\n",
            "Length: 2230160 (2.1M) [application/binary]\n",
            "Saving to: ‘wikitext-filtered-10k.zip’\n",
            "\n",
            "wikitext-filtered-1 100%[===================>]   2.13M  1.83MB/s    in 1.2s    \n",
            "\n",
            "2025-10-20 08:39:07 (1.83 MB/s) - ‘wikitext-filtered-10k.zip’ saved [2230160/2230160]\n",
            "\n"
          ]
        }
      ],
      "source": [
        "!wget -O wikitext-filtered-full.zip \"https://www.dropbox.com/scl/fi/ibd4cmixckghx6hhb361c/wikitext-filtered-full.zip?rlkey=q71cebf0k5fvvwhmcntoswzhq&dl=1\"\n",
        "!wget -O wikitext-filtered-10k.zip \"https://www.dropbox.com/scl/fi/ek174r3sg7qjx0aa9atop/wikitext-filtered-10k.zip?rlkey=zy6jqxv6qsc16lr9qm3ki9uhf&dl=1\""
      ]
    },
    {
      "cell_type": "code",
      "execution_count": 2,
      "metadata": {
        "id": "0GgyhgwO59KU",
        "colab": {
          "base_uri": "https://localhost:8080/"
        },
        "outputId": "0cb94d50-d6c8-401c-a30c-8808532a6790",
        "collapsed": true
      },
      "outputs": [
        {
          "output_type": "stream",
          "name": "stdout",
          "text": [
            "Archive:  wikitext-filtered-full.zip\n",
            "   creating: wikitext-filtered-full/\n",
            "  inflating: wikitext-filtered-full/dataset_info.json  \n",
            "  inflating: wikitext-filtered-full/state.json  \n",
            "  inflating: wikitext-filtered-full/data-00000-of-00001.arrow  \n",
            "Archive:  wikitext-filtered-10k.zip\n",
            "   creating: wikitext-filtered-10k/\n",
            "  inflating: wikitext-filtered-10k/dataset_info.json  \n",
            "  inflating: wikitext-filtered-10k/state.json  \n",
            "  inflating: wikitext-filtered-10k/data-00000-of-00001.arrow  \n"
          ]
        }
      ],
      "source": [
        "!unzip wikitext-filtered-full.zip\n",
        "!unzip wikitext-filtered-10k.zip"
      ]
    },
    {
      "cell_type": "code",
      "execution_count": 3,
      "metadata": {
        "id": "gbUoBOOH5_Zy",
        "colab": {
          "base_uri": "https://localhost:8080/"
        },
        "outputId": "55c28f1b-92e0-4685-bf58-c84a554b8263",
        "collapsed": true
      },
      "outputs": [
        {
          "output_type": "stream",
          "name": "stdout",
          "text": [
            "Requirement already satisfied: datasets in /usr/local/lib/python3.12/dist-packages (4.0.0)\n",
            "Requirement already satisfied: filelock in /usr/local/lib/python3.12/dist-packages (from datasets) (3.20.0)\n",
            "Requirement already satisfied: numpy>=1.17 in /usr/local/lib/python3.12/dist-packages (from datasets) (2.0.2)\n",
            "Requirement already satisfied: pyarrow>=15.0.0 in /usr/local/lib/python3.12/dist-packages (from datasets) (18.1.0)\n",
            "Requirement already satisfied: dill<0.3.9,>=0.3.0 in /usr/local/lib/python3.12/dist-packages (from datasets) (0.3.8)\n",
            "Requirement already satisfied: pandas in /usr/local/lib/python3.12/dist-packages (from datasets) (2.2.2)\n",
            "Requirement already satisfied: requests>=2.32.2 in /usr/local/lib/python3.12/dist-packages (from datasets) (2.32.4)\n",
            "Requirement already satisfied: tqdm>=4.66.3 in /usr/local/lib/python3.12/dist-packages (from datasets) (4.67.1)\n",
            "Requirement already satisfied: xxhash in /usr/local/lib/python3.12/dist-packages (from datasets) (3.6.0)\n",
            "Requirement already satisfied: multiprocess<0.70.17 in /usr/local/lib/python3.12/dist-packages (from datasets) (0.70.16)\n",
            "Requirement already satisfied: fsspec<=2025.3.0,>=2023.1.0 in /usr/local/lib/python3.12/dist-packages (from fsspec[http]<=2025.3.0,>=2023.1.0->datasets) (2025.3.0)\n",
            "Requirement already satisfied: huggingface-hub>=0.24.0 in /usr/local/lib/python3.12/dist-packages (from datasets) (0.35.3)\n",
            "Requirement already satisfied: packaging in /usr/local/lib/python3.12/dist-packages (from datasets) (25.0)\n",
            "Requirement already satisfied: pyyaml>=5.1 in /usr/local/lib/python3.12/dist-packages (from datasets) (6.0.3)\n",
            "Requirement already satisfied: aiohttp!=4.0.0a0,!=4.0.0a1 in /usr/local/lib/python3.12/dist-packages (from fsspec[http]<=2025.3.0,>=2023.1.0->datasets) (3.13.0)\n",
            "Requirement already satisfied: typing-extensions>=3.7.4.3 in /usr/local/lib/python3.12/dist-packages (from huggingface-hub>=0.24.0->datasets) (4.15.0)\n",
            "Requirement already satisfied: hf-xet<2.0.0,>=1.1.3 in /usr/local/lib/python3.12/dist-packages (from huggingface-hub>=0.24.0->datasets) (1.1.10)\n",
            "Requirement already satisfied: charset_normalizer<4,>=2 in /usr/local/lib/python3.12/dist-packages (from requests>=2.32.2->datasets) (3.4.4)\n",
            "Requirement already satisfied: idna<4,>=2.5 in /usr/local/lib/python3.12/dist-packages (from requests>=2.32.2->datasets) (3.11)\n",
            "Requirement already satisfied: urllib3<3,>=1.21.1 in /usr/local/lib/python3.12/dist-packages (from requests>=2.32.2->datasets) (2.5.0)\n",
            "Requirement already satisfied: certifi>=2017.4.17 in /usr/local/lib/python3.12/dist-packages (from requests>=2.32.2->datasets) (2025.10.5)\n",
            "Requirement already satisfied: python-dateutil>=2.8.2 in /usr/local/lib/python3.12/dist-packages (from pandas->datasets) (2.9.0.post0)\n",
            "Requirement already satisfied: pytz>=2020.1 in /usr/local/lib/python3.12/dist-packages (from pandas->datasets) (2025.2)\n",
            "Requirement already satisfied: tzdata>=2022.7 in /usr/local/lib/python3.12/dist-packages (from pandas->datasets) (2025.2)\n",
            "Requirement already satisfied: aiohappyeyeballs>=2.5.0 in /usr/local/lib/python3.12/dist-packages (from aiohttp!=4.0.0a0,!=4.0.0a1->fsspec[http]<=2025.3.0,>=2023.1.0->datasets) (2.6.1)\n",
            "Requirement already satisfied: aiosignal>=1.4.0 in /usr/local/lib/python3.12/dist-packages (from aiohttp!=4.0.0a0,!=4.0.0a1->fsspec[http]<=2025.3.0,>=2023.1.0->datasets) (1.4.0)\n",
            "Requirement already satisfied: attrs>=17.3.0 in /usr/local/lib/python3.12/dist-packages (from aiohttp!=4.0.0a0,!=4.0.0a1->fsspec[http]<=2025.3.0,>=2023.1.0->datasets) (25.4.0)\n",
            "Requirement already satisfied: frozenlist>=1.1.1 in /usr/local/lib/python3.12/dist-packages (from aiohttp!=4.0.0a0,!=4.0.0a1->fsspec[http]<=2025.3.0,>=2023.1.0->datasets) (1.8.0)\n",
            "Requirement already satisfied: multidict<7.0,>=4.5 in /usr/local/lib/python3.12/dist-packages (from aiohttp!=4.0.0a0,!=4.0.0a1->fsspec[http]<=2025.3.0,>=2023.1.0->datasets) (6.7.0)\n",
            "Requirement already satisfied: propcache>=0.2.0 in /usr/local/lib/python3.12/dist-packages (from aiohttp!=4.0.0a0,!=4.0.0a1->fsspec[http]<=2025.3.0,>=2023.1.0->datasets) (0.4.1)\n",
            "Requirement already satisfied: yarl<2.0,>=1.17.0 in /usr/local/lib/python3.12/dist-packages (from aiohttp!=4.0.0a0,!=4.0.0a1->fsspec[http]<=2025.3.0,>=2023.1.0->datasets) (1.22.0)\n",
            "Requirement already satisfied: six>=1.5 in /usr/local/lib/python3.12/dist-packages (from python-dateutil>=2.8.2->pandas->datasets) (1.17.0)\n"
          ]
        }
      ],
      "source": [
        "# datasets package provides dataset tools from hugginface\n",
        "!pip install datasets\n",
        "import datasets"
      ]
    },
    {
      "cell_type": "code",
      "execution_count": 4,
      "metadata": {
        "id": "aYe6Rq5k6Bgu",
        "colab": {
          "base_uri": "https://localhost:8080/"
        },
        "outputId": "70b4ebca-ecab-40d3-9590-78501e49c10f"
      },
      "outputs": [
        {
          "output_type": "stream",
          "name": "stdout",
          "text": [
            "wikitext_small: 10000 docs, wikitext_large: 859955 docs\n"
          ]
        }
      ],
      "source": [
        "from datasets import load_dataset, Dataset\n",
        "\n",
        "def load_dataset():\n",
        "  wikitext_small = \"wikitext-filtered-10k\"\n",
        "  wikitext_large = \"wikitext-filtered-full\"\n",
        "\n",
        "  dataset_small = Dataset.load_from_disk(wikitext_small)\n",
        "  dataset_large = Dataset.load_from_disk(wikitext_large)\n",
        "  print(\"wikitext_small: {} docs, wikitext_large: {} docs\".format(len(dataset_small), len(dataset_large)))\n",
        "  return dataset_small, dataset_large\n",
        "\n",
        "wikitext_small, wikitext_large = load_dataset()"
      ]
    },
    {
      "cell_type": "markdown",
      "source": [
        "## Understanding the Dataset\n",
        "Summary statistics"
      ],
      "metadata": {
        "id": "gAUcAjXfgIFI"
      }
    },
    {
      "cell_type": "code",
      "source": [
        "wt = wikitext_small\n",
        "#wt = wikitext_large\n",
        "\n",
        "print('# TYPE OF THE DATASET:', '\\n', type(wt))\n",
        "print(wt, '\\n')\n",
        "print('# ENTRIES LOOK LIKE:')\n",
        "print(wt.features, '\\n', wt[0], '\\n', wt[1], '\\n')\n",
        "\n",
        "print('# DATASET STATISTICS:')\n",
        "print('No. of docs:', len(wt))\n",
        "lengths = [len(doc['text'].split()) for doc in wt]\n",
        "print('Mean doc length:', sum(lengths)/len(lengths), 'words')"
      ],
      "metadata": {
        "colab": {
          "base_uri": "https://localhost:8080/"
        },
        "id": "Di-0S5z9d9NE",
        "outputId": "d90ca183-abfd-4648-94d7-3dfe38ed4aba"
      },
      "execution_count": 5,
      "outputs": [
        {
          "output_type": "stream",
          "name": "stdout",
          "text": [
            "# TYPE OF THE DATASET: \n",
            " <class 'datasets.arrow_dataset.Dataset'>\n",
            "Dataset({\n",
            "    features: ['text'],\n",
            "    num_rows: 10000\n",
            "}) \n",
            "\n",
            "# ENTRIES LOOK LIKE:\n",
            "{'text': Value('string')} \n",
            " {'text': 'Senjō no Valkyria 3 : Unrecorded Chronicles ( Japanese : 戦場のヴァルキュリア3 , lit . Valkyria of the Battlefield 3 ) , commonly referred to as Valkyria Chronicles III outside Japan , is a tactical role @-@ playing video game developed by Sega and Media.Vision for the PlayStation Portable . Released in January 2011 in Japan , it is the third game in the Valkyria series . Employing the same fusion of tactical and real @-@ time gameplay as its predecessors , the story runs parallel to the first game and follows the \" Nameless \" , a penal military unit serving the nation of Gallia during the Second Europan War who perform secret black operations and are pitted against the Imperial unit \" Calamaty Raven \" .'} \n",
            " {'text': \"The game began development in 2010 , carrying over a large portion of the work done on Valkyria Chronicles II . While it retained the standard features of the series , it also underwent multiple adjustments , such as making the game more forgiving for series newcomers . Character designer Raita Honjou and composer Hitoshi Sakimoto both returned from previous entries , along with Valkyria Chronicles II director Takeshi Ozawa . A large team of writers handled the script . The game 's opening theme was sung by May 'n .\"} \n",
            "\n",
            "# DATASET STATISTICS:\n",
            "No. of docs: 10000\n",
            "Mean doc length: 115.0954 words\n"
          ]
        }
      ]
    },
    {
      "cell_type": "markdown",
      "source": [
        "# Step 2 (Train Baselines)\n",
        "\n",
        "---\n",
        "Installing dependancies\n",
        "- gensim - word2vec models\n",
        "- nltk (natural language tool kit) - stopwords removal"
      ],
      "metadata": {
        "id": "fUWa02Kzq3YT"
      }
    },
    {
      "cell_type": "code",
      "source": [
        "!pip install gensim nltk\n",
        "from gensim.models import Word2Vec\n",
        "from nltk.corpus import stopwords\n",
        "from nltk.tokenize import word_tokenize\n",
        "import nltk"
      ],
      "metadata": {
        "id": "5490qFGSwT7c",
        "collapsed": true,
        "colab": {
          "base_uri": "https://localhost:8080/"
        },
        "outputId": "d0735ca6-c8c5-4d65-8485-d2ea27c44195"
      },
      "execution_count": 6,
      "outputs": [
        {
          "output_type": "stream",
          "name": "stdout",
          "text": [
            "Collecting gensim\n",
            "  Downloading gensim-4.4.0-cp312-cp312-manylinux_2_24_x86_64.manylinux_2_28_x86_64.whl.metadata (8.4 kB)\n",
            "Requirement already satisfied: nltk in /usr/local/lib/python3.12/dist-packages (3.9.1)\n",
            "Requirement already satisfied: numpy>=1.18.5 in /usr/local/lib/python3.12/dist-packages (from gensim) (2.0.2)\n",
            "Requirement already satisfied: scipy>=1.7.0 in /usr/local/lib/python3.12/dist-packages (from gensim) (1.16.2)\n",
            "Requirement already satisfied: smart_open>=1.8.1 in /usr/local/lib/python3.12/dist-packages (from gensim) (7.3.1)\n",
            "Requirement already satisfied: click in /usr/local/lib/python3.12/dist-packages (from nltk) (8.3.0)\n",
            "Requirement already satisfied: joblib in /usr/local/lib/python3.12/dist-packages (from nltk) (1.5.2)\n",
            "Requirement already satisfied: regex>=2021.8.3 in /usr/local/lib/python3.12/dist-packages (from nltk) (2024.11.6)\n",
            "Requirement already satisfied: tqdm in /usr/local/lib/python3.12/dist-packages (from nltk) (4.67.1)\n",
            "Requirement already satisfied: wrapt in /usr/local/lib/python3.12/dist-packages (from smart_open>=1.8.1->gensim) (1.17.3)\n",
            "Downloading gensim-4.4.0-cp312-cp312-manylinux_2_24_x86_64.manylinux_2_28_x86_64.whl (27.9 MB)\n",
            "\u001b[2K   \u001b[90m━━━━━━━━━━━━━━━━━━━━━━━━━━━━━━━━━━━━━━━━\u001b[0m \u001b[32m27.9/27.9 MB\u001b[0m \u001b[31m13.8 MB/s\u001b[0m eta \u001b[36m0:00:00\u001b[0m\n",
            "\u001b[?25hInstalling collected packages: gensim\n",
            "Successfully installed gensim-4.4.0\n"
          ]
        }
      ]
    },
    {
      "cell_type": "code",
      "source": [
        "nltk.download('stopwords')\n",
        "stop_words = set(stopwords.words('english'))\n",
        "\n",
        "def preprocess_dataset(dataset):\n",
        "    text_col = 'text' if 'text' in dataset.column_names else dataset.column_names[0]\n",
        "    tokenized = []\n",
        "\n",
        "    for i in range(len(dataset)):\n",
        "        text = dataset[i][text_col]\n",
        "        if not isinstance(text, str):\n",
        "            continue\n",
        "        tokens = [t.lower() for t in text.split() if t.isalpha() and t.lower() not in stop_words]\n",
        "        if tokens:\n",
        "            tokenized.append(tokens)\n",
        "\n",
        "    return tokenized"
      ],
      "metadata": {
        "id": "ZMphBXL8nRVE",
        "outputId": "db124fa8-83bb-4190-cbc0-2473b30c02dc",
        "colab": {
          "base_uri": "https://localhost:8080/"
        }
      },
      "execution_count": 7,
      "outputs": [
        {
          "output_type": "stream",
          "name": "stderr",
          "text": [
            "[nltk_data] Downloading package stopwords to /root/nltk_data...\n",
            "[nltk_data]   Unzipping corpora/stopwords.zip.\n"
          ]
        }
      ]
    },
    {
      "cell_type": "code",
      "source": [
        "tokens_small = preprocess_dataset(wikitext_small)\n",
        "tokens_large = preprocess_dataset(wikitext_large)"
      ],
      "metadata": {
        "id": "f8tNPp7Jwb-i"
      },
      "execution_count": 8,
      "outputs": []
    },
    {
      "cell_type": "code",
      "source": [
        "def train_word2vec(tokens, model_name, vector_size=50, window=5, min_count=5, epochs=5):\n",
        "    print(f\"Training {model_name} ...\")\n",
        "    model = Word2Vec(\n",
        "        sentences=tokens,\n",
        "        vector_size=vector_size,\n",
        "        window=window,\n",
        "        min_count=min_count,\n",
        "        epochs=epochs\n",
        "    )\n",
        "    model.save(f\"{model_name}.model\")\n",
        "    model.wv.save(f\"{model_name}.kv\")\n",
        "    print(f\"{model_name} saved.\")\n",
        "    return model"
      ],
      "metadata": {
        "id": "vF6w1eeL6xJW"
      },
      "execution_count": 9,
      "outputs": []
    },
    {
      "cell_type": "code",
      "source": [
        "# explicit manual model training\n",
        "model_small = train_word2vec(tokens_small, \"word2vec_small\")\n",
        "model_large = train_word2vec(tokens_large, \"word2vec_large\")"
      ],
      "metadata": {
        "colab": {
          "base_uri": "https://localhost:8080/"
        },
        "id": "hMgpuHkuwn0E",
        "outputId": "c51cb037-35e4-4c05-8712-757f9fc8342a"
      },
      "execution_count": 48,
      "outputs": [
        {
          "output_type": "stream",
          "name": "stdout",
          "text": [
            "Training word2vec_small ...\n",
            "word2vec_small saved.\n",
            "Training word2vec_large ...\n",
            "word2vec_large saved.\n"
          ]
        }
      ]
    },
    {
      "cell_type": "code",
      "source": [
        "# writing model to disk\n",
        "model_small.save(\"word2vec_small.model\")\n",
        "model_large.save(\"word2vec_large.model\")"
      ],
      "metadata": {
        "id": "k5bum-3IM5sA"
      },
      "execution_count": null,
      "outputs": []
    },
    {
      "cell_type": "code",
      "source": [
        "model_small = Word2Vec.load(\"word2vec_small.model\")\n",
        "model_large = Word2Vec.load(\"word2vec_large.model\")"
      ],
      "metadata": {
        "id": "72LuHLrAN0h_"
      },
      "execution_count": null,
      "outputs": []
    },
    {
      "cell_type": "code",
      "source": [
        "vocab_size = len(model_small.wv)\n",
        "print(f\"Vocab size (learned by model):\", vocab_size, '\\n')\n",
        "\n",
        "example_tokens = ['plane', 'car', 'planet', 'nurse', 'city', 'country']\n",
        "for token in example_tokens:\n",
        "    if token in model_small.wv:\n",
        "        print(f\"Top-10 similar to '{token}':\", model_small.wv.most_similar(token, topn=10))\n",
        "    else:\n",
        "        print(f\"'{token}' not in vocabulary.\")"
      ],
      "metadata": {
        "colab": {
          "base_uri": "https://localhost:8080/"
        },
        "id": "2H9TVBpxxGTo",
        "outputId": "abb12ce8-3f87-45f5-cbd2-d71347c80c38"
      },
      "execution_count": 103,
      "outputs": [
        {
          "output_type": "stream",
          "name": "stdout",
          "text": [
            "Vocab size (learned by model): 13838 \n",
            "\n",
            "Top-10 similar to 'plane': [('immediate', 0.9978976845741272), ('observed', 0.997430682182312), ('replacement', 0.9972765445709229), ('channel', 0.9971292614936829), ('successfully', 0.9968360662460327), ('evening', 0.996701717376709), ('trip', 0.9966968297958374), ('costs', 0.9966406226158142), ('assisted', 0.996527910232544), ('registered', 0.9965097308158875)]\n",
            "Top-10 similar to 'car': [('paper', 0.9985315799713135), ('painting', 0.9984121918678284), ('figure', 0.998360812664032), ('binding', 0.9983581304550171), ('identity', 0.9983425140380859), ('glass', 0.9983089566230774), ('powerful', 0.9982881546020508), ('solid', 0.9982327818870544), ('typical', 0.998124361038208), ('apparently', 0.9980954527854919)]\n",
            "Top-10 similar to 'planet': [('tree', 0.997928261756897), ('depicts', 0.9977642297744751), ('typically', 0.9977415204048157), ('atmosphere', 0.9975147843360901), ('normally', 0.9975024461746216), ('whereas', 0.9973671436309814), ('enough', 0.9973213076591492), ('tawny', 0.9972918629646301), ('flowers', 0.9972628951072693), ('decorated', 0.9971937537193298)]\n",
            "Top-10 similar to 'nurse': [('shark', 0.9983363151550293), ('bone', 0.9982638359069824), ('treatment', 0.9982178211212158), ('needs', 0.9981083273887634), ('powerful', 0.9980313181877136), ('painting', 0.9980029463768005), ('methods', 0.9979650974273682), ('paper', 0.9978958964347839), ('identity', 0.9978650212287903), ('sexual', 0.9978391528129578)]\n",
            "Top-10 similar to 'city': [('state', 0.9242333769798279), ('county', 0.9221845269203186), ('headquartered', 0.8987795114517212), ('onondaga', 0.8845669031143188), ('national', 0.8824877738952637), ('moved', 0.8813515305519104), ('town', 0.8808031678199768), ('southern', 0.8717449307441711), ('galveston', 0.8691944479942322), ('mackinaw', 0.8672545552253723)]\n",
            "Top-10 similar to 'country': [('latin', 0.9909034967422485), ('industry', 0.9828178882598877), ('usa', 0.9824931025505066), ('adult', 0.982488751411438), ('artwork', 0.9811120629310608), ('promotional', 0.9810892343521118), ('loose', 0.9801079034805298), ('cash', 0.9793847799301147), ('jackson', 0.9792952537536621), ('illinois', 0.9792407155036926)]\n"
          ]
        }
      ]
    },
    {
      "cell_type": "markdown",
      "source": [
        "# Task 3"
      ],
      "metadata": {
        "id": "tPze_vBWUket"
      }
    },
    {
      "cell_type": "code",
      "source": [
        "import numpy as np\n",
        "import math"
      ],
      "metadata": {
        "id": "-AvWc8V9GKDj"
      },
      "execution_count": 11,
      "outputs": []
    },
    {
      "cell_type": "code",
      "source": [
        "def mag(v):\n",
        "  s = sum((e*e) for e in v)\n",
        "  s = math.sqrt(s)\n",
        "  return s\n",
        "\n",
        "def cosineSimilarity(v1, v2):\n",
        "  dotProd = np.dot(v1, v2)\n",
        "  cos = dotProd/(mag(v1)*mag(v2))\n",
        "  return cos"
      ],
      "metadata": {
        "id": "_VJaT2I9_Ren"
      },
      "execution_count": 12,
      "outputs": []
    },
    {
      "cell_type": "code",
      "source": [
        "w1, w2 = 'sugar', 'approach'\n",
        "\n",
        "v1 = model_small.wv[w1]\n",
        "v2 = model_small.wv[w2]\n",
        "\n",
        "print(\"small:\", cosineSimilarity(v1, v2))\n",
        "\n",
        "v1 = model_large.wv[w1]\n",
        "v2 = model_large.wv[w2]\n",
        "\n",
        "print(\"large:\", cosineSimilarity(v1, v2))"
      ],
      "metadata": {
        "colab": {
          "base_uri": "https://localhost:8080/"
        },
        "id": "--jP1qvpGNme",
        "outputId": "62bb05c1-c629-4d52-dc6b-7284f3db8651"
      },
      "execution_count": 63,
      "outputs": [
        {
          "output_type": "stream",
          "name": "stdout",
          "text": [
            "small: 0.9862285\n",
            "large: -0.17874575\n"
          ]
        }
      ]
    },
    {
      "cell_type": "markdown",
      "source": [
        "# Step 4"
      ],
      "metadata": {
        "id": "e8MAgY7DUS80"
      }
    },
    {
      "cell_type": "code",
      "source": [
        "!wget -O wordsim353.zip \"www.gabrilovich.com/resources/data/wordsim353/wordsim353.zip\"\n",
        "!unzip wordsim353.zip -d wordsim353"
      ],
      "metadata": {
        "id": "0ZiC8uMRUScW",
        "colab": {
          "base_uri": "https://localhost:8080/"
        },
        "outputId": "84027b05-69d1-4faa-f54b-499984679824"
      },
      "execution_count": 14,
      "outputs": [
        {
          "output_type": "stream",
          "name": "stdout",
          "text": [
            "--2025-10-20 08:41:46--  http://www.gabrilovich.com/resources/data/wordsim353/wordsim353.zip\n",
            "Resolving www.gabrilovich.com (www.gabrilovich.com)... 173.236.137.139\n",
            "Connecting to www.gabrilovich.com (www.gabrilovich.com)|173.236.137.139|:80... connected.\n",
            "HTTP request sent, awaiting response... 301 Moved Permanently\n",
            "Location: https://gabrilovich.com/resources/data/wordsim353/wordsim353.zip [following]\n",
            "--2025-10-20 08:41:46--  https://gabrilovich.com/resources/data/wordsim353/wordsim353.zip\n",
            "Resolving gabrilovich.com (gabrilovich.com)... 173.236.137.139\n",
            "Connecting to gabrilovich.com (gabrilovich.com)|173.236.137.139|:443... connected.\n",
            "HTTP request sent, awaiting response... 200 OK\n",
            "Length: 23257 (23K) [application/zip]\n",
            "Saving to: ‘wordsim353.zip’\n",
            "\n",
            "wordsim353.zip      100%[===================>]  22.71K  --.-KB/s    in 0.06s   \n",
            "\n",
            "2025-10-20 08:41:47 (389 KB/s) - ‘wordsim353.zip’ saved [23257/23257]\n",
            "\n",
            "Archive:  wordsim353.zip\n",
            "  inflating: wordsim353/combined.csv  \n",
            "  inflating: wordsim353/set1.csv     \n",
            "  inflating: wordsim353/set2.csv     \n",
            "  inflating: wordsim353/combined.tab  \n",
            "  inflating: wordsim353/set1.tab     \n",
            "  inflating: wordsim353/set2.tab     \n",
            "  inflating: wordsim353/instructions.txt  \n"
          ]
        }
      ]
    },
    {
      "cell_type": "code",
      "source": [
        "import pandas as pd\n",
        "from scipy.stats import spearmanr"
      ],
      "metadata": {
        "id": "00CYbfprfOOd"
      },
      "execution_count": 15,
      "outputs": []
    },
    {
      "cell_type": "code",
      "source": [
        "df = pd.read_csv(\"wordsim353/combined.csv\")\n",
        "print(\"Loaded: wordsim353/combined.csv | shape:\", df.shape)\n",
        "print(df.head())"
      ],
      "metadata": {
        "colab": {
          "base_uri": "https://localhost:8080/"
        },
        "id": "03qp2mamfgDI",
        "outputId": "6a0778f5-f1bb-4250-8ede-549ccd28f36f"
      },
      "execution_count": 64,
      "outputs": [
        {
          "output_type": "stream",
          "name": "stdout",
          "text": [
            "Loaded: wordsim353/combined.csv | shape: (353, 3)\n",
            "     Word 1    Word 2  Human (mean)\n",
            "0      love       sex          6.77\n",
            "1     tiger       cat          7.35\n",
            "2     tiger     tiger         10.00\n",
            "3      book     paper          7.46\n",
            "4  computer  keyboard          7.62\n"
          ]
        }
      ]
    },
    {
      "cell_type": "code",
      "source": [
        "# compare vocabularies\n",
        "wordsim_vocab = set(df[\"Word 1\"].str.lower()).union(set(df[\"Word 2\"].str.lower()))\n",
        "\n",
        "smallModel_vocab = set(model_small.wv.key_to_index)\n",
        "largeModel_vocab = set(model_large.wv.key_to_index)\n",
        "\n",
        "sharedVocab = wordsim_vocab.intersection(largeModel_vocab)\n",
        "OOV = wordsim_vocab.difference(largeModel_vocab)\n",
        "\n",
        "print(OOV) # should be empty"
      ],
      "metadata": {
        "id": "oaCQ4x-u0UQE",
        "colab": {
          "base_uri": "https://localhost:8080/"
        },
        "outputId": "f18ef4c3-dbe3-46f6-dd16-c86a0443da90"
      },
      "execution_count": 65,
      "outputs": [
        {
          "output_type": "stream",
          "name": "stdout",
          "text": [
            "set()\n"
          ]
        }
      ]
    },
    {
      "cell_type": "code",
      "source": [
        "def sim_or_nan_strict(model, a, b):\n",
        "    if a not in model.wv.key_to_index or b not in model.wv.key_to_index:\n",
        "        return np.nan\n",
        "    v1 = model.wv[a]\n",
        "    v2 = model.wv[b]\n",
        "    return float(cosineSimilarity(v1, v2))\n"
      ],
      "metadata": {
        "id": "iWQbEDDdmGXV"
      },
      "execution_count": 66,
      "outputs": []
    },
    {
      "cell_type": "code",
      "source": [
        "def ws_spearman(model, df):\n",
        "    sims = df.apply(lambda r: sim_or_nan_strict(model, r['Word 1'], r['Word 2']), axis=1)\n",
        "    gold = df['Human (mean)']\n",
        "    valid = sims.notna()\n",
        "\n",
        "\n",
        "    if not valid.any():\n",
        "        return np.nan, np.nan, 0, len(df), len(df)\n",
        "\n",
        "    rho, p = spearmanr(sims[valid], gold[valid])\n",
        "\n",
        "    used = int(valid.sum())\n",
        "    total = int(len(df))\n",
        "    n_oov = total - used\n",
        "    return float(rho), float(p), used, total, n_oov\n",
        "\n",
        "\n",
        "# alternative simpler implamentation\n",
        "def applySpearman_to_WordSim(model, df):\n",
        "  df = df.copy()\n",
        "  df[\"Word 1\"] = df[\"Word 1\"].str.lower()\n",
        "  df[\"Word 2\"] = df[\"Word 2\"].str.lower()\n",
        "\n",
        "  similarities = df.apply(\n",
        "      lambda r: model.wv.similarity(r[\"Word 1\"], r[\"Word 2\"]),\n",
        "      axis = 1\n",
        "  )\n",
        "\n",
        "  human_standard = df[\"Human (mean)\"].astype(float)\n",
        "  rho, p_value = spearmanr(similarities, human_standard)\n",
        "\n",
        "  return float(rho), float(p_value)"
      ],
      "metadata": {
        "id": "Ri3mC4PdouDa"
      },
      "execution_count": 67,
      "outputs": []
    },
    {
      "cell_type": "code",
      "source": [
        "for label, m in [(\"wikitext_small\", model_small), (\"wikitext_large\", model_large)]:\n",
        "    rho, p, used, total, n_oov = ws_spearman(m, df)\n",
        "    print(f\"{label}: Spearman ρ = {rho}, p-value {p}\")\n"
      ],
      "metadata": {
        "colab": {
          "base_uri": "https://localhost:8080/"
        },
        "id": "4biy_LT_o2-L",
        "outputId": "964bf2b2-a8f1-453e-99c2-87361339e840"
      },
      "execution_count": 71,
      "outputs": [
        {
          "output_type": "stream",
          "name": "stdout",
          "text": [
            "wikitext_small: Spearman ρ = 0.11157656314685778, p-value 0.07707069233537944\n",
            "wikitext_large: Spearman ρ = 0.6283015932937069, p-value 3.395172611754527e-38\n"
          ]
        }
      ]
    },
    {
      "cell_type": "markdown",
      "source": [
        "Note that p-value of small model is ~22%. Indicating probability that our result is due to chance and not statistically significant."
      ],
      "metadata": {
        "id": "afxsZuveHW7-"
      }
    },
    {
      "cell_type": "markdown",
      "source": [
        "# Step 5"
      ],
      "metadata": {
        "id": "6qd2H9O02XXB"
      }
    },
    {
      "cell_type": "code",
      "source": [
        "import gensim.downloader as gensimDownloader\n",
        "\n",
        "googleNews_model = gensimDownloader.load(\"word2vec-google-news-300\")"
      ],
      "metadata": {
        "colab": {
          "base_uri": "https://localhost:8080/"
        },
        "id": "DAK5wK6z2eIF",
        "outputId": "c2ac3cbf-697b-48c1-c819-903984151ddc"
      },
      "execution_count": 21,
      "outputs": [
        {
          "output_type": "stream",
          "name": "stdout",
          "text": [
            "[==================================================] 100.0% 1662.8/1662.8MB downloaded\n"
          ]
        }
      ]
    },
    {
      "cell_type": "code",
      "source": [
        "print(googleNews_model)"
      ],
      "metadata": {
        "colab": {
          "base_uri": "https://localhost:8080/"
        },
        "id": "h9kQulEd5cu5",
        "outputId": "eb85521f-32a1-4728-d8d4-9935c2e493bd"
      },
      "execution_count": 22,
      "outputs": [
        {
          "output_type": "stream",
          "name": "stdout",
          "text": [
            "KeyedVectors<vector_size=300, 3000000 keys>\n"
          ]
        }
      ]
    },
    {
      "cell_type": "markdown",
      "source": [
        "Note the massive model that google trained on news data is imported as a KeyedVectors object (not a full model with functionality)"
      ],
      "metadata": {
        "id": "hP114LhNHsuc"
      }
    },
    {
      "cell_type": "markdown",
      "source": [
        "had to make a version of ws_spearman for keyedVectors instead of a full word2vec model"
      ],
      "metadata": {
        "id": "DSWPZ_e8cp8L"
      }
    },
    {
      "cell_type": "code",
      "source": [
        "def ws_spearman_google(model, df):\n",
        "    df = df.copy()\n",
        "    df[\"Word 1\"] = df[\"Word 1\"].str.lower()\n",
        "    df[\"Word 2\"] = df[\"Word 2\"].str.lower()\n",
        "\n",
        "    def sim_or_nan(a, b):\n",
        "        if a not in model.key_to_index or b not in model.key_to_index:\n",
        "          return np.nan\n",
        "        return float(model.similarity(a, b))\n",
        "\n",
        "    similarities = df.apply(lambda r: sim_or_nan(r[\"Word 1\"], r[\"Word 2\"]), axis=1)\n",
        "    human_standard = df[\"Human (mean)\"].astype(float)\n",
        "\n",
        "    mask = ~similarities.isna()\n",
        "    if mask.sum() == 0:\n",
        "      return np.nan, np.nan, 0, len(df), mask.sum()\n",
        "\n",
        "    rho, p_value = spearmanr(similarities[mask], human_standard[mask])\n",
        "\n",
        "    n_oov = len(df) - mask.sum()\n",
        "    return float(rho), float(p_value), int(mask.sum()), int(len(df)), int(n_oov)\n"
      ],
      "metadata": {
        "id": "p0fn1QJK70SW"
      },
      "execution_count": 23,
      "outputs": []
    },
    {
      "cell_type": "code",
      "source": [
        "rho, p, used, total, n_oov = ws_spearman_google(googleNews_model, df)\n",
        "print(f\"googleNews_model Spearman\\n ρ (rho) = {rho},\\n p-value = {p:.40f}\")"
      ],
      "metadata": {
        "colab": {
          "base_uri": "https://localhost:8080/"
        },
        "id": "pyfbVJnm246G",
        "outputId": "15a84262-0ab8-479d-97e5-a82807c5a0d6"
      },
      "execution_count": 104,
      "outputs": [
        {
          "output_type": "stream",
          "name": "stdout",
          "text": [
            "googleNews_model Spearman\n",
            " ρ (rho) = 0.6941224810339758,\n",
            " p-value = 0.0000000000000000000000000000000000000000\n"
          ]
        }
      ]
    },
    {
      "cell_type": "markdown",
      "source": [
        "# Hyperparameter tuning\n",
        "This section is for experimenting with hyperparameter configurations, and documenting results (ensure to save document outside this runtime or it will disappear)."
      ],
      "metadata": {
        "id": "GpM-vHkZIFzn"
      }
    },
    {
      "cell_type": "code",
      "source": [
        "parameter_configurations = [\n",
        "    {\"vector_size\": 50, \"window\": 5, \"min_count\": 5, \"epochs\": 5}, # baseline\n",
        "    {\"vector_size\": 100, \"window\": 5, \"min_count\": 5, \"epochs\": 5}, # larger vector size\n",
        "    {\"vector_size\": 50, \"window\": 10, \"min_count\": 5, \"epochs\": 5}, # larger window\n",
        "    {\"vector_size\": 50, \"window\": 5, \"min_count\": 2, \"epochs\": 5}, # lower min_count (more words)\n",
        "    {\"vector_size\": 50, \"window\": 5, \"min_count\": 5, \"epochs\": 10} # (more training epochs)\n",
        "]"
      ],
      "metadata": {
        "id": "9OQVcqJuqwQK"
      },
      "execution_count": 25,
      "outputs": []
    },
    {
      "cell_type": "code",
      "source": [
        "import time\n",
        "\n",
        "results = [] # store all results"
      ],
      "metadata": {
        "id": "RBm1irCNufAu"
      },
      "execution_count": 26,
      "outputs": []
    },
    {
      "cell_type": "code",
      "source": [
        "for corpus_name, tokens in [(\"small\", tokens_small), (\"large\", tokens_large)]:\n",
        "  for configs in parameter_configurations:\n",
        "    model_name = (\n",
        "        \"Word2Vec\" + corpus_name +\n",
        "        \"-vs\" + str(configs[\"vector_size\"]) +\n",
        "        \"_w\" + str(configs[\"window\"]) +\n",
        "        \"_mc\" + str(configs[\"min_count\"]) +\n",
        "        \"_ep\" + str(configs[\"epochs\"])\n",
        "    )\n",
        "    print(\"Training model: \", model_name)\n",
        "\n",
        "    start = time.time()\n",
        "    model = Word2Vec(\n",
        "        sentences = tokens,\n",
        "        vector_size = configs[\"vector_size\"],\n",
        "        window = configs[\"window\"],\n",
        "        min_count = configs[\"min_count\"],\n",
        "        epochs = configs[\"epochs\"]\n",
        "    )\n",
        "\n",
        "    train_time = round(time.time() - start, 2)\n",
        "\n",
        "    rho, p, used, total, n_oov = ws_spearman(model, df)\n",
        "\n",
        "    results.append({\n",
        "        \"Dataset\": corpus_name,\n",
        "        \"Vector size\": configs[\"vector_size\"],\n",
        "        \"Window\": configs[\"window\"],\n",
        "        \"Min count\": configs[\"min_count\"],\n",
        "        \"Epochs\": configs[\"epochs\"],\n",
        "        \"Vocab size\": len(model.wv),\n",
        "        \"Spearman rho\": rho,\n",
        "        \"p-value\": p,\n",
        "        \"OOV pairs\": n_oov,\n",
        "        \"Train time (s)\": train_time\n",
        "    })"
      ],
      "metadata": {
        "colab": {
          "base_uri": "https://localhost:8080/"
        },
        "id": "xX0Vdpr2vOeB",
        "outputId": "9e0670b0-7c81-4733-e8d6-b2ed4396550a"
      },
      "execution_count": 35,
      "outputs": [
        {
          "output_type": "stream",
          "name": "stdout",
          "text": [
            "Training model:  Word2Vecsmall-vs50_w5_mc5_ep5\n",
            "Training model:  Word2Vecsmall-vs100_w5_mc5_ep5\n",
            "Training model:  Word2Vecsmall-vs50_w10_mc5_ep5\n",
            "Training model:  Word2Vecsmall-vs50_w5_mc2_ep5\n",
            "Training model:  Word2Vecsmall-vs50_w5_mc5_ep10\n",
            "Training model:  Word2Veclarge-vs50_w5_mc5_ep5\n",
            "Training model:  Word2Veclarge-vs100_w5_mc5_ep5\n",
            "Training model:  Word2Veclarge-vs50_w10_mc5_ep5\n",
            "Training model:  Word2Veclarge-vs50_w5_mc2_ep5\n",
            "Training model:  Word2Veclarge-vs50_w5_mc5_ep10\n"
          ]
        }
      ]
    },
    {
      "cell_type": "code",
      "source": [
        "results_df = pd.DataFrame(results)\n",
        "\n",
        "display(results_df)"
      ],
      "metadata": {
        "colab": {
          "base_uri": "https://localhost:8080/",
          "height": 357
        },
        "id": "n_uSkHja1IgS",
        "outputId": "5f27f37d-c6d3-4e2c-f494-98641805eedb"
      },
      "execution_count": 39,
      "outputs": [
        {
          "output_type": "display_data",
          "data": {
            "text/plain": [
              "  Dataset  Vector size  Window  Min count  Epochs  Vocab size  Spearman rho  \\\n",
              "0   small           50       5          5       5       13838      0.092654   \n",
              "1   small          100       5          5       5       13838      0.077806   \n",
              "2   small           50      10          5       5       13838      0.121472   \n",
              "3   small           50       5          2       5       26508      0.061705   \n",
              "4   small           50       5          5      10       13838      0.187886   \n",
              "5   large           50       5          5       5      162898      0.636230   \n",
              "6   large          100       5          5       5      162898      0.650294   \n",
              "7   large           50      10          5       5      162898      0.653907   \n",
              "8   large           50       5          2       5      290287      0.635704   \n",
              "9   large           50       5          5      10      162898      0.633475   \n",
              "\n",
              "        p-value  OOV pairs  Train time (s)  \n",
              "0  1.424635e-01        101            6.52  \n",
              "1  2.183734e-01        101            4.72  \n",
              "2  5.412182e-02        101            7.08  \n",
              "3  2.859219e-01         52            5.98  \n",
              "4  2.749047e-03        101           11.12  \n",
              "5  2.077819e-39         18          613.96  \n",
              "6  1.191345e-41         18          555.76  \n",
              "7  3.026365e-42         18          681.11  \n",
              "8  2.507410e-39         18          633.58  \n",
              "9  5.535525e-39         18         1154.10  "
            ],
            "text/html": [
              "\n",
              "  <div id=\"df-53ba01e9-facf-448b-83ad-3b41cba09597\" class=\"colab-df-container\">\n",
              "    <div>\n",
              "<style scoped>\n",
              "    .dataframe tbody tr th:only-of-type {\n",
              "        vertical-align: middle;\n",
              "    }\n",
              "\n",
              "    .dataframe tbody tr th {\n",
              "        vertical-align: top;\n",
              "    }\n",
              "\n",
              "    .dataframe thead th {\n",
              "        text-align: right;\n",
              "    }\n",
              "</style>\n",
              "<table border=\"1\" class=\"dataframe\">\n",
              "  <thead>\n",
              "    <tr style=\"text-align: right;\">\n",
              "      <th></th>\n",
              "      <th>Dataset</th>\n",
              "      <th>Vector size</th>\n",
              "      <th>Window</th>\n",
              "      <th>Min count</th>\n",
              "      <th>Epochs</th>\n",
              "      <th>Vocab size</th>\n",
              "      <th>Spearman rho</th>\n",
              "      <th>p-value</th>\n",
              "      <th>OOV pairs</th>\n",
              "      <th>Train time (s)</th>\n",
              "    </tr>\n",
              "  </thead>\n",
              "  <tbody>\n",
              "    <tr>\n",
              "      <th>0</th>\n",
              "      <td>small</td>\n",
              "      <td>50</td>\n",
              "      <td>5</td>\n",
              "      <td>5</td>\n",
              "      <td>5</td>\n",
              "      <td>13838</td>\n",
              "      <td>0.092654</td>\n",
              "      <td>1.424635e-01</td>\n",
              "      <td>101</td>\n",
              "      <td>6.52</td>\n",
              "    </tr>\n",
              "    <tr>\n",
              "      <th>1</th>\n",
              "      <td>small</td>\n",
              "      <td>100</td>\n",
              "      <td>5</td>\n",
              "      <td>5</td>\n",
              "      <td>5</td>\n",
              "      <td>13838</td>\n",
              "      <td>0.077806</td>\n",
              "      <td>2.183734e-01</td>\n",
              "      <td>101</td>\n",
              "      <td>4.72</td>\n",
              "    </tr>\n",
              "    <tr>\n",
              "      <th>2</th>\n",
              "      <td>small</td>\n",
              "      <td>50</td>\n",
              "      <td>10</td>\n",
              "      <td>5</td>\n",
              "      <td>5</td>\n",
              "      <td>13838</td>\n",
              "      <td>0.121472</td>\n",
              "      <td>5.412182e-02</td>\n",
              "      <td>101</td>\n",
              "      <td>7.08</td>\n",
              "    </tr>\n",
              "    <tr>\n",
              "      <th>3</th>\n",
              "      <td>small</td>\n",
              "      <td>50</td>\n",
              "      <td>5</td>\n",
              "      <td>2</td>\n",
              "      <td>5</td>\n",
              "      <td>26508</td>\n",
              "      <td>0.061705</td>\n",
              "      <td>2.859219e-01</td>\n",
              "      <td>52</td>\n",
              "      <td>5.98</td>\n",
              "    </tr>\n",
              "    <tr>\n",
              "      <th>4</th>\n",
              "      <td>small</td>\n",
              "      <td>50</td>\n",
              "      <td>5</td>\n",
              "      <td>5</td>\n",
              "      <td>10</td>\n",
              "      <td>13838</td>\n",
              "      <td>0.187886</td>\n",
              "      <td>2.749047e-03</td>\n",
              "      <td>101</td>\n",
              "      <td>11.12</td>\n",
              "    </tr>\n",
              "    <tr>\n",
              "      <th>5</th>\n",
              "      <td>large</td>\n",
              "      <td>50</td>\n",
              "      <td>5</td>\n",
              "      <td>5</td>\n",
              "      <td>5</td>\n",
              "      <td>162898</td>\n",
              "      <td>0.636230</td>\n",
              "      <td>2.077819e-39</td>\n",
              "      <td>18</td>\n",
              "      <td>613.96</td>\n",
              "    </tr>\n",
              "    <tr>\n",
              "      <th>6</th>\n",
              "      <td>large</td>\n",
              "      <td>100</td>\n",
              "      <td>5</td>\n",
              "      <td>5</td>\n",
              "      <td>5</td>\n",
              "      <td>162898</td>\n",
              "      <td>0.650294</td>\n",
              "      <td>1.191345e-41</td>\n",
              "      <td>18</td>\n",
              "      <td>555.76</td>\n",
              "    </tr>\n",
              "    <tr>\n",
              "      <th>7</th>\n",
              "      <td>large</td>\n",
              "      <td>50</td>\n",
              "      <td>10</td>\n",
              "      <td>5</td>\n",
              "      <td>5</td>\n",
              "      <td>162898</td>\n",
              "      <td>0.653907</td>\n",
              "      <td>3.026365e-42</td>\n",
              "      <td>18</td>\n",
              "      <td>681.11</td>\n",
              "    </tr>\n",
              "    <tr>\n",
              "      <th>8</th>\n",
              "      <td>large</td>\n",
              "      <td>50</td>\n",
              "      <td>5</td>\n",
              "      <td>2</td>\n",
              "      <td>5</td>\n",
              "      <td>290287</td>\n",
              "      <td>0.635704</td>\n",
              "      <td>2.507410e-39</td>\n",
              "      <td>18</td>\n",
              "      <td>633.58</td>\n",
              "    </tr>\n",
              "    <tr>\n",
              "      <th>9</th>\n",
              "      <td>large</td>\n",
              "      <td>50</td>\n",
              "      <td>5</td>\n",
              "      <td>5</td>\n",
              "      <td>10</td>\n",
              "      <td>162898</td>\n",
              "      <td>0.633475</td>\n",
              "      <td>5.535525e-39</td>\n",
              "      <td>18</td>\n",
              "      <td>1154.10</td>\n",
              "    </tr>\n",
              "  </tbody>\n",
              "</table>\n",
              "</div>\n",
              "    <div class=\"colab-df-buttons\">\n",
              "\n",
              "  <div class=\"colab-df-container\">\n",
              "    <button class=\"colab-df-convert\" onclick=\"convertToInteractive('df-53ba01e9-facf-448b-83ad-3b41cba09597')\"\n",
              "            title=\"Convert this dataframe to an interactive table.\"\n",
              "            style=\"display:none;\">\n",
              "\n",
              "  <svg xmlns=\"http://www.w3.org/2000/svg\" height=\"24px\" viewBox=\"0 -960 960 960\">\n",
              "    <path d=\"M120-120v-720h720v720H120Zm60-500h600v-160H180v160Zm220 220h160v-160H400v160Zm0 220h160v-160H400v160ZM180-400h160v-160H180v160Zm440 0h160v-160H620v160ZM180-180h160v-160H180v160Zm440 0h160v-160H620v160Z\"/>\n",
              "  </svg>\n",
              "    </button>\n",
              "\n",
              "  <style>\n",
              "    .colab-df-container {\n",
              "      display:flex;\n",
              "      gap: 12px;\n",
              "    }\n",
              "\n",
              "    .colab-df-convert {\n",
              "      background-color: #E8F0FE;\n",
              "      border: none;\n",
              "      border-radius: 50%;\n",
              "      cursor: pointer;\n",
              "      display: none;\n",
              "      fill: #1967D2;\n",
              "      height: 32px;\n",
              "      padding: 0 0 0 0;\n",
              "      width: 32px;\n",
              "    }\n",
              "\n",
              "    .colab-df-convert:hover {\n",
              "      background-color: #E2EBFA;\n",
              "      box-shadow: 0px 1px 2px rgba(60, 64, 67, 0.3), 0px 1px 3px 1px rgba(60, 64, 67, 0.15);\n",
              "      fill: #174EA6;\n",
              "    }\n",
              "\n",
              "    .colab-df-buttons div {\n",
              "      margin-bottom: 4px;\n",
              "    }\n",
              "\n",
              "    [theme=dark] .colab-df-convert {\n",
              "      background-color: #3B4455;\n",
              "      fill: #D2E3FC;\n",
              "    }\n",
              "\n",
              "    [theme=dark] .colab-df-convert:hover {\n",
              "      background-color: #434B5C;\n",
              "      box-shadow: 0px 1px 3px 1px rgba(0, 0, 0, 0.15);\n",
              "      filter: drop-shadow(0px 1px 2px rgba(0, 0, 0, 0.3));\n",
              "      fill: #FFFFFF;\n",
              "    }\n",
              "  </style>\n",
              "\n",
              "    <script>\n",
              "      const buttonEl =\n",
              "        document.querySelector('#df-53ba01e9-facf-448b-83ad-3b41cba09597 button.colab-df-convert');\n",
              "      buttonEl.style.display =\n",
              "        google.colab.kernel.accessAllowed ? 'block' : 'none';\n",
              "\n",
              "      async function convertToInteractive(key) {\n",
              "        const element = document.querySelector('#df-53ba01e9-facf-448b-83ad-3b41cba09597');\n",
              "        const dataTable =\n",
              "          await google.colab.kernel.invokeFunction('convertToInteractive',\n",
              "                                                    [key], {});\n",
              "        if (!dataTable) return;\n",
              "\n",
              "        const docLinkHtml = 'Like what you see? Visit the ' +\n",
              "          '<a target=\"_blank\" href=https://colab.research.google.com/notebooks/data_table.ipynb>data table notebook</a>'\n",
              "          + ' to learn more about interactive tables.';\n",
              "        element.innerHTML = '';\n",
              "        dataTable['output_type'] = 'display_data';\n",
              "        await google.colab.output.renderOutput(dataTable, element);\n",
              "        const docLink = document.createElement('div');\n",
              "        docLink.innerHTML = docLinkHtml;\n",
              "        element.appendChild(docLink);\n",
              "      }\n",
              "    </script>\n",
              "  </div>\n",
              "\n",
              "\n",
              "    <div id=\"df-1ee35dbd-32b9-489a-9cb7-1f497a06cf97\">\n",
              "      <button class=\"colab-df-quickchart\" onclick=\"quickchart('df-1ee35dbd-32b9-489a-9cb7-1f497a06cf97')\"\n",
              "                title=\"Suggest charts\"\n",
              "                style=\"display:none;\">\n",
              "\n",
              "<svg xmlns=\"http://www.w3.org/2000/svg\" height=\"24px\"viewBox=\"0 0 24 24\"\n",
              "     width=\"24px\">\n",
              "    <g>\n",
              "        <path d=\"M19 3H5c-1.1 0-2 .9-2 2v14c0 1.1.9 2 2 2h14c1.1 0 2-.9 2-2V5c0-1.1-.9-2-2-2zM9 17H7v-7h2v7zm4 0h-2V7h2v10zm4 0h-2v-4h2v4z\"/>\n",
              "    </g>\n",
              "</svg>\n",
              "      </button>\n",
              "\n",
              "<style>\n",
              "  .colab-df-quickchart {\n",
              "      --bg-color: #E8F0FE;\n",
              "      --fill-color: #1967D2;\n",
              "      --hover-bg-color: #E2EBFA;\n",
              "      --hover-fill-color: #174EA6;\n",
              "      --disabled-fill-color: #AAA;\n",
              "      --disabled-bg-color: #DDD;\n",
              "  }\n",
              "\n",
              "  [theme=dark] .colab-df-quickchart {\n",
              "      --bg-color: #3B4455;\n",
              "      --fill-color: #D2E3FC;\n",
              "      --hover-bg-color: #434B5C;\n",
              "      --hover-fill-color: #FFFFFF;\n",
              "      --disabled-bg-color: #3B4455;\n",
              "      --disabled-fill-color: #666;\n",
              "  }\n",
              "\n",
              "  .colab-df-quickchart {\n",
              "    background-color: var(--bg-color);\n",
              "    border: none;\n",
              "    border-radius: 50%;\n",
              "    cursor: pointer;\n",
              "    display: none;\n",
              "    fill: var(--fill-color);\n",
              "    height: 32px;\n",
              "    padding: 0;\n",
              "    width: 32px;\n",
              "  }\n",
              "\n",
              "  .colab-df-quickchart:hover {\n",
              "    background-color: var(--hover-bg-color);\n",
              "    box-shadow: 0 1px 2px rgba(60, 64, 67, 0.3), 0 1px 3px 1px rgba(60, 64, 67, 0.15);\n",
              "    fill: var(--button-hover-fill-color);\n",
              "  }\n",
              "\n",
              "  .colab-df-quickchart-complete:disabled,\n",
              "  .colab-df-quickchart-complete:disabled:hover {\n",
              "    background-color: var(--disabled-bg-color);\n",
              "    fill: var(--disabled-fill-color);\n",
              "    box-shadow: none;\n",
              "  }\n",
              "\n",
              "  .colab-df-spinner {\n",
              "    border: 2px solid var(--fill-color);\n",
              "    border-color: transparent;\n",
              "    border-bottom-color: var(--fill-color);\n",
              "    animation:\n",
              "      spin 1s steps(1) infinite;\n",
              "  }\n",
              "\n",
              "  @keyframes spin {\n",
              "    0% {\n",
              "      border-color: transparent;\n",
              "      border-bottom-color: var(--fill-color);\n",
              "      border-left-color: var(--fill-color);\n",
              "    }\n",
              "    20% {\n",
              "      border-color: transparent;\n",
              "      border-left-color: var(--fill-color);\n",
              "      border-top-color: var(--fill-color);\n",
              "    }\n",
              "    30% {\n",
              "      border-color: transparent;\n",
              "      border-left-color: var(--fill-color);\n",
              "      border-top-color: var(--fill-color);\n",
              "      border-right-color: var(--fill-color);\n",
              "    }\n",
              "    40% {\n",
              "      border-color: transparent;\n",
              "      border-right-color: var(--fill-color);\n",
              "      border-top-color: var(--fill-color);\n",
              "    }\n",
              "    60% {\n",
              "      border-color: transparent;\n",
              "      border-right-color: var(--fill-color);\n",
              "    }\n",
              "    80% {\n",
              "      border-color: transparent;\n",
              "      border-right-color: var(--fill-color);\n",
              "      border-bottom-color: var(--fill-color);\n",
              "    }\n",
              "    90% {\n",
              "      border-color: transparent;\n",
              "      border-bottom-color: var(--fill-color);\n",
              "    }\n",
              "  }\n",
              "</style>\n",
              "\n",
              "      <script>\n",
              "        async function quickchart(key) {\n",
              "          const quickchartButtonEl =\n",
              "            document.querySelector('#' + key + ' button');\n",
              "          quickchartButtonEl.disabled = true;  // To prevent multiple clicks.\n",
              "          quickchartButtonEl.classList.add('colab-df-spinner');\n",
              "          try {\n",
              "            const charts = await google.colab.kernel.invokeFunction(\n",
              "                'suggestCharts', [key], {});\n",
              "          } catch (error) {\n",
              "            console.error('Error during call to suggestCharts:', error);\n",
              "          }\n",
              "          quickchartButtonEl.classList.remove('colab-df-spinner');\n",
              "          quickchartButtonEl.classList.add('colab-df-quickchart-complete');\n",
              "        }\n",
              "        (() => {\n",
              "          let quickchartButtonEl =\n",
              "            document.querySelector('#df-1ee35dbd-32b9-489a-9cb7-1f497a06cf97 button');\n",
              "          quickchartButtonEl.style.display =\n",
              "            google.colab.kernel.accessAllowed ? 'block' : 'none';\n",
              "        })();\n",
              "      </script>\n",
              "    </div>\n",
              "\n",
              "  <div id=\"id_b6eb8d98-5d8f-4620-b5df-46cead0337a5\">\n",
              "    <style>\n",
              "      .colab-df-generate {\n",
              "        background-color: #E8F0FE;\n",
              "        border: none;\n",
              "        border-radius: 50%;\n",
              "        cursor: pointer;\n",
              "        display: none;\n",
              "        fill: #1967D2;\n",
              "        height: 32px;\n",
              "        padding: 0 0 0 0;\n",
              "        width: 32px;\n",
              "      }\n",
              "\n",
              "      .colab-df-generate:hover {\n",
              "        background-color: #E2EBFA;\n",
              "        box-shadow: 0px 1px 2px rgba(60, 64, 67, 0.3), 0px 1px 3px 1px rgba(60, 64, 67, 0.15);\n",
              "        fill: #174EA6;\n",
              "      }\n",
              "\n",
              "      [theme=dark] .colab-df-generate {\n",
              "        background-color: #3B4455;\n",
              "        fill: #D2E3FC;\n",
              "      }\n",
              "\n",
              "      [theme=dark] .colab-df-generate:hover {\n",
              "        background-color: #434B5C;\n",
              "        box-shadow: 0px 1px 3px 1px rgba(0, 0, 0, 0.15);\n",
              "        filter: drop-shadow(0px 1px 2px rgba(0, 0, 0, 0.3));\n",
              "        fill: #FFFFFF;\n",
              "      }\n",
              "    </style>\n",
              "    <button class=\"colab-df-generate\" onclick=\"generateWithVariable('results_df')\"\n",
              "            title=\"Generate code using this dataframe.\"\n",
              "            style=\"display:none;\">\n",
              "\n",
              "  <svg xmlns=\"http://www.w3.org/2000/svg\" height=\"24px\"viewBox=\"0 0 24 24\"\n",
              "       width=\"24px\">\n",
              "    <path d=\"M7,19H8.4L18.45,9,17,7.55,7,17.6ZM5,21V16.75L18.45,3.32a2,2,0,0,1,2.83,0l1.4,1.43a1.91,1.91,0,0,1,.58,1.4,1.91,1.91,0,0,1-.58,1.4L9.25,21ZM18.45,9,17,7.55Zm-12,3A5.31,5.31,0,0,0,4.9,8.1,5.31,5.31,0,0,0,1,6.5,5.31,5.31,0,0,0,4.9,4.9,5.31,5.31,0,0,0,6.5,1,5.31,5.31,0,0,0,8.1,4.9,5.31,5.31,0,0,0,12,6.5,5.46,5.46,0,0,0,6.5,12Z\"/>\n",
              "  </svg>\n",
              "    </button>\n",
              "    <script>\n",
              "      (() => {\n",
              "      const buttonEl =\n",
              "        document.querySelector('#id_b6eb8d98-5d8f-4620-b5df-46cead0337a5 button.colab-df-generate');\n",
              "      buttonEl.style.display =\n",
              "        google.colab.kernel.accessAllowed ? 'block' : 'none';\n",
              "\n",
              "      buttonEl.onclick = () => {\n",
              "        google.colab.notebook.generateWithVariable('results_df');\n",
              "      }\n",
              "      })();\n",
              "    </script>\n",
              "  </div>\n",
              "\n",
              "    </div>\n",
              "  </div>\n"
            ],
            "application/vnd.google.colaboratory.intrinsic+json": {
              "type": "dataframe",
              "variable_name": "results_df",
              "summary": "{\n  \"name\": \"results_df\",\n  \"rows\": 10,\n  \"fields\": [\n    {\n      \"column\": \"Dataset\",\n      \"properties\": {\n        \"dtype\": \"category\",\n        \"num_unique_values\": 2,\n        \"samples\": [\n          \"large\",\n          \"small\"\n        ],\n        \"semantic_type\": \"\",\n        \"description\": \"\"\n      }\n    },\n    {\n      \"column\": \"Vector size\",\n      \"properties\": {\n        \"dtype\": \"number\",\n        \"std\": 21,\n        \"min\": 50,\n        \"max\": 100,\n        \"num_unique_values\": 2,\n        \"samples\": [\n          100,\n          50\n        ],\n        \"semantic_type\": \"\",\n        \"description\": \"\"\n      }\n    },\n    {\n      \"column\": \"Window\",\n      \"properties\": {\n        \"dtype\": \"number\",\n        \"std\": 2,\n        \"min\": 5,\n        \"max\": 10,\n        \"num_unique_values\": 2,\n        \"samples\": [\n          10,\n          5\n        ],\n        \"semantic_type\": \"\",\n        \"description\": \"\"\n      }\n    },\n    {\n      \"column\": \"Min count\",\n      \"properties\": {\n        \"dtype\": \"number\",\n        \"std\": 1,\n        \"min\": 2,\n        \"max\": 5,\n        \"num_unique_values\": 2,\n        \"samples\": [\n          2,\n          5\n        ],\n        \"semantic_type\": \"\",\n        \"description\": \"\"\n      }\n    },\n    {\n      \"column\": \"Epochs\",\n      \"properties\": {\n        \"dtype\": \"number\",\n        \"std\": 2,\n        \"min\": 5,\n        \"max\": 10,\n        \"num_unique_values\": 2,\n        \"samples\": [\n          10,\n          5\n        ],\n        \"semantic_type\": \"\",\n        \"description\": \"\"\n      }\n    },\n    {\n      \"column\": \"Vocab size\",\n      \"properties\": {\n        \"dtype\": \"number\",\n        \"std\": 98361,\n        \"min\": 13838,\n        \"max\": 290287,\n        \"num_unique_values\": 4,\n        \"samples\": [\n          26508,\n          290287\n        ],\n        \"semantic_type\": \"\",\n        \"description\": \"\"\n      }\n    },\n    {\n      \"column\": \"Spearman rho\",\n      \"properties\": {\n        \"dtype\": \"number\",\n        \"std\": 0.2832505467920144,\n        \"min\": 0.061705343034525906,\n        \"max\": 0.6539066110731484,\n        \"num_unique_values\": 10,\n        \"samples\": [\n          0.6357040886166813,\n          0.0778064318955937\n        ],\n        \"semantic_type\": \"\",\n        \"description\": \"\"\n      }\n    },\n    {\n      \"column\": \"p-value\",\n      \"properties\": {\n        \"dtype\": \"number\",\n        \"std\": 0.10706248826195602,\n        \"min\": 3.0263652213558535e-42,\n        \"max\": 0.2859219159502587,\n        \"num_unique_values\": 10,\n        \"samples\": [\n          2.5074098198668358e-39,\n          0.21837340265671623\n        ],\n        \"semantic_type\": \"\",\n        \"description\": \"\"\n      }\n    },\n    {\n      \"column\": \"OOV pairs\",\n      \"properties\": {\n        \"dtype\": \"number\",\n        \"std\": 41,\n        \"min\": 18,\n        \"max\": 101,\n        \"num_unique_values\": 3,\n        \"samples\": [\n          101,\n          52\n        ],\n        \"semantic_type\": \"\",\n        \"description\": \"\"\n      }\n    },\n    {\n      \"column\": \"Train time (s)\",\n      \"properties\": {\n        \"dtype\": \"number\",\n        \"std\": 412.7947409239178,\n        \"min\": 4.72,\n        \"max\": 1154.1,\n        \"num_unique_values\": 10,\n        \"samples\": [\n          633.58,\n          4.72\n        ],\n        \"semantic_type\": \"\",\n        \"description\": \"\"\n      }\n    }\n  ]\n}"
            }
          },
          "metadata": {}
        }
      ]
    },
    {
      "cell_type": "code",
      "source": [
        "results_df[\"p-value (decimal)\"] = results_df[\"p-value\"].apply(lambda p: f\"{p:.20f}\")\n",
        "display(results_df)"
      ],
      "metadata": {
        "colab": {
          "base_uri": "https://localhost:8080/",
          "height": 357
        },
        "id": "rHGVD7VfFJgU",
        "outputId": "9aefc842-e84c-488c-cdb5-f99c82337312"
      },
      "execution_count": 47,
      "outputs": [
        {
          "output_type": "display_data",
          "data": {
            "text/plain": [
              "  Dataset  Vector size  Window  Min count  Epochs  Vocab size  Spearman rho  \\\n",
              "0   small           50       5          5       5       13838      0.092654   \n",
              "1   small          100       5          5       5       13838      0.077806   \n",
              "2   small           50      10          5       5       13838      0.121472   \n",
              "3   small           50       5          2       5       26508      0.061705   \n",
              "4   small           50       5          5      10       13838      0.187886   \n",
              "5   large           50       5          5       5      162898      0.636230   \n",
              "6   large          100       5          5       5      162898      0.650294   \n",
              "7   large           50      10          5       5      162898      0.653907   \n",
              "8   large           50       5          2       5      290287      0.635704   \n",
              "9   large           50       5          5      10      162898      0.633475   \n",
              "\n",
              "        p-value  OOV pairs  Train time (s)       p-value (decimal)  \n",
              "0  1.424635e-01        101            6.52  0.14246348964573674056  \n",
              "1  2.183734e-01        101            4.72  0.21837340265671623118  \n",
              "2  5.412182e-02        101            7.08  0.05412181908011853837  \n",
              "3  2.859219e-01         52            5.98  0.28592191595025867601  \n",
              "4  2.749047e-03        101           11.12  0.00274904740512093258  \n",
              "5  2.077819e-39         18          613.96  0.00000000000000000000  \n",
              "6  1.191345e-41         18          555.76  0.00000000000000000000  \n",
              "7  3.026365e-42         18          681.11  0.00000000000000000000  \n",
              "8  2.507410e-39         18          633.58  0.00000000000000000000  \n",
              "9  5.535525e-39         18         1154.10  0.00000000000000000000  "
            ],
            "text/html": [
              "\n",
              "  <div id=\"df-e8c5d6bc-b845-4da1-aae1-ab49a8cb3ac9\" class=\"colab-df-container\">\n",
              "    <div>\n",
              "<style scoped>\n",
              "    .dataframe tbody tr th:only-of-type {\n",
              "        vertical-align: middle;\n",
              "    }\n",
              "\n",
              "    .dataframe tbody tr th {\n",
              "        vertical-align: top;\n",
              "    }\n",
              "\n",
              "    .dataframe thead th {\n",
              "        text-align: right;\n",
              "    }\n",
              "</style>\n",
              "<table border=\"1\" class=\"dataframe\">\n",
              "  <thead>\n",
              "    <tr style=\"text-align: right;\">\n",
              "      <th></th>\n",
              "      <th>Dataset</th>\n",
              "      <th>Vector size</th>\n",
              "      <th>Window</th>\n",
              "      <th>Min count</th>\n",
              "      <th>Epochs</th>\n",
              "      <th>Vocab size</th>\n",
              "      <th>Spearman rho</th>\n",
              "      <th>p-value</th>\n",
              "      <th>OOV pairs</th>\n",
              "      <th>Train time (s)</th>\n",
              "      <th>p-value (decimal)</th>\n",
              "    </tr>\n",
              "  </thead>\n",
              "  <tbody>\n",
              "    <tr>\n",
              "      <th>0</th>\n",
              "      <td>small</td>\n",
              "      <td>50</td>\n",
              "      <td>5</td>\n",
              "      <td>5</td>\n",
              "      <td>5</td>\n",
              "      <td>13838</td>\n",
              "      <td>0.092654</td>\n",
              "      <td>1.424635e-01</td>\n",
              "      <td>101</td>\n",
              "      <td>6.52</td>\n",
              "      <td>0.14246348964573674056</td>\n",
              "    </tr>\n",
              "    <tr>\n",
              "      <th>1</th>\n",
              "      <td>small</td>\n",
              "      <td>100</td>\n",
              "      <td>5</td>\n",
              "      <td>5</td>\n",
              "      <td>5</td>\n",
              "      <td>13838</td>\n",
              "      <td>0.077806</td>\n",
              "      <td>2.183734e-01</td>\n",
              "      <td>101</td>\n",
              "      <td>4.72</td>\n",
              "      <td>0.21837340265671623118</td>\n",
              "    </tr>\n",
              "    <tr>\n",
              "      <th>2</th>\n",
              "      <td>small</td>\n",
              "      <td>50</td>\n",
              "      <td>10</td>\n",
              "      <td>5</td>\n",
              "      <td>5</td>\n",
              "      <td>13838</td>\n",
              "      <td>0.121472</td>\n",
              "      <td>5.412182e-02</td>\n",
              "      <td>101</td>\n",
              "      <td>7.08</td>\n",
              "      <td>0.05412181908011853837</td>\n",
              "    </tr>\n",
              "    <tr>\n",
              "      <th>3</th>\n",
              "      <td>small</td>\n",
              "      <td>50</td>\n",
              "      <td>5</td>\n",
              "      <td>2</td>\n",
              "      <td>5</td>\n",
              "      <td>26508</td>\n",
              "      <td>0.061705</td>\n",
              "      <td>2.859219e-01</td>\n",
              "      <td>52</td>\n",
              "      <td>5.98</td>\n",
              "      <td>0.28592191595025867601</td>\n",
              "    </tr>\n",
              "    <tr>\n",
              "      <th>4</th>\n",
              "      <td>small</td>\n",
              "      <td>50</td>\n",
              "      <td>5</td>\n",
              "      <td>5</td>\n",
              "      <td>10</td>\n",
              "      <td>13838</td>\n",
              "      <td>0.187886</td>\n",
              "      <td>2.749047e-03</td>\n",
              "      <td>101</td>\n",
              "      <td>11.12</td>\n",
              "      <td>0.00274904740512093258</td>\n",
              "    </tr>\n",
              "    <tr>\n",
              "      <th>5</th>\n",
              "      <td>large</td>\n",
              "      <td>50</td>\n",
              "      <td>5</td>\n",
              "      <td>5</td>\n",
              "      <td>5</td>\n",
              "      <td>162898</td>\n",
              "      <td>0.636230</td>\n",
              "      <td>2.077819e-39</td>\n",
              "      <td>18</td>\n",
              "      <td>613.96</td>\n",
              "      <td>0.00000000000000000000</td>\n",
              "    </tr>\n",
              "    <tr>\n",
              "      <th>6</th>\n",
              "      <td>large</td>\n",
              "      <td>100</td>\n",
              "      <td>5</td>\n",
              "      <td>5</td>\n",
              "      <td>5</td>\n",
              "      <td>162898</td>\n",
              "      <td>0.650294</td>\n",
              "      <td>1.191345e-41</td>\n",
              "      <td>18</td>\n",
              "      <td>555.76</td>\n",
              "      <td>0.00000000000000000000</td>\n",
              "    </tr>\n",
              "    <tr>\n",
              "      <th>7</th>\n",
              "      <td>large</td>\n",
              "      <td>50</td>\n",
              "      <td>10</td>\n",
              "      <td>5</td>\n",
              "      <td>5</td>\n",
              "      <td>162898</td>\n",
              "      <td>0.653907</td>\n",
              "      <td>3.026365e-42</td>\n",
              "      <td>18</td>\n",
              "      <td>681.11</td>\n",
              "      <td>0.00000000000000000000</td>\n",
              "    </tr>\n",
              "    <tr>\n",
              "      <th>8</th>\n",
              "      <td>large</td>\n",
              "      <td>50</td>\n",
              "      <td>5</td>\n",
              "      <td>2</td>\n",
              "      <td>5</td>\n",
              "      <td>290287</td>\n",
              "      <td>0.635704</td>\n",
              "      <td>2.507410e-39</td>\n",
              "      <td>18</td>\n",
              "      <td>633.58</td>\n",
              "      <td>0.00000000000000000000</td>\n",
              "    </tr>\n",
              "    <tr>\n",
              "      <th>9</th>\n",
              "      <td>large</td>\n",
              "      <td>50</td>\n",
              "      <td>5</td>\n",
              "      <td>5</td>\n",
              "      <td>10</td>\n",
              "      <td>162898</td>\n",
              "      <td>0.633475</td>\n",
              "      <td>5.535525e-39</td>\n",
              "      <td>18</td>\n",
              "      <td>1154.10</td>\n",
              "      <td>0.00000000000000000000</td>\n",
              "    </tr>\n",
              "  </tbody>\n",
              "</table>\n",
              "</div>\n",
              "    <div class=\"colab-df-buttons\">\n",
              "\n",
              "  <div class=\"colab-df-container\">\n",
              "    <button class=\"colab-df-convert\" onclick=\"convertToInteractive('df-e8c5d6bc-b845-4da1-aae1-ab49a8cb3ac9')\"\n",
              "            title=\"Convert this dataframe to an interactive table.\"\n",
              "            style=\"display:none;\">\n",
              "\n",
              "  <svg xmlns=\"http://www.w3.org/2000/svg\" height=\"24px\" viewBox=\"0 -960 960 960\">\n",
              "    <path d=\"M120-120v-720h720v720H120Zm60-500h600v-160H180v160Zm220 220h160v-160H400v160Zm0 220h160v-160H400v160ZM180-400h160v-160H180v160Zm440 0h160v-160H620v160ZM180-180h160v-160H180v160Zm440 0h160v-160H620v160Z\"/>\n",
              "  </svg>\n",
              "    </button>\n",
              "\n",
              "  <style>\n",
              "    .colab-df-container {\n",
              "      display:flex;\n",
              "      gap: 12px;\n",
              "    }\n",
              "\n",
              "    .colab-df-convert {\n",
              "      background-color: #E8F0FE;\n",
              "      border: none;\n",
              "      border-radius: 50%;\n",
              "      cursor: pointer;\n",
              "      display: none;\n",
              "      fill: #1967D2;\n",
              "      height: 32px;\n",
              "      padding: 0 0 0 0;\n",
              "      width: 32px;\n",
              "    }\n",
              "\n",
              "    .colab-df-convert:hover {\n",
              "      background-color: #E2EBFA;\n",
              "      box-shadow: 0px 1px 2px rgba(60, 64, 67, 0.3), 0px 1px 3px 1px rgba(60, 64, 67, 0.15);\n",
              "      fill: #174EA6;\n",
              "    }\n",
              "\n",
              "    .colab-df-buttons div {\n",
              "      margin-bottom: 4px;\n",
              "    }\n",
              "\n",
              "    [theme=dark] .colab-df-convert {\n",
              "      background-color: #3B4455;\n",
              "      fill: #D2E3FC;\n",
              "    }\n",
              "\n",
              "    [theme=dark] .colab-df-convert:hover {\n",
              "      background-color: #434B5C;\n",
              "      box-shadow: 0px 1px 3px 1px rgba(0, 0, 0, 0.15);\n",
              "      filter: drop-shadow(0px 1px 2px rgba(0, 0, 0, 0.3));\n",
              "      fill: #FFFFFF;\n",
              "    }\n",
              "  </style>\n",
              "\n",
              "    <script>\n",
              "      const buttonEl =\n",
              "        document.querySelector('#df-e8c5d6bc-b845-4da1-aae1-ab49a8cb3ac9 button.colab-df-convert');\n",
              "      buttonEl.style.display =\n",
              "        google.colab.kernel.accessAllowed ? 'block' : 'none';\n",
              "\n",
              "      async function convertToInteractive(key) {\n",
              "        const element = document.querySelector('#df-e8c5d6bc-b845-4da1-aae1-ab49a8cb3ac9');\n",
              "        const dataTable =\n",
              "          await google.colab.kernel.invokeFunction('convertToInteractive',\n",
              "                                                    [key], {});\n",
              "        if (!dataTable) return;\n",
              "\n",
              "        const docLinkHtml = 'Like what you see? Visit the ' +\n",
              "          '<a target=\"_blank\" href=https://colab.research.google.com/notebooks/data_table.ipynb>data table notebook</a>'\n",
              "          + ' to learn more about interactive tables.';\n",
              "        element.innerHTML = '';\n",
              "        dataTable['output_type'] = 'display_data';\n",
              "        await google.colab.output.renderOutput(dataTable, element);\n",
              "        const docLink = document.createElement('div');\n",
              "        docLink.innerHTML = docLinkHtml;\n",
              "        element.appendChild(docLink);\n",
              "      }\n",
              "    </script>\n",
              "  </div>\n",
              "\n",
              "\n",
              "    <div id=\"df-fddf9e9a-fef0-4635-ab25-e524867ca8f4\">\n",
              "      <button class=\"colab-df-quickchart\" onclick=\"quickchart('df-fddf9e9a-fef0-4635-ab25-e524867ca8f4')\"\n",
              "                title=\"Suggest charts\"\n",
              "                style=\"display:none;\">\n",
              "\n",
              "<svg xmlns=\"http://www.w3.org/2000/svg\" height=\"24px\"viewBox=\"0 0 24 24\"\n",
              "     width=\"24px\">\n",
              "    <g>\n",
              "        <path d=\"M19 3H5c-1.1 0-2 .9-2 2v14c0 1.1.9 2 2 2h14c1.1 0 2-.9 2-2V5c0-1.1-.9-2-2-2zM9 17H7v-7h2v7zm4 0h-2V7h2v10zm4 0h-2v-4h2v4z\"/>\n",
              "    </g>\n",
              "</svg>\n",
              "      </button>\n",
              "\n",
              "<style>\n",
              "  .colab-df-quickchart {\n",
              "      --bg-color: #E8F0FE;\n",
              "      --fill-color: #1967D2;\n",
              "      --hover-bg-color: #E2EBFA;\n",
              "      --hover-fill-color: #174EA6;\n",
              "      --disabled-fill-color: #AAA;\n",
              "      --disabled-bg-color: #DDD;\n",
              "  }\n",
              "\n",
              "  [theme=dark] .colab-df-quickchart {\n",
              "      --bg-color: #3B4455;\n",
              "      --fill-color: #D2E3FC;\n",
              "      --hover-bg-color: #434B5C;\n",
              "      --hover-fill-color: #FFFFFF;\n",
              "      --disabled-bg-color: #3B4455;\n",
              "      --disabled-fill-color: #666;\n",
              "  }\n",
              "\n",
              "  .colab-df-quickchart {\n",
              "    background-color: var(--bg-color);\n",
              "    border: none;\n",
              "    border-radius: 50%;\n",
              "    cursor: pointer;\n",
              "    display: none;\n",
              "    fill: var(--fill-color);\n",
              "    height: 32px;\n",
              "    padding: 0;\n",
              "    width: 32px;\n",
              "  }\n",
              "\n",
              "  .colab-df-quickchart:hover {\n",
              "    background-color: var(--hover-bg-color);\n",
              "    box-shadow: 0 1px 2px rgba(60, 64, 67, 0.3), 0 1px 3px 1px rgba(60, 64, 67, 0.15);\n",
              "    fill: var(--button-hover-fill-color);\n",
              "  }\n",
              "\n",
              "  .colab-df-quickchart-complete:disabled,\n",
              "  .colab-df-quickchart-complete:disabled:hover {\n",
              "    background-color: var(--disabled-bg-color);\n",
              "    fill: var(--disabled-fill-color);\n",
              "    box-shadow: none;\n",
              "  }\n",
              "\n",
              "  .colab-df-spinner {\n",
              "    border: 2px solid var(--fill-color);\n",
              "    border-color: transparent;\n",
              "    border-bottom-color: var(--fill-color);\n",
              "    animation:\n",
              "      spin 1s steps(1) infinite;\n",
              "  }\n",
              "\n",
              "  @keyframes spin {\n",
              "    0% {\n",
              "      border-color: transparent;\n",
              "      border-bottom-color: var(--fill-color);\n",
              "      border-left-color: var(--fill-color);\n",
              "    }\n",
              "    20% {\n",
              "      border-color: transparent;\n",
              "      border-left-color: var(--fill-color);\n",
              "      border-top-color: var(--fill-color);\n",
              "    }\n",
              "    30% {\n",
              "      border-color: transparent;\n",
              "      border-left-color: var(--fill-color);\n",
              "      border-top-color: var(--fill-color);\n",
              "      border-right-color: var(--fill-color);\n",
              "    }\n",
              "    40% {\n",
              "      border-color: transparent;\n",
              "      border-right-color: var(--fill-color);\n",
              "      border-top-color: var(--fill-color);\n",
              "    }\n",
              "    60% {\n",
              "      border-color: transparent;\n",
              "      border-right-color: var(--fill-color);\n",
              "    }\n",
              "    80% {\n",
              "      border-color: transparent;\n",
              "      border-right-color: var(--fill-color);\n",
              "      border-bottom-color: var(--fill-color);\n",
              "    }\n",
              "    90% {\n",
              "      border-color: transparent;\n",
              "      border-bottom-color: var(--fill-color);\n",
              "    }\n",
              "  }\n",
              "</style>\n",
              "\n",
              "      <script>\n",
              "        async function quickchart(key) {\n",
              "          const quickchartButtonEl =\n",
              "            document.querySelector('#' + key + ' button');\n",
              "          quickchartButtonEl.disabled = true;  // To prevent multiple clicks.\n",
              "          quickchartButtonEl.classList.add('colab-df-spinner');\n",
              "          try {\n",
              "            const charts = await google.colab.kernel.invokeFunction(\n",
              "                'suggestCharts', [key], {});\n",
              "          } catch (error) {\n",
              "            console.error('Error during call to suggestCharts:', error);\n",
              "          }\n",
              "          quickchartButtonEl.classList.remove('colab-df-spinner');\n",
              "          quickchartButtonEl.classList.add('colab-df-quickchart-complete');\n",
              "        }\n",
              "        (() => {\n",
              "          let quickchartButtonEl =\n",
              "            document.querySelector('#df-fddf9e9a-fef0-4635-ab25-e524867ca8f4 button');\n",
              "          quickchartButtonEl.style.display =\n",
              "            google.colab.kernel.accessAllowed ? 'block' : 'none';\n",
              "        })();\n",
              "      </script>\n",
              "    </div>\n",
              "\n",
              "  <div id=\"id_981bac38-85d0-4e1c-8798-2a1e7030b215\">\n",
              "    <style>\n",
              "      .colab-df-generate {\n",
              "        background-color: #E8F0FE;\n",
              "        border: none;\n",
              "        border-radius: 50%;\n",
              "        cursor: pointer;\n",
              "        display: none;\n",
              "        fill: #1967D2;\n",
              "        height: 32px;\n",
              "        padding: 0 0 0 0;\n",
              "        width: 32px;\n",
              "      }\n",
              "\n",
              "      .colab-df-generate:hover {\n",
              "        background-color: #E2EBFA;\n",
              "        box-shadow: 0px 1px 2px rgba(60, 64, 67, 0.3), 0px 1px 3px 1px rgba(60, 64, 67, 0.15);\n",
              "        fill: #174EA6;\n",
              "      }\n",
              "\n",
              "      [theme=dark] .colab-df-generate {\n",
              "        background-color: #3B4455;\n",
              "        fill: #D2E3FC;\n",
              "      }\n",
              "\n",
              "      [theme=dark] .colab-df-generate:hover {\n",
              "        background-color: #434B5C;\n",
              "        box-shadow: 0px 1px 3px 1px rgba(0, 0, 0, 0.15);\n",
              "        filter: drop-shadow(0px 1px 2px rgba(0, 0, 0, 0.3));\n",
              "        fill: #FFFFFF;\n",
              "      }\n",
              "    </style>\n",
              "    <button class=\"colab-df-generate\" onclick=\"generateWithVariable('results_df')\"\n",
              "            title=\"Generate code using this dataframe.\"\n",
              "            style=\"display:none;\">\n",
              "\n",
              "  <svg xmlns=\"http://www.w3.org/2000/svg\" height=\"24px\"viewBox=\"0 0 24 24\"\n",
              "       width=\"24px\">\n",
              "    <path d=\"M7,19H8.4L18.45,9,17,7.55,7,17.6ZM5,21V16.75L18.45,3.32a2,2,0,0,1,2.83,0l1.4,1.43a1.91,1.91,0,0,1,.58,1.4,1.91,1.91,0,0,1-.58,1.4L9.25,21ZM18.45,9,17,7.55Zm-12,3A5.31,5.31,0,0,0,4.9,8.1,5.31,5.31,0,0,0,1,6.5,5.31,5.31,0,0,0,4.9,4.9,5.31,5.31,0,0,0,6.5,1,5.31,5.31,0,0,0,8.1,4.9,5.31,5.31,0,0,0,12,6.5,5.46,5.46,0,0,0,6.5,12Z\"/>\n",
              "  </svg>\n",
              "    </button>\n",
              "    <script>\n",
              "      (() => {\n",
              "      const buttonEl =\n",
              "        document.querySelector('#id_981bac38-85d0-4e1c-8798-2a1e7030b215 button.colab-df-generate');\n",
              "      buttonEl.style.display =\n",
              "        google.colab.kernel.accessAllowed ? 'block' : 'none';\n",
              "\n",
              "      buttonEl.onclick = () => {\n",
              "        google.colab.notebook.generateWithVariable('results_df');\n",
              "      }\n",
              "      })();\n",
              "    </script>\n",
              "  </div>\n",
              "\n",
              "    </div>\n",
              "  </div>\n"
            ],
            "application/vnd.google.colaboratory.intrinsic+json": {
              "type": "dataframe",
              "variable_name": "results_df",
              "summary": "{\n  \"name\": \"results_df\",\n  \"rows\": 10,\n  \"fields\": [\n    {\n      \"column\": \"Dataset\",\n      \"properties\": {\n        \"dtype\": \"category\",\n        \"num_unique_values\": 2,\n        \"samples\": [\n          \"large\",\n          \"small\"\n        ],\n        \"semantic_type\": \"\",\n        \"description\": \"\"\n      }\n    },\n    {\n      \"column\": \"Vector size\",\n      \"properties\": {\n        \"dtype\": \"number\",\n        \"std\": 21,\n        \"min\": 50,\n        \"max\": 100,\n        \"num_unique_values\": 2,\n        \"samples\": [\n          100,\n          50\n        ],\n        \"semantic_type\": \"\",\n        \"description\": \"\"\n      }\n    },\n    {\n      \"column\": \"Window\",\n      \"properties\": {\n        \"dtype\": \"number\",\n        \"std\": 2,\n        \"min\": 5,\n        \"max\": 10,\n        \"num_unique_values\": 2,\n        \"samples\": [\n          10,\n          5\n        ],\n        \"semantic_type\": \"\",\n        \"description\": \"\"\n      }\n    },\n    {\n      \"column\": \"Min count\",\n      \"properties\": {\n        \"dtype\": \"number\",\n        \"std\": 1,\n        \"min\": 2,\n        \"max\": 5,\n        \"num_unique_values\": 2,\n        \"samples\": [\n          2,\n          5\n        ],\n        \"semantic_type\": \"\",\n        \"description\": \"\"\n      }\n    },\n    {\n      \"column\": \"Epochs\",\n      \"properties\": {\n        \"dtype\": \"number\",\n        \"std\": 2,\n        \"min\": 5,\n        \"max\": 10,\n        \"num_unique_values\": 2,\n        \"samples\": [\n          10,\n          5\n        ],\n        \"semantic_type\": \"\",\n        \"description\": \"\"\n      }\n    },\n    {\n      \"column\": \"Vocab size\",\n      \"properties\": {\n        \"dtype\": \"number\",\n        \"std\": 98361,\n        \"min\": 13838,\n        \"max\": 290287,\n        \"num_unique_values\": 4,\n        \"samples\": [\n          26508,\n          290287\n        ],\n        \"semantic_type\": \"\",\n        \"description\": \"\"\n      }\n    },\n    {\n      \"column\": \"Spearman rho\",\n      \"properties\": {\n        \"dtype\": \"number\",\n        \"std\": 0.2832505467920144,\n        \"min\": 0.061705343034525906,\n        \"max\": 0.6539066110731484,\n        \"num_unique_values\": 10,\n        \"samples\": [\n          0.6357040886166813,\n          0.0778064318955937\n        ],\n        \"semantic_type\": \"\",\n        \"description\": \"\"\n      }\n    },\n    {\n      \"column\": \"p-value\",\n      \"properties\": {\n        \"dtype\": \"number\",\n        \"std\": 0.10706248826195602,\n        \"min\": 3.0263652213558535e-42,\n        \"max\": 0.2859219159502587,\n        \"num_unique_values\": 10,\n        \"samples\": [\n          2.5074098198668358e-39,\n          0.21837340265671623\n        ],\n        \"semantic_type\": \"\",\n        \"description\": \"\"\n      }\n    },\n    {\n      \"column\": \"OOV pairs\",\n      \"properties\": {\n        \"dtype\": \"number\",\n        \"std\": 41,\n        \"min\": 18,\n        \"max\": 101,\n        \"num_unique_values\": 3,\n        \"samples\": [\n          101,\n          52\n        ],\n        \"semantic_type\": \"\",\n        \"description\": \"\"\n      }\n    },\n    {\n      \"column\": \"Train time (s)\",\n      \"properties\": {\n        \"dtype\": \"number\",\n        \"std\": 412.7947409239178,\n        \"min\": 4.72,\n        \"max\": 1154.1,\n        \"num_unique_values\": 10,\n        \"samples\": [\n          633.58,\n          4.72\n        ],\n        \"semantic_type\": \"\",\n        \"description\": \"\"\n      }\n    },\n    {\n      \"column\": \"p-value (decimal)\",\n      \"properties\": {\n        \"dtype\": \"string\",\n        \"num_unique_values\": 6,\n        \"samples\": [\n          \"0.14246348964573674056\",\n          \"0.21837340265671623118\"\n        ],\n        \"semantic_type\": \"\",\n        \"description\": \"\"\n      }\n    }\n  ]\n}"
            }
          },
          "metadata": {}
        }
      ]
    },
    {
      "cell_type": "code",
      "source": [
        "results_df.to_csv(\"hyperparameterTuningResults.csv\", index=False)"
      ],
      "metadata": {
        "id": "yONatWu4Bpe9"
      },
      "execution_count": 40,
      "outputs": []
    },
    {
      "cell_type": "markdown",
      "source": [
        "# Analogies"
      ],
      "metadata": {
        "id": "NrvdGOw7WvI2"
      }
    },
    {
      "cell_type": "code",
      "source": [
        "def analogy(model, w1, w2, w3):\n",
        "  try:\n",
        "    results = model.most_similar(positive=[w2,w3], negative=[w1], topn=5)\n",
        "    print(\"\\n\", w1, \" is to \", w2, \" as \", w3, \" is to ?\")\n",
        "    for rank, (word, score) in enumerate(results, 1):\n",
        "      print(f\"{rank}. {word} ({score:.4f})\")\n",
        "    return results\n",
        "  except KeyError as e:\n",
        "    print(\"word not in vocab\")\n",
        "    return []"
      ],
      "metadata": {
        "id": "FeaABCn2WxVg"
      },
      "execution_count": 100,
      "outputs": []
    },
    {
      "cell_type": "markdown",
      "source": [
        "Analogies"
      ],
      "metadata": {
        "id": "3ET-a3V2cZln"
      }
    },
    {
      "cell_type": "code",
      "source": [
        "analogy(googleNews_model, \"man\", \"woman\", \"king\")\n",
        "analogy(googleNews_model, \"Athens\", \"Greece\", \"Rome\")\n",
        "analogy(googleNews_model, \"reading\", \"read\", \"playing\")\n",
        "analogy(googleNews_model, \"Greece\", \"souvlaki\", \"Italy\")\n",
        "analogy(googleNews_model, \"airplane\", \"propeller\", \"car\")"
      ],
      "metadata": {
        "colab": {
          "base_uri": "https://localhost:8080/"
        },
        "id": "4gL7w4LpY367",
        "outputId": "928eb154-abc7-433e-b2ae-7236fcbffc6f"
      },
      "execution_count": 101,
      "outputs": [
        {
          "output_type": "stream",
          "name": "stdout",
          "text": [
            "\n",
            " man  is to  woman  as  king  is to ?\n",
            "1. queen (0.7118)\n",
            "2. monarch (0.6190)\n",
            "3. princess (0.5902)\n",
            "4. crown_prince (0.5499)\n",
            "5. prince (0.5377)\n",
            "\n",
            " Athens  is to  Greece  as  Rome  is to ?\n",
            "1. Italy (0.6826)\n",
            "2. Sicily (0.5808)\n",
            "3. Portugal (0.5467)\n",
            "4. Italian (0.5194)\n",
            "5. ANSA (0.5114)\n",
            "\n",
            " reading  is to  read  as  playing  is to ?\n",
            "1. played (0.7010)\n",
            "2. play (0.6676)\n",
            "3. Playing (0.5651)\n",
            "4. playin (0.5131)\n",
            "5. toplay (0.4870)\n",
            "\n",
            " Greece  is to  souvlaki  as  Italy  is to ?\n",
            "1. quiche_Lorraine (0.5962)\n",
            "2. gelati (0.5909)\n",
            "3. pesce (0.5880)\n",
            "4. pizza_margherita (0.5872)\n",
            "5. porchetta (0.5866)\n",
            "\n",
            " airplane  is to  propeller  as  car  is to ?\n",
            "1. steering_wheel (0.5703)\n",
            "2. front_fender (0.5417)\n",
            "3. fender (0.5393)\n",
            "4. Ford_Festiva (0.5320)\n",
            "5. Nissan_###ZX (0.5274)\n"
          ]
        },
        {
          "output_type": "execute_result",
          "data": {
            "text/plain": [
              "[('steering_wheel', 0.5702899694442749),\n",
              " ('front_fender', 0.5416868925094604),\n",
              " ('fender', 0.5393295884132385),\n",
              " ('Ford_Festiva', 0.5320079922676086),\n",
              " ('Nissan_###ZX', 0.5273997187614441)]"
            ]
          },
          "metadata": {},
          "execution_count": 101
        }
      ]
    },
    {
      "cell_type": "markdown",
      "source": [
        "Gender bias checking"
      ],
      "metadata": {
        "id": "rqblGirVcR4j"
      }
    },
    {
      "cell_type": "code",
      "source": [
        "\n",
        "analogy(googleNews_model, \"man\", \"woman\", \"computer_programmer\")\n",
        "analogy(googleNews_model, \"man\", \"woman\", \"superstar\")\n",
        "analogy(googleNews_model, \"man\", \"woman\", \"guitarist\")\n",
        "analogy(googleNews_model, \"man\", \"woman\", \"boss\")\n"
      ],
      "metadata": {
        "colab": {
          "base_uri": "https://localhost:8080/"
        },
        "id": "1tm0kwcGaaCg",
        "outputId": "ca7598fa-aa51-4780-de8f-e84b46486919"
      },
      "execution_count": 102,
      "outputs": [
        {
          "output_type": "stream",
          "name": "stdout",
          "text": [
            "\n",
            " man  is to  woman  as  computer_programmer  is to ?\n",
            "1. homemaker (0.5627)\n",
            "2. housewife (0.5105)\n",
            "3. graphic_designer (0.5052)\n",
            "4. schoolteacher (0.4979)\n",
            "5. businesswoman (0.4935)\n",
            "\n",
            " man  is to  woman  as  superstar  is to ?\n",
            "1. megastar (0.6585)\n",
            "2. diva (0.6237)\n",
            "3. pop_diva (0.5787)\n",
            "4. star (0.5745)\n",
            "5. songstress (0.5550)\n",
            "\n",
            " man  is to  woman  as  guitarist  is to ?\n",
            "1. vocalist (0.7626)\n",
            "2. drummer (0.6976)\n",
            "3. bassist (0.6961)\n",
            "4. singer_guitarist (0.6777)\n",
            "5. guitarist_vocalist (0.6640)\n",
            "\n",
            " man  is to  woman  as  boss  is to ?\n",
            "1. bosses (0.5523)\n",
            "2. manageress (0.4915)\n",
            "3. exec (0.4594)\n",
            "4. Manageress (0.4560)\n",
            "5. receptionist (0.4474)\n"
          ]
        },
        {
          "output_type": "execute_result",
          "data": {
            "text/plain": [
              "[('bosses', 0.5522644519805908),\n",
              " ('manageress', 0.49151360988616943),\n",
              " ('exec', 0.45940810441970825),\n",
              " ('Manageress', 0.4559843838214874),\n",
              " ('receptionist', 0.4474116563796997)]"
            ]
          },
          "metadata": {},
          "execution_count": 102
        }
      ]
    }
  ],
  "metadata": {
    "colab": {
      "provenance": []
    },
    "kernelspec": {
      "display_name": "athnlp-lab3",
      "language": "python",
      "name": "python3"
    },
    "language_info": {
      "codemirror_mode": {
        "name": "ipython",
        "version": 3
      },
      "file_extension": ".py",
      "mimetype": "text/x-python",
      "name": "python",
      "nbconvert_exporter": "python",
      "pygments_lexer": "ipython3",
      "version": "3.11.9"
    }
  },
  "nbformat": 4,
  "nbformat_minor": 0
}